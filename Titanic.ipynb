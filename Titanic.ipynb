{
  "nbformat": 4,
  "nbformat_minor": 0,
  "metadata": {
    "colab": {
      "name": "Titanic",
      "provenance": [],
      "collapsed_sections": [
        "yqAhZcgb5o7z",
        "2GV0HsCm8B7f"
      ],
      "toc_visible": true
    },
    "kernelspec": {
      "display_name": "Python 3",
      "name": "python3"
    }
  },
  "cells": [
    {
      "cell_type": "markdown",
      "metadata": {
        "id": "jkajF57JCf4t"
      },
      "source": [
        "#Titanic - Machine Learning from Disaster"
      ]
    },
    {
      "cell_type": "markdown",
      "metadata": {
        "id": "NpSjmvunMdHM"
      },
      "source": [
        "###We will be using the [Titanic datasets](https://www.kaggle.com/c/titanic/)"
      ]
    },
    {
      "cell_type": "markdown",
      "metadata": {
        "id": "IIxYFevUiMZM"
      },
      "source": [
        "### Read the data using pandas dataframe"
      ]
    },
    {
      "cell_type": "markdown",
      "metadata": {
        "id": "wrPszGTeMAEY"
      },
      "source": [
        "Using the Pandas dataframe, will convert raw csv files, to structured dataframe (pretty much like excel),for type of format please refer to [Pandas Documentation](https://pandas.pydata.org/pandas-docs/stable/user_guide/io.html) "
      ]
    },
    {
      "cell_type": "code",
      "metadata": {
        "id": "4QsFOgbuiQiZ"
      },
      "source": [
        "import pandas as pd\r\n",
        "df = pd.read_csv(\"https://raw.githubusercontent.com/henseljahja/learn-ml/main/titanic_train_data.csv\")"
      ],
      "execution_count": 1,
      "outputs": []
    },
    {
      "cell_type": "markdown",
      "metadata": {
        "id": "zQKYHISnMR8G"
      },
      "source": [
        "Showing the top 5 (by default) of the csv file"
      ]
    },
    {
      "cell_type": "code",
      "metadata": {
        "colab": {
          "base_uri": "https://localhost:8080/",
          "height": 206
        },
        "id": "-jbzFnbCiVGc",
        "outputId": "f58af5b9-d928-4bb3-e212-a54aacb14361"
      },
      "source": [
        "df.head()"
      ],
      "execution_count": 2,
      "outputs": [
        {
          "output_type": "execute_result",
          "data": {
            "text/html": [
              "<div>\n",
              "<style scoped>\n",
              "    .dataframe tbody tr th:only-of-type {\n",
              "        vertical-align: middle;\n",
              "    }\n",
              "\n",
              "    .dataframe tbody tr th {\n",
              "        vertical-align: top;\n",
              "    }\n",
              "\n",
              "    .dataframe thead th {\n",
              "        text-align: right;\n",
              "    }\n",
              "</style>\n",
              "<table border=\"1\" class=\"dataframe\">\n",
              "  <thead>\n",
              "    <tr style=\"text-align: right;\">\n",
              "      <th></th>\n",
              "      <th>PassengerId</th>\n",
              "      <th>Survived</th>\n",
              "      <th>Pclass</th>\n",
              "      <th>Name</th>\n",
              "      <th>Sex</th>\n",
              "      <th>Age</th>\n",
              "      <th>SibSp</th>\n",
              "      <th>Parch</th>\n",
              "      <th>Ticket</th>\n",
              "      <th>Fare</th>\n",
              "      <th>Cabin</th>\n",
              "      <th>Embarked</th>\n",
              "    </tr>\n",
              "  </thead>\n",
              "  <tbody>\n",
              "    <tr>\n",
              "      <th>0</th>\n",
              "      <td>1</td>\n",
              "      <td>0</td>\n",
              "      <td>3</td>\n",
              "      <td>Braund, Mr. Owen Harris</td>\n",
              "      <td>male</td>\n",
              "      <td>22.0</td>\n",
              "      <td>1</td>\n",
              "      <td>0</td>\n",
              "      <td>A/5 21171</td>\n",
              "      <td>7.2500</td>\n",
              "      <td>NaN</td>\n",
              "      <td>S</td>\n",
              "    </tr>\n",
              "    <tr>\n",
              "      <th>1</th>\n",
              "      <td>2</td>\n",
              "      <td>1</td>\n",
              "      <td>1</td>\n",
              "      <td>Cumings, Mrs. John Bradley (Florence Briggs Th...</td>\n",
              "      <td>female</td>\n",
              "      <td>38.0</td>\n",
              "      <td>1</td>\n",
              "      <td>0</td>\n",
              "      <td>PC 17599</td>\n",
              "      <td>71.2833</td>\n",
              "      <td>C85</td>\n",
              "      <td>C</td>\n",
              "    </tr>\n",
              "    <tr>\n",
              "      <th>2</th>\n",
              "      <td>3</td>\n",
              "      <td>1</td>\n",
              "      <td>3</td>\n",
              "      <td>Heikkinen, Miss. Laina</td>\n",
              "      <td>female</td>\n",
              "      <td>26.0</td>\n",
              "      <td>0</td>\n",
              "      <td>0</td>\n",
              "      <td>STON/O2. 3101282</td>\n",
              "      <td>7.9250</td>\n",
              "      <td>NaN</td>\n",
              "      <td>S</td>\n",
              "    </tr>\n",
              "    <tr>\n",
              "      <th>3</th>\n",
              "      <td>4</td>\n",
              "      <td>1</td>\n",
              "      <td>1</td>\n",
              "      <td>Futrelle, Mrs. Jacques Heath (Lily May Peel)</td>\n",
              "      <td>female</td>\n",
              "      <td>35.0</td>\n",
              "      <td>1</td>\n",
              "      <td>0</td>\n",
              "      <td>113803</td>\n",
              "      <td>53.1000</td>\n",
              "      <td>C123</td>\n",
              "      <td>S</td>\n",
              "    </tr>\n",
              "    <tr>\n",
              "      <th>4</th>\n",
              "      <td>5</td>\n",
              "      <td>0</td>\n",
              "      <td>3</td>\n",
              "      <td>Allen, Mr. William Henry</td>\n",
              "      <td>male</td>\n",
              "      <td>35.0</td>\n",
              "      <td>0</td>\n",
              "      <td>0</td>\n",
              "      <td>373450</td>\n",
              "      <td>8.0500</td>\n",
              "      <td>NaN</td>\n",
              "      <td>S</td>\n",
              "    </tr>\n",
              "  </tbody>\n",
              "</table>\n",
              "</div>"
            ],
            "text/plain": [
              "   PassengerId  Survived  Pclass  ...     Fare Cabin  Embarked\n",
              "0            1         0       3  ...   7.2500   NaN         S\n",
              "1            2         1       1  ...  71.2833   C85         C\n",
              "2            3         1       3  ...   7.9250   NaN         S\n",
              "3            4         1       1  ...  53.1000  C123         S\n",
              "4            5         0       3  ...   8.0500   NaN         S\n",
              "\n",
              "[5 rows x 12 columns]"
            ]
          },
          "metadata": {
            "tags": []
          },
          "execution_count": 2
        }
      ]
    },
    {
      "cell_type": "code",
      "metadata": {
        "colab": {
          "base_uri": "https://localhost:8080/"
        },
        "id": "17znTRPPjbb3",
        "outputId": "54890c08-0acb-445a-f28f-bfc7d3f2b57b"
      },
      "source": [
        "df.info()"
      ],
      "execution_count": null,
      "outputs": [
        {
          "output_type": "stream",
          "text": [
            "<class 'pandas.core.frame.DataFrame'>\n",
            "RangeIndex: 891 entries, 0 to 890\n",
            "Data columns (total 12 columns):\n",
            " #   Column       Non-Null Count  Dtype  \n",
            "---  ------       --------------  -----  \n",
            " 0   PassengerId  891 non-null    int64  \n",
            " 1   Survived     891 non-null    int64  \n",
            " 2   Pclass       891 non-null    int64  \n",
            " 3   Name         891 non-null    object \n",
            " 4   Sex          891 non-null    object \n",
            " 5   Age          714 non-null    float64\n",
            " 6   SibSp        891 non-null    int64  \n",
            " 7   Parch        891 non-null    int64  \n",
            " 8   Ticket       891 non-null    object \n",
            " 9   Fare         891 non-null    float64\n",
            " 10  Cabin        204 non-null    object \n",
            " 11  Embarked     889 non-null    object \n",
            "dtypes: float64(2), int64(5), object(5)\n",
            "memory usage: 83.7+ KB\n"
          ],
          "name": "stdout"
        }
      ]
    },
    {
      "cell_type": "code",
      "metadata": {
        "colab": {
          "base_uri": "https://localhost:8080/",
          "height": 300
        },
        "id": "2WCyMoO4jeHm",
        "outputId": "9aa51072-2e0f-42b5-c2ca-54a2e2665f9b"
      },
      "source": [
        "df.describe()"
      ],
      "execution_count": null,
      "outputs": [
        {
          "output_type": "execute_result",
          "data": {
            "text/html": [
              "<div>\n",
              "<style scoped>\n",
              "    .dataframe tbody tr th:only-of-type {\n",
              "        vertical-align: middle;\n",
              "    }\n",
              "\n",
              "    .dataframe tbody tr th {\n",
              "        vertical-align: top;\n",
              "    }\n",
              "\n",
              "    .dataframe thead th {\n",
              "        text-align: right;\n",
              "    }\n",
              "</style>\n",
              "<table border=\"1\" class=\"dataframe\">\n",
              "  <thead>\n",
              "    <tr style=\"text-align: right;\">\n",
              "      <th></th>\n",
              "      <th>PassengerId</th>\n",
              "      <th>Survived</th>\n",
              "      <th>Pclass</th>\n",
              "      <th>Age</th>\n",
              "      <th>SibSp</th>\n",
              "      <th>Parch</th>\n",
              "      <th>Fare</th>\n",
              "    </tr>\n",
              "  </thead>\n",
              "  <tbody>\n",
              "    <tr>\n",
              "      <th>count</th>\n",
              "      <td>891.00</td>\n",
              "      <td>891.00</td>\n",
              "      <td>891.00</td>\n",
              "      <td>714.00</td>\n",
              "      <td>891.00</td>\n",
              "      <td>891.00</td>\n",
              "      <td>891.00</td>\n",
              "    </tr>\n",
              "    <tr>\n",
              "      <th>mean</th>\n",
              "      <td>446.00</td>\n",
              "      <td>0.38</td>\n",
              "      <td>2.31</td>\n",
              "      <td>29.70</td>\n",
              "      <td>0.52</td>\n",
              "      <td>0.38</td>\n",
              "      <td>32.20</td>\n",
              "    </tr>\n",
              "    <tr>\n",
              "      <th>std</th>\n",
              "      <td>257.35</td>\n",
              "      <td>0.49</td>\n",
              "      <td>0.84</td>\n",
              "      <td>14.53</td>\n",
              "      <td>1.10</td>\n",
              "      <td>0.81</td>\n",
              "      <td>49.69</td>\n",
              "    </tr>\n",
              "    <tr>\n",
              "      <th>min</th>\n",
              "      <td>1.00</td>\n",
              "      <td>0.00</td>\n",
              "      <td>1.00</td>\n",
              "      <td>0.42</td>\n",
              "      <td>0.00</td>\n",
              "      <td>0.00</td>\n",
              "      <td>0.00</td>\n",
              "    </tr>\n",
              "    <tr>\n",
              "      <th>25%</th>\n",
              "      <td>223.50</td>\n",
              "      <td>0.00</td>\n",
              "      <td>2.00</td>\n",
              "      <td>20.12</td>\n",
              "      <td>0.00</td>\n",
              "      <td>0.00</td>\n",
              "      <td>7.91</td>\n",
              "    </tr>\n",
              "    <tr>\n",
              "      <th>50%</th>\n",
              "      <td>446.00</td>\n",
              "      <td>0.00</td>\n",
              "      <td>3.00</td>\n",
              "      <td>28.00</td>\n",
              "      <td>0.00</td>\n",
              "      <td>0.00</td>\n",
              "      <td>14.45</td>\n",
              "    </tr>\n",
              "    <tr>\n",
              "      <th>75%</th>\n",
              "      <td>668.50</td>\n",
              "      <td>1.00</td>\n",
              "      <td>3.00</td>\n",
              "      <td>38.00</td>\n",
              "      <td>1.00</td>\n",
              "      <td>0.00</td>\n",
              "      <td>31.00</td>\n",
              "    </tr>\n",
              "    <tr>\n",
              "      <th>max</th>\n",
              "      <td>891.00</td>\n",
              "      <td>1.00</td>\n",
              "      <td>3.00</td>\n",
              "      <td>80.00</td>\n",
              "      <td>8.00</td>\n",
              "      <td>6.00</td>\n",
              "      <td>512.33</td>\n",
              "    </tr>\n",
              "  </tbody>\n",
              "</table>\n",
              "</div>"
            ],
            "text/plain": [
              "       PassengerId  Survived  Pclass    Age  SibSp  Parch   Fare\n",
              "count       891.00    891.00  891.00 714.00 891.00 891.00 891.00\n",
              "mean        446.00      0.38    2.31  29.70   0.52   0.38  32.20\n",
              "std         257.35      0.49    0.84  14.53   1.10   0.81  49.69\n",
              "min           1.00      0.00    1.00   0.42   0.00   0.00   0.00\n",
              "25%         223.50      0.00    2.00  20.12   0.00   0.00   7.91\n",
              "50%         446.00      0.00    3.00  28.00   0.00   0.00  14.45\n",
              "75%         668.50      1.00    3.00  38.00   1.00   0.00  31.00\n",
              "max         891.00      1.00    3.00  80.00   8.00   6.00 512.33"
            ]
          },
          "metadata": {
            "tags": []
          },
          "execution_count": 141
        }
      ]
    },
    {
      "cell_type": "code",
      "metadata": {
        "colab": {
          "base_uri": "https://localhost:8080/"
        },
        "id": "EmwCqZO-kIl2",
        "outputId": "08db200c-5208-494e-a661-f8646ff9c1b6"
      },
      "source": [
        "df.isnull().sum()"
      ],
      "execution_count": null,
      "outputs": [
        {
          "output_type": "execute_result",
          "data": {
            "text/plain": [
              "PassengerId      0\n",
              "Survived         0\n",
              "Pclass           0\n",
              "Name             0\n",
              "Sex              0\n",
              "Age            177\n",
              "SibSp            0\n",
              "Parch            0\n",
              "Ticket           0\n",
              "Fare             0\n",
              "Cabin          687\n",
              "Embarked         2\n",
              "dtype: int64"
            ]
          },
          "metadata": {
            "tags": []
          },
          "execution_count": 142
        }
      ]
    },
    {
      "cell_type": "code",
      "metadata": {
        "colab": {
          "base_uri": "https://localhost:8080/"
        },
        "id": "K3oqhZnejgQY",
        "outputId": "31d6feab-214c-405b-bbbd-0df69947a924"
      },
      "source": [
        "df.Survived.value_counts()"
      ],
      "execution_count": null,
      "outputs": [
        {
          "output_type": "execute_result",
          "data": {
            "text/plain": [
              "0    549\n",
              "1    342\n",
              "Name: Survived, dtype: int64"
            ]
          },
          "metadata": {
            "tags": []
          },
          "execution_count": 143
        }
      ]
    },
    {
      "cell_type": "code",
      "metadata": {
        "colab": {
          "base_uri": "https://localhost:8080/"
        },
        "id": "-m7smoxzj4uL",
        "outputId": "43704570-5b7d-462c-a107-7a38711b6f7d"
      },
      "source": [
        "df.Pclass.value_counts()"
      ],
      "execution_count": null,
      "outputs": [
        {
          "output_type": "execute_result",
          "data": {
            "text/plain": [
              "3    491\n",
              "1    216\n",
              "2    184\n",
              "Name: Pclass, dtype: int64"
            ]
          },
          "metadata": {
            "tags": []
          },
          "execution_count": 144
        }
      ]
    },
    {
      "cell_type": "code",
      "metadata": {
        "colab": {
          "base_uri": "https://localhost:8080/"
        },
        "id": "3yvYPGgWj9oK",
        "outputId": "b2278a13-cfeb-4194-a6fa-5c41285bd57b"
      },
      "source": [
        "df.Sex.value_counts()"
      ],
      "execution_count": null,
      "outputs": [
        {
          "output_type": "execute_result",
          "data": {
            "text/plain": [
              "male      577\n",
              "female    314\n",
              "Name: Sex, dtype: int64"
            ]
          },
          "metadata": {
            "tags": []
          },
          "execution_count": 145
        }
      ]
    },
    {
      "cell_type": "code",
      "metadata": {
        "colab": {
          "base_uri": "https://localhost:8080/"
        },
        "id": "e4mkNSQpkCJw",
        "outputId": "887912eb-35c6-4ac5-98a9-c0cf0cdb4394"
      },
      "source": [
        "df.Embarked.value_counts()"
      ],
      "execution_count": null,
      "outputs": [
        {
          "output_type": "execute_result",
          "data": {
            "text/plain": [
              "S    644\n",
              "C    168\n",
              "Q     77\n",
              "Name: Embarked, dtype: int64"
            ]
          },
          "metadata": {
            "tags": []
          },
          "execution_count": 146
        }
      ]
    },
    {
      "cell_type": "markdown",
      "metadata": {
        "id": "IqXt0KfYklYf"
      },
      "source": [
        "#1. Preprocessing"
      ]
    },
    {
      "cell_type": "markdown",
      "metadata": {
        "id": "EUhrZOMIM0eL"
      },
      "source": [
        "**First lets just divide the categorical value and numerical value from the datasets**"
      ]
    },
    {
      "cell_type": "code",
      "metadata": {
        "id": "LqZFCxHykFG3"
      },
      "source": [
        "#Select the neccesary Column for Categorical & Numerical\r\n",
        "#Numerical Attributes \r\n",
        "num_attribs = [\"Pclass\", \"Age\", \"SibSp\", \"Parch\", \"Fare\"]\r\n",
        "#Categorical Attributes\r\n",
        "cat_attribs = [\"Sex\", \"Embarked\"]"
      ],
      "execution_count": 3,
      "outputs": []
    },
    {
      "cell_type": "markdown",
      "metadata": {
        "id": "ki9_C9UdNJJ0"
      },
      "source": [
        "##1.1 Numerical Value"
      ]
    },
    {
      "cell_type": "markdown",
      "metadata": {
        "id": "bQtm2E53NP1h"
      },
      "source": [
        "###1.1.1 Imputer"
      ]
    },
    {
      "cell_type": "markdown",
      "metadata": {
        "id": "Ns8vGZ8sNSAz"
      },
      "source": [
        "**From `sklearn.impute` theres a library thats called Simple Imputer, by filling the NaN values in the numerical columns with the strategy of Mean, Median, Most_frequent, & Constant. Please refer to the documentation at [sklearn.impute.SimpleImputer](https://scikit-learn.org/stable/modules/generated/sklearn.impute.SimpleImputer.html)**"
      ]
    },
    {
      "cell_type": "code",
      "metadata": {
        "id": "Hr99ZcxgmPou"
      },
      "source": [
        "#Lets create the Numerical Pipeline for preprocessing\r\n",
        "from sklearn.pipeline import Pipeline\r\n",
        "from sklearn.impute import SimpleImputer\r\n",
        "from sklearn.preprocessing import StandardScaler\r\n",
        "\r\n",
        "num_pipeline = Pipeline([\r\n",
        "  ('imputer', SimpleImputer(strategy='median')),\r\n",
        "  ('std_scaler', StandardScaler())\r\n",
        "])"
      ],
      "execution_count": null,
      "outputs": []
    },
    {
      "cell_type": "code",
      "metadata": {
        "id": "epkext-5nqSM"
      },
      "source": [
        "df_num = num_pipeline.fit_transform(df[num_attribs])"
      ],
      "execution_count": null,
      "outputs": []
    },
    {
      "cell_type": "code",
      "metadata": {
        "colab": {
          "base_uri": "https://localhost:8080/",
          "height": 424
        },
        "id": "C4Fs_CGhnywk",
        "outputId": "b3e848c1-7349-4314-c2a1-6116a9f6f6b4"
      },
      "source": [
        "pd.DataFrame(data=df_num,columns = num_attribs)"
      ],
      "execution_count": null,
      "outputs": [
        {
          "output_type": "execute_result",
          "data": {
            "text/html": [
              "<div>\n",
              "<style scoped>\n",
              "    .dataframe tbody tr th:only-of-type {\n",
              "        vertical-align: middle;\n",
              "    }\n",
              "\n",
              "    .dataframe tbody tr th {\n",
              "        vertical-align: top;\n",
              "    }\n",
              "\n",
              "    .dataframe thead th {\n",
              "        text-align: right;\n",
              "    }\n",
              "</style>\n",
              "<table border=\"1\" class=\"dataframe\">\n",
              "  <thead>\n",
              "    <tr style=\"text-align: right;\">\n",
              "      <th></th>\n",
              "      <th>Pclass</th>\n",
              "      <th>Age</th>\n",
              "      <th>SibSp</th>\n",
              "      <th>Parch</th>\n",
              "      <th>Fare</th>\n",
              "    </tr>\n",
              "  </thead>\n",
              "  <tbody>\n",
              "    <tr>\n",
              "      <th>0</th>\n",
              "      <td>0.83</td>\n",
              "      <td>-0.57</td>\n",
              "      <td>0.43</td>\n",
              "      <td>-0.47</td>\n",
              "      <td>-0.50</td>\n",
              "    </tr>\n",
              "    <tr>\n",
              "      <th>1</th>\n",
              "      <td>-1.57</td>\n",
              "      <td>0.66</td>\n",
              "      <td>0.43</td>\n",
              "      <td>-0.47</td>\n",
              "      <td>0.79</td>\n",
              "    </tr>\n",
              "    <tr>\n",
              "      <th>2</th>\n",
              "      <td>0.83</td>\n",
              "      <td>-0.26</td>\n",
              "      <td>-0.47</td>\n",
              "      <td>-0.47</td>\n",
              "      <td>-0.49</td>\n",
              "    </tr>\n",
              "    <tr>\n",
              "      <th>3</th>\n",
              "      <td>-1.57</td>\n",
              "      <td>0.43</td>\n",
              "      <td>0.43</td>\n",
              "      <td>-0.47</td>\n",
              "      <td>0.42</td>\n",
              "    </tr>\n",
              "    <tr>\n",
              "      <th>4</th>\n",
              "      <td>0.83</td>\n",
              "      <td>0.43</td>\n",
              "      <td>-0.47</td>\n",
              "      <td>-0.47</td>\n",
              "      <td>-0.49</td>\n",
              "    </tr>\n",
              "    <tr>\n",
              "      <th>...</th>\n",
              "      <td>...</td>\n",
              "      <td>...</td>\n",
              "      <td>...</td>\n",
              "      <td>...</td>\n",
              "      <td>...</td>\n",
              "    </tr>\n",
              "    <tr>\n",
              "      <th>886</th>\n",
              "      <td>-0.37</td>\n",
              "      <td>-0.18</td>\n",
              "      <td>-0.47</td>\n",
              "      <td>-0.47</td>\n",
              "      <td>-0.39</td>\n",
              "    </tr>\n",
              "    <tr>\n",
              "      <th>887</th>\n",
              "      <td>-1.57</td>\n",
              "      <td>-0.80</td>\n",
              "      <td>-0.47</td>\n",
              "      <td>-0.47</td>\n",
              "      <td>-0.04</td>\n",
              "    </tr>\n",
              "    <tr>\n",
              "      <th>888</th>\n",
              "      <td>0.83</td>\n",
              "      <td>-0.10</td>\n",
              "      <td>0.43</td>\n",
              "      <td>2.01</td>\n",
              "      <td>-0.18</td>\n",
              "    </tr>\n",
              "    <tr>\n",
              "      <th>889</th>\n",
              "      <td>-1.57</td>\n",
              "      <td>-0.26</td>\n",
              "      <td>-0.47</td>\n",
              "      <td>-0.47</td>\n",
              "      <td>-0.04</td>\n",
              "    </tr>\n",
              "    <tr>\n",
              "      <th>890</th>\n",
              "      <td>0.83</td>\n",
              "      <td>0.20</td>\n",
              "      <td>-0.47</td>\n",
              "      <td>-0.47</td>\n",
              "      <td>-0.49</td>\n",
              "    </tr>\n",
              "  </tbody>\n",
              "</table>\n",
              "<p>891 rows × 5 columns</p>\n",
              "</div>"
            ],
            "text/plain": [
              "     Pclass   Age  SibSp  Parch  Fare\n",
              "0      0.83 -0.57   0.43  -0.47 -0.50\n",
              "1     -1.57  0.66   0.43  -0.47  0.79\n",
              "2      0.83 -0.26  -0.47  -0.47 -0.49\n",
              "3     -1.57  0.43   0.43  -0.47  0.42\n",
              "4      0.83  0.43  -0.47  -0.47 -0.49\n",
              "..      ...   ...    ...    ...   ...\n",
              "886   -0.37 -0.18  -0.47  -0.47 -0.39\n",
              "887   -1.57 -0.80  -0.47  -0.47 -0.04\n",
              "888    0.83 -0.10   0.43   2.01 -0.18\n",
              "889   -1.57 -0.26  -0.47  -0.47 -0.04\n",
              "890    0.83  0.20  -0.47  -0.47 -0.49\n",
              "\n",
              "[891 rows x 5 columns]"
            ]
          },
          "metadata": {
            "tags": []
          },
          "execution_count": 151
        }
      ]
    },
    {
      "cell_type": "code",
      "metadata": {
        "id": "PfJpkbY0r8Sw"
      },
      "source": [
        "from sklearn.base import BaseEstimator, TransformerMixin"
      ],
      "execution_count": null,
      "outputs": []
    },
    {
      "cell_type": "code",
      "metadata": {
        "id": "2DolNhJzry2r"
      },
      "source": [
        "# Inspired from stackoverflow.com/questions/25239958\r\n",
        "class MostFrequentImputer(BaseEstimator, TransformerMixin):\r\n",
        "    def fit(self, X, y=None):\r\n",
        "        self.most_frequent_ = pd.Series([X[c].value_counts().index[0] for c in X],\r\n",
        "                                        index=X.columns)\r\n",
        "        return self\r\n",
        "    def transform(self, X, y=None):\r\n",
        "        return X.fillna(self.most_frequent_)"
      ],
      "execution_count": null,
      "outputs": []
    },
    {
      "cell_type": "code",
      "metadata": {
        "id": "UYBhVlXHoNQk"
      },
      "source": [
        "#Lets create the pipeline for Categorical Attributes\r\n",
        "from sklearn.preprocessing import OneHotEncoder\r\n",
        "cat_pipeline = Pipeline([\r\n",
        "        (\"imputer\", MostFrequentImputer()),\r\n",
        "        (\"cat_encoder\", OneHotEncoder(sparse=False)),\r\n",
        "    ])"
      ],
      "execution_count": null,
      "outputs": []
    },
    {
      "cell_type": "code",
      "metadata": {
        "id": "tjK3ROJEqi7b"
      },
      "source": [
        "df_cat = cat_pipeline.fit_transform(df[cat_attribs])"
      ],
      "execution_count": null,
      "outputs": []
    },
    {
      "cell_type": "code",
      "metadata": {
        "id": "YrpqnyLcqwyT"
      },
      "source": [
        "#Lets Mix both of those into a full pipeine\r\n",
        "from sklearn.compose import ColumnTransformer\r\n",
        "\r\n",
        "full_pipeline = ColumnTransformer([\r\n",
        "  (\"num\", num_pipeline, num_attribs),\r\n",
        "  (\"cat\", cat_pipeline, cat_attribs)\r\n",
        "])"
      ],
      "execution_count": null,
      "outputs": []
    },
    {
      "cell_type": "code",
      "metadata": {
        "id": "-NAtn8XCtHTB"
      },
      "source": [
        "df_processed = full_pipeline.fit_transform(df)"
      ],
      "execution_count": null,
      "outputs": []
    },
    {
      "cell_type": "code",
      "metadata": {
        "colab": {
          "base_uri": "https://localhost:8080/"
        },
        "id": "R8HsP3m7tPig",
        "outputId": "d25af03b-5bc5-49d2-e003-64992d085ea1"
      },
      "source": [
        "df_processed"
      ],
      "execution_count": null,
      "outputs": [
        {
          "output_type": "execute_result",
          "data": {
            "text/plain": [
              "array([[ 0.82737724, -0.56573646,  0.43279337, ...,  0.        ,\n",
              "         0.        ,  1.        ],\n",
              "       [-1.56610693,  0.66386103,  0.43279337, ...,  1.        ,\n",
              "         0.        ,  0.        ],\n",
              "       [ 0.82737724, -0.25833709, -0.4745452 , ...,  0.        ,\n",
              "         0.        ,  1.        ],\n",
              "       ...,\n",
              "       [ 0.82737724, -0.1046374 ,  0.43279337, ...,  0.        ,\n",
              "         0.        ,  1.        ],\n",
              "       [-1.56610693, -0.25833709, -0.4745452 , ...,  1.        ,\n",
              "         0.        ,  0.        ],\n",
              "       [ 0.82737724,  0.20276197, -0.4745452 , ...,  0.        ,\n",
              "         1.        ,  0.        ]])"
            ]
          },
          "metadata": {
            "tags": []
          },
          "execution_count": 158
        }
      ]
    },
    {
      "cell_type": "code",
      "metadata": {
        "id": "1h4gI_DGt-qI"
      },
      "source": [
        "preprocessed_attribs = num_attribs + cat_attribs"
      ],
      "execution_count": null,
      "outputs": []
    },
    {
      "cell_type": "code",
      "metadata": {
        "colab": {
          "base_uri": "https://localhost:8080/"
        },
        "id": "jMY-OIhnuaDk",
        "outputId": "4a4e4df9-6f3d-4034-bfe2-6ed8d172d193"
      },
      "source": [
        "preprocessed_attribs"
      ],
      "execution_count": null,
      "outputs": [
        {
          "output_type": "execute_result",
          "data": {
            "text/plain": [
              "['Pclass', 'Age', 'SibSp', 'Parch', 'Fare', 'Sex', 'Embarked']"
            ]
          },
          "metadata": {
            "tags": []
          },
          "execution_count": 160
        }
      ]
    },
    {
      "cell_type": "code",
      "metadata": {
        "colab": {
          "base_uri": "https://localhost:8080/"
        },
        "id": "kSK1L7UtuLgs",
        "outputId": "208c4c3b-266f-409a-c3db-097497f3ba95"
      },
      "source": [
        "df_processed.shape"
      ],
      "execution_count": null,
      "outputs": [
        {
          "output_type": "execute_result",
          "data": {
            "text/plain": [
              "(891, 10)"
            ]
          },
          "metadata": {
            "tags": []
          },
          "execution_count": 161
        }
      ]
    },
    {
      "cell_type": "markdown",
      "metadata": {
        "id": "IWdM_JDUtip0"
      },
      "source": [
        "#2. Machine Learning Modelling"
      ]
    },
    {
      "cell_type": "code",
      "metadata": {
        "id": "lk3NZYUktQlw"
      },
      "source": [
        "#Selecting the X_train, y_train\r\n",
        "X_train = df_processed\r\n",
        "y_train = df.Survived"
      ],
      "execution_count": null,
      "outputs": []
    },
    {
      "cell_type": "code",
      "metadata": {
        "id": "G7S-p14HwPnX"
      },
      "source": [
        "from sklearn.model_selection import cross_val_score"
      ],
      "execution_count": null,
      "outputs": []
    },
    {
      "cell_type": "code",
      "metadata": {
        "id": "Faf1eBEcwq8e"
      },
      "source": [
        "from sklearn.model_selection import GridSearchCV"
      ],
      "execution_count": null,
      "outputs": []
    },
    {
      "cell_type": "markdown",
      "metadata": {
        "id": "ZNRYueHrw4sI"
      },
      "source": [
        "###2.1 Support Vector Machine Classifier"
      ]
    },
    {
      "cell_type": "code",
      "metadata": {
        "id": "GrX-iXnvvGJX"
      },
      "source": [
        "#SVC Model\r\n",
        "from sklearn.svm import SVC\r\n",
        "svm_clf = SVC()\r\n",
        "svm_scores = cross_val_score(svm_clf, X_train, y_train, cv=10)"
      ],
      "execution_count": null,
      "outputs": []
    },
    {
      "cell_type": "code",
      "metadata": {
        "colab": {
          "base_uri": "https://localhost:8080/",
          "height": 72
        },
        "id": "uiN2zlTpvnnY",
        "outputId": "79ca9c77-fe28-409d-cf5f-9604ca20795b"
      },
      "source": [
        "display(svm_scores,svm_scores.mean())"
      ],
      "execution_count": null,
      "outputs": [
        {
          "output_type": "display_data",
          "data": {
            "text/plain": [
              "array([0.8       , 0.85393258, 0.76404494, 0.87640449, 0.83146067,\n",
              "       0.78651685, 0.82022472, 0.78651685, 0.86516854, 0.85393258])"
            ]
          },
          "metadata": {
            "tags": []
          }
        },
        {
          "output_type": "display_data",
          "data": {
            "text/plain": [
              "0.8238202247191012"
            ]
          },
          "metadata": {
            "tags": []
          }
        }
      ]
    },
    {
      "cell_type": "code",
      "metadata": {
        "colab": {
          "base_uri": "https://localhost:8080/",
          "height": 1000
        },
        "id": "6DBVcxrCwl9l",
        "outputId": "4ebce8a9-9051-4769-b2c6-8e4d98db4ed8"
      },
      "source": [
        "svc_param_grid = {\r\n",
        "    'C': [0.01,0.1,1,10,100,0.03,0.3,3,30,300],\r\n",
        "    'kernel': [\"linear\",\"poly\",\"rbf\",\"sigmoid\"],\r\n",
        "    \"gamma\" : [\"scale\",\"auto\"]\r\n",
        "    }\r\n",
        " \r\n",
        "svc_grid_search = GridSearchCV(svc_clf, svc_param_grid, cv=5,\r\n",
        "                           scoring='accuracy',verbose = 5)\r\n",
        "svc_grid_search.fit(X_train,y_train)"
      ],
      "execution_count": null,
      "outputs": [
        {
          "output_type": "stream",
          "text": [
            "Fitting 5 folds for each of 80 candidates, totalling 400 fits\n",
            "[CV] C=0.01, gamma=scale, kernel=linear ..............................\n",
            "[CV] .. C=0.01, gamma=scale, kernel=linear, score=0.793, total=   0.0s\n",
            "[CV] C=0.01, gamma=scale, kernel=linear ..............................\n",
            "[CV] .. C=0.01, gamma=scale, kernel=linear, score=0.809, total=   0.0s\n",
            "[CV] C=0.01, gamma=scale, kernel=linear ..............................\n",
            "[CV] .. C=0.01, gamma=scale, kernel=linear, score=0.781, total=   0.0s\n",
            "[CV] C=0.01, gamma=scale, kernel=linear ..............................\n",
            "[CV] .. C=0.01, gamma=scale, kernel=linear, score=0.753, total=   0.0s\n",
            "[CV] C=0.01, gamma=scale, kernel=linear ..............................\n",
            "[CV] .. C=0.01, gamma=scale, kernel=linear, score=0.787, total=   0.0s\n",
            "[CV] C=0.01, gamma=scale, kernel=poly ................................\n",
            "[CV] .... C=0.01, gamma=scale, kernel=poly, score=0.615, total=   0.0s\n",
            "[CV] C=0.01, gamma=scale, kernel=poly ................................\n",
            "[CV] .... C=0.01, gamma=scale, kernel=poly, score=0.646, total=   0.0s\n",
            "[CV] C=0.01, gamma=scale, kernel=poly ................................\n",
            "[CV] .... C=0.01, gamma=scale, kernel=poly, score=0.612, total=   0.0s\n",
            "[CV] C=0.01, gamma=scale, kernel=poly ................................\n",
            "[CV] .... C=0.01, gamma=scale, kernel=poly, score=0.635, total=   0.0s\n",
            "[CV] C=0.01, gamma=scale, kernel=poly ................................\n",
            "[CV] .... C=0.01, gamma=scale, kernel=poly, score=0.640, total=   0.0s\n",
            "[CV] C=0.01, gamma=scale, kernel=rbf .................................\n",
            "[CV] ..... C=0.01, gamma=scale, kernel=rbf, score=0.615, total=   0.0s\n",
            "[CV] C=0.01, gamma=scale, kernel=rbf .................................\n",
            "[CV] ..... C=0.01, gamma=scale, kernel=rbf, score=0.618, total=   0.0s\n",
            "[CV] C=0.01, gamma=scale, kernel=rbf .................................\n"
          ],
          "name": "stdout"
        },
        {
          "output_type": "stream",
          "text": [
            "[Parallel(n_jobs=1)]: Using backend SequentialBackend with 1 concurrent workers.\n",
            "[Parallel(n_jobs=1)]: Done   1 out of   1 | elapsed:    0.0s remaining:    0.0s\n",
            "[Parallel(n_jobs=1)]: Done   2 out of   2 | elapsed:    0.0s remaining:    0.0s\n",
            "[Parallel(n_jobs=1)]: Done   3 out of   3 | elapsed:    0.0s remaining:    0.0s\n",
            "[Parallel(n_jobs=1)]: Done   4 out of   4 | elapsed:    0.0s remaining:    0.0s\n"
          ],
          "name": "stderr"
        },
        {
          "output_type": "stream",
          "text": [
            "[CV] ..... C=0.01, gamma=scale, kernel=rbf, score=0.618, total=   0.0s\n",
            "[CV] C=0.01, gamma=scale, kernel=rbf .................................\n",
            "[CV] ..... C=0.01, gamma=scale, kernel=rbf, score=0.618, total=   0.0s\n",
            "[CV] C=0.01, gamma=scale, kernel=rbf .................................\n",
            "[CV] ..... C=0.01, gamma=scale, kernel=rbf, score=0.612, total=   0.0s\n",
            "[CV] C=0.01, gamma=scale, kernel=sigmoid .............................\n",
            "[CV] . C=0.01, gamma=scale, kernel=sigmoid, score=0.626, total=   0.0s\n",
            "[CV] C=0.01, gamma=scale, kernel=sigmoid .............................\n",
            "[CV] . C=0.01, gamma=scale, kernel=sigmoid, score=0.624, total=   0.0s\n",
            "[CV] C=0.01, gamma=scale, kernel=sigmoid .............................\n",
            "[CV] . C=0.01, gamma=scale, kernel=sigmoid, score=0.618, total=   0.0s\n",
            "[CV] C=0.01, gamma=scale, kernel=sigmoid .............................\n",
            "[CV] . C=0.01, gamma=scale, kernel=sigmoid, score=0.618, total=   0.0s\n",
            "[CV] C=0.01, gamma=scale, kernel=sigmoid .............................\n",
            "[CV] . C=0.01, gamma=scale, kernel=sigmoid, score=0.612, total=   0.0s\n",
            "[CV] C=0.01, gamma=auto, kernel=linear ...............................\n",
            "[CV] ... C=0.01, gamma=auto, kernel=linear, score=0.793, total=   0.0s\n",
            "[CV] C=0.01, gamma=auto, kernel=linear ...............................\n",
            "[CV] ... C=0.01, gamma=auto, kernel=linear, score=0.809, total=   0.0s\n",
            "[CV] C=0.01, gamma=auto, kernel=linear ...............................\n",
            "[CV] ... C=0.01, gamma=auto, kernel=linear, score=0.781, total=   0.0s\n",
            "[CV] C=0.01, gamma=auto, kernel=linear ...............................\n",
            "[CV] ... C=0.01, gamma=auto, kernel=linear, score=0.753, total=   0.0s\n",
            "[CV] C=0.01, gamma=auto, kernel=linear ...............................\n",
            "[CV] ... C=0.01, gamma=auto, kernel=linear, score=0.787, total=   0.0s\n",
            "[CV] C=0.01, gamma=auto, kernel=poly .................................\n",
            "[CV] ..... C=0.01, gamma=auto, kernel=poly, score=0.615, total=   0.0s\n",
            "[CV] C=0.01, gamma=auto, kernel=poly .................................\n",
            "[CV] ..... C=0.01, gamma=auto, kernel=poly, score=0.624, total=   0.0s\n",
            "[CV] C=0.01, gamma=auto, kernel=poly .................................\n",
            "[CV] ..... C=0.01, gamma=auto, kernel=poly, score=0.618, total=   0.0s\n",
            "[CV] C=0.01, gamma=auto, kernel=poly .................................\n",
            "[CV] ..... C=0.01, gamma=auto, kernel=poly, score=0.624, total=   0.0s\n",
            "[CV] C=0.01, gamma=auto, kernel=poly .................................\n",
            "[CV] ..... C=0.01, gamma=auto, kernel=poly, score=0.624, total=   0.0s\n",
            "[CV] C=0.01, gamma=auto, kernel=rbf ..................................\n",
            "[CV] ...... C=0.01, gamma=auto, kernel=rbf, score=0.615, total=   0.0s\n",
            "[CV] C=0.01, gamma=auto, kernel=rbf ..................................\n",
            "[CV] ...... C=0.01, gamma=auto, kernel=rbf, score=0.618, total=   0.0s\n",
            "[CV] C=0.01, gamma=auto, kernel=rbf ..................................\n",
            "[CV] ...... C=0.01, gamma=auto, kernel=rbf, score=0.618, total=   0.0s\n",
            "[CV] C=0.01, gamma=auto, kernel=rbf ..................................\n",
            "[CV] ...... C=0.01, gamma=auto, kernel=rbf, score=0.618, total=   0.0s\n",
            "[CV] C=0.01, gamma=auto, kernel=rbf ..................................\n",
            "[CV] ...... C=0.01, gamma=auto, kernel=rbf, score=0.612, total=   0.0s\n",
            "[CV] C=0.01, gamma=auto, kernel=sigmoid ..............................\n",
            "[CV] .. C=0.01, gamma=auto, kernel=sigmoid, score=0.615, total=   0.0s\n",
            "[CV] C=0.01, gamma=auto, kernel=sigmoid ..............................\n",
            "[CV] .. C=0.01, gamma=auto, kernel=sigmoid, score=0.618, total=   0.0s\n",
            "[CV] C=0.01, gamma=auto, kernel=sigmoid ..............................\n",
            "[CV] .. C=0.01, gamma=auto, kernel=sigmoid, score=0.618, total=   0.0s\n",
            "[CV] C=0.01, gamma=auto, kernel=sigmoid ..............................\n",
            "[CV] .. C=0.01, gamma=auto, kernel=sigmoid, score=0.618, total=   0.0s\n",
            "[CV] C=0.01, gamma=auto, kernel=sigmoid ..............................\n",
            "[CV] .. C=0.01, gamma=auto, kernel=sigmoid, score=0.612, total=   0.0s\n",
            "[CV] C=0.1, gamma=scale, kernel=linear ...............................\n",
            "[CV] ... C=0.1, gamma=scale, kernel=linear, score=0.804, total=   0.0s\n",
            "[CV] C=0.1, gamma=scale, kernel=linear ...............................\n",
            "[CV] ... C=0.1, gamma=scale, kernel=linear, score=0.809, total=   0.0s\n",
            "[CV] C=0.1, gamma=scale, kernel=linear ...............................\n",
            "[CV] ... C=0.1, gamma=scale, kernel=linear, score=0.787, total=   0.0s\n",
            "[CV] C=0.1, gamma=scale, kernel=linear ...............................\n",
            "[CV] ... C=0.1, gamma=scale, kernel=linear, score=0.753, total=   0.0s\n",
            "[CV] C=0.1, gamma=scale, kernel=linear ...............................\n",
            "[CV] ... C=0.1, gamma=scale, kernel=linear, score=0.787, total=   0.0s\n",
            "[CV] C=0.1, gamma=scale, kernel=poly .................................\n",
            "[CV] ..... C=0.1, gamma=scale, kernel=poly, score=0.732, total=   0.0s\n",
            "[CV] C=0.1, gamma=scale, kernel=poly .................................\n",
            "[CV] ..... C=0.1, gamma=scale, kernel=poly, score=0.758, total=   0.0s\n",
            "[CV] C=0.1, gamma=scale, kernel=poly .................................\n",
            "[CV] ..... C=0.1, gamma=scale, kernel=poly, score=0.736, total=   0.0s\n",
            "[CV] C=0.1, gamma=scale, kernel=poly .................................\n",
            "[CV] ..... C=0.1, gamma=scale, kernel=poly, score=0.713, total=   0.0s\n",
            "[CV] C=0.1, gamma=scale, kernel=poly .................................\n",
            "[CV] ..... C=0.1, gamma=scale, kernel=poly, score=0.787, total=   0.0s\n",
            "[CV] C=0.1, gamma=scale, kernel=rbf ..................................\n",
            "[CV] ...... C=0.1, gamma=scale, kernel=rbf, score=0.821, total=   0.0s\n",
            "[CV] C=0.1, gamma=scale, kernel=rbf ..................................\n",
            "[CV] ...... C=0.1, gamma=scale, kernel=rbf, score=0.803, total=   0.0s\n",
            "[CV] C=0.1, gamma=scale, kernel=rbf ..................................\n",
            "[CV] ...... C=0.1, gamma=scale, kernel=rbf, score=0.798, total=   0.0s\n",
            "[CV] C=0.1, gamma=scale, kernel=rbf ..................................\n",
            "[CV] ...... C=0.1, gamma=scale, kernel=rbf, score=0.798, total=   0.0s\n",
            "[CV] C=0.1, gamma=scale, kernel=rbf ..................................\n",
            "[CV] ...... C=0.1, gamma=scale, kernel=rbf, score=0.815, total=   0.0s\n",
            "[CV] C=0.1, gamma=scale, kernel=sigmoid ..............................\n",
            "[CV] .. C=0.1, gamma=scale, kernel=sigmoid, score=0.777, total=   0.0s\n",
            "[CV] C=0.1, gamma=scale, kernel=sigmoid ..............................\n",
            "[CV] .. C=0.1, gamma=scale, kernel=sigmoid, score=0.747, total=   0.0s\n",
            "[CV] C=0.1, gamma=scale, kernel=sigmoid ..............................\n",
            "[CV] .. C=0.1, gamma=scale, kernel=sigmoid, score=0.742, total=   0.0s\n",
            "[CV] C=0.1, gamma=scale, kernel=sigmoid ..............................\n",
            "[CV] .. C=0.1, gamma=scale, kernel=sigmoid, score=0.742, total=   0.0s\n",
            "[CV] C=0.1, gamma=scale, kernel=sigmoid ..............................\n",
            "[CV] .. C=0.1, gamma=scale, kernel=sigmoid, score=0.775, total=   0.0s\n",
            "[CV] C=0.1, gamma=auto, kernel=linear ................................\n",
            "[CV] .... C=0.1, gamma=auto, kernel=linear, score=0.804, total=   0.0s\n",
            "[CV] C=0.1, gamma=auto, kernel=linear ................................\n",
            "[CV] .... C=0.1, gamma=auto, kernel=linear, score=0.809, total=   0.0s\n",
            "[CV] C=0.1, gamma=auto, kernel=linear ................................\n",
            "[CV] .... C=0.1, gamma=auto, kernel=linear, score=0.787, total=   0.0s\n",
            "[CV] C=0.1, gamma=auto, kernel=linear ................................\n",
            "[CV] .... C=0.1, gamma=auto, kernel=linear, score=0.753, total=   0.0s\n",
            "[CV] C=0.1, gamma=auto, kernel=linear ................................\n",
            "[CV] .... C=0.1, gamma=auto, kernel=linear, score=0.787, total=   0.0s\n",
            "[CV] C=0.1, gamma=auto, kernel=poly ..................................\n",
            "[CV] ...... C=0.1, gamma=auto, kernel=poly, score=0.654, total=   0.0s\n",
            "[CV] C=0.1, gamma=auto, kernel=poly ..................................\n",
            "[CV] ...... C=0.1, gamma=auto, kernel=poly, score=0.697, total=   0.0s\n",
            "[CV] C=0.1, gamma=auto, kernel=poly ..................................\n",
            "[CV] ...... C=0.1, gamma=auto, kernel=poly, score=0.646, total=   0.0s\n",
            "[CV] C=0.1, gamma=auto, kernel=poly ..................................\n",
            "[CV] ...... C=0.1, gamma=auto, kernel=poly, score=0.663, total=   0.0s\n",
            "[CV] C=0.1, gamma=auto, kernel=poly ..................................\n",
            "[CV] ...... C=0.1, gamma=auto, kernel=poly, score=0.685, total=   0.0s\n",
            "[CV] C=0.1, gamma=auto, kernel=rbf ...................................\n",
            "[CV] ....... C=0.1, gamma=auto, kernel=rbf, score=0.799, total=   0.0s\n",
            "[CV] C=0.1, gamma=auto, kernel=rbf ...................................\n",
            "[CV] ....... C=0.1, gamma=auto, kernel=rbf, score=0.809, total=   0.0s\n",
            "[CV] C=0.1, gamma=auto, kernel=rbf ...................................\n",
            "[CV] ....... C=0.1, gamma=auto, kernel=rbf, score=0.798, total=   0.0s\n",
            "[CV] C=0.1, gamma=auto, kernel=rbf ...................................\n",
            "[CV] ....... C=0.1, gamma=auto, kernel=rbf, score=0.798, total=   0.0s\n",
            "[CV] C=0.1, gamma=auto, kernel=rbf ...................................\n",
            "[CV] ....... C=0.1, gamma=auto, kernel=rbf, score=0.820, total=   0.0s\n",
            "[CV] C=0.1, gamma=auto, kernel=sigmoid ...............................\n",
            "[CV] ... C=0.1, gamma=auto, kernel=sigmoid, score=0.793, total=   0.0s\n",
            "[CV] C=0.1, gamma=auto, kernel=sigmoid ...............................\n",
            "[CV] ... C=0.1, gamma=auto, kernel=sigmoid, score=0.787, total=   0.0s\n",
            "[CV] C=0.1, gamma=auto, kernel=sigmoid ...............................\n",
            "[CV] ... C=0.1, gamma=auto, kernel=sigmoid, score=0.781, total=   0.0s\n",
            "[CV] C=0.1, gamma=auto, kernel=sigmoid ...............................\n",
            "[CV] ... C=0.1, gamma=auto, kernel=sigmoid, score=0.747, total=   0.0s\n",
            "[CV] C=0.1, gamma=auto, kernel=sigmoid ...............................\n",
            "[CV] ... C=0.1, gamma=auto, kernel=sigmoid, score=0.787, total=   0.0s\n",
            "[CV] C=1, gamma=scale, kernel=linear .................................\n",
            "[CV] ..... C=1, gamma=scale, kernel=linear, score=0.804, total=   0.0s\n",
            "[CV] C=1, gamma=scale, kernel=linear .................................\n",
            "[CV] ..... C=1, gamma=scale, kernel=linear, score=0.809, total=   0.0s\n",
            "[CV] C=1, gamma=scale, kernel=linear .................................\n",
            "[CV] ..... C=1, gamma=scale, kernel=linear, score=0.787, total=   0.0s\n",
            "[CV] C=1, gamma=scale, kernel=linear .................................\n",
            "[CV] ..... C=1, gamma=scale, kernel=linear, score=0.753, total=   0.0s\n",
            "[CV] C=1, gamma=scale, kernel=linear .................................\n",
            "[CV] ..... C=1, gamma=scale, kernel=linear, score=0.787, total=   0.0s\n",
            "[CV] C=1, gamma=scale, kernel=poly ...................................\n",
            "[CV] ....... C=1, gamma=scale, kernel=poly, score=0.838, total=   0.0s\n",
            "[CV] C=1, gamma=scale, kernel=poly ...................................\n",
            "[CV] ....... C=1, gamma=scale, kernel=poly, score=0.815, total=   0.0s\n",
            "[CV] C=1, gamma=scale, kernel=poly ...................................\n",
            "[CV] ....... C=1, gamma=scale, kernel=poly, score=0.820, total=   0.0s\n",
            "[CV] C=1, gamma=scale, kernel=poly ...................................\n",
            "[CV] ....... C=1, gamma=scale, kernel=poly, score=0.775, total=   0.0s\n",
            "[CV] C=1, gamma=scale, kernel=poly ...................................\n",
            "[CV] ....... C=1, gamma=scale, kernel=poly, score=0.876, total=   0.0s\n",
            "[CV] C=1, gamma=scale, kernel=rbf ....................................\n",
            "[CV] ........ C=1, gamma=scale, kernel=rbf, score=0.827, total=   0.0s\n",
            "[CV] C=1, gamma=scale, kernel=rbf ....................................\n",
            "[CV] ........ C=1, gamma=scale, kernel=rbf, score=0.826, total=   0.0s\n",
            "[CV] C=1, gamma=scale, kernel=rbf ....................................\n",
            "[CV] ........ C=1, gamma=scale, kernel=rbf, score=0.815, total=   0.0s\n",
            "[CV] C=1, gamma=scale, kernel=rbf ....................................\n",
            "[CV] ........ C=1, gamma=scale, kernel=rbf, score=0.815, total=   0.0s\n",
            "[CV] C=1, gamma=scale, kernel=rbf ....................................\n",
            "[CV] ........ C=1, gamma=scale, kernel=rbf, score=0.860, total=   0.0s\n",
            "[CV] C=1, gamma=scale, kernel=sigmoid ................................\n",
            "[CV] .... C=1, gamma=scale, kernel=sigmoid, score=0.676, total=   0.0s\n",
            "[CV] C=1, gamma=scale, kernel=sigmoid ................................\n",
            "[CV] .... C=1, gamma=scale, kernel=sigmoid, score=0.674, total=   0.0s\n",
            "[CV] C=1, gamma=scale, kernel=sigmoid ................................\n",
            "[CV] .... C=1, gamma=scale, kernel=sigmoid, score=0.725, total=   0.0s\n",
            "[CV] C=1, gamma=scale, kernel=sigmoid ................................\n",
            "[CV] .... C=1, gamma=scale, kernel=sigmoid, score=0.685, total=   0.0s\n",
            "[CV] C=1, gamma=scale, kernel=sigmoid ................................\n",
            "[CV] .... C=1, gamma=scale, kernel=sigmoid, score=0.680, total=   0.0s\n",
            "[CV] C=1, gamma=auto, kernel=linear ..................................\n",
            "[CV] ...... C=1, gamma=auto, kernel=linear, score=0.804, total=   0.0s\n",
            "[CV] C=1, gamma=auto, kernel=linear ..................................\n",
            "[CV] ...... C=1, gamma=auto, kernel=linear, score=0.809, total=   0.0s\n",
            "[CV] C=1, gamma=auto, kernel=linear ..................................\n",
            "[CV] ...... C=1, gamma=auto, kernel=linear, score=0.787, total=   0.0s\n",
            "[CV] C=1, gamma=auto, kernel=linear ..................................\n",
            "[CV] ...... C=1, gamma=auto, kernel=linear, score=0.753, total=   0.0s\n",
            "[CV] C=1, gamma=auto, kernel=linear ..................................\n",
            "[CV] ...... C=1, gamma=auto, kernel=linear, score=0.787, total=   0.0s\n",
            "[CV] C=1, gamma=auto, kernel=poly ....................................\n",
            "[CV] ........ C=1, gamma=auto, kernel=poly, score=0.760, total=   0.0s\n",
            "[CV] C=1, gamma=auto, kernel=poly ....................................\n",
            "[CV] ........ C=1, gamma=auto, kernel=poly, score=0.798, total=   0.0s\n",
            "[CV] C=1, gamma=auto, kernel=poly ....................................\n",
            "[CV] ........ C=1, gamma=auto, kernel=poly, score=0.770, total=   0.0s\n",
            "[CV] C=1, gamma=auto, kernel=poly ....................................\n",
            "[CV] ........ C=1, gamma=auto, kernel=poly, score=0.753, total=   0.0s\n",
            "[CV] C=1, gamma=auto, kernel=poly ....................................\n",
            "[CV] ........ C=1, gamma=auto, kernel=poly, score=0.837, total=   0.0s\n",
            "[CV] C=1, gamma=auto, kernel=rbf .....................................\n",
            "[CV] ......... C=1, gamma=auto, kernel=rbf, score=0.832, total=   0.0s\n",
            "[CV] C=1, gamma=auto, kernel=rbf .....................................\n",
            "[CV] ......... C=1, gamma=auto, kernel=rbf, score=0.831, total=   0.0s\n",
            "[CV] C=1, gamma=auto, kernel=rbf .....................................\n",
            "[CV] ......... C=1, gamma=auto, kernel=rbf, score=0.815, total=   0.0s\n",
            "[CV] C=1, gamma=auto, kernel=rbf .....................................\n",
            "[CV] ......... C=1, gamma=auto, kernel=rbf, score=0.815, total=   0.0s\n",
            "[CV] C=1, gamma=auto, kernel=rbf .....................................\n",
            "[CV] ......... C=1, gamma=auto, kernel=rbf, score=0.848, total=   0.0s\n",
            "[CV] C=1, gamma=auto, kernel=sigmoid .................................\n",
            "[CV] ..... C=1, gamma=auto, kernel=sigmoid, score=0.687, total=   0.0s\n",
            "[CV] C=1, gamma=auto, kernel=sigmoid .................................\n",
            "[CV] ..... C=1, gamma=auto, kernel=sigmoid, score=0.725, total=   0.0s\n",
            "[CV] C=1, gamma=auto, kernel=sigmoid .................................\n",
            "[CV] ..... C=1, gamma=auto, kernel=sigmoid, score=0.713, total=   0.0s\n",
            "[CV] C=1, gamma=auto, kernel=sigmoid .................................\n",
            "[CV] ..... C=1, gamma=auto, kernel=sigmoid, score=0.663, total=   0.0s\n",
            "[CV] C=1, gamma=auto, kernel=sigmoid .................................\n",
            "[CV] ..... C=1, gamma=auto, kernel=sigmoid, score=0.713, total=   0.0s\n",
            "[CV] C=10, gamma=scale, kernel=linear ................................\n",
            "[CV] .... C=10, gamma=scale, kernel=linear, score=0.804, total=   0.1s\n",
            "[CV] C=10, gamma=scale, kernel=linear ................................\n",
            "[CV] .... C=10, gamma=scale, kernel=linear, score=0.809, total=   0.1s\n",
            "[CV] C=10, gamma=scale, kernel=linear ................................\n",
            "[CV] .... C=10, gamma=scale, kernel=linear, score=0.787, total=   0.1s\n",
            "[CV] C=10, gamma=scale, kernel=linear ................................\n",
            "[CV] .... C=10, gamma=scale, kernel=linear, score=0.753, total=   0.0s\n",
            "[CV] C=10, gamma=scale, kernel=linear ................................\n",
            "[CV] .... C=10, gamma=scale, kernel=linear, score=0.787, total=   0.0s\n",
            "[CV] C=10, gamma=scale, kernel=poly ..................................\n",
            "[CV] ...... C=10, gamma=scale, kernel=poly, score=0.777, total=   0.0s\n",
            "[CV] C=10, gamma=scale, kernel=poly ..................................\n",
            "[CV] ...... C=10, gamma=scale, kernel=poly, score=0.820, total=   0.0s\n",
            "[CV] C=10, gamma=scale, kernel=poly ..................................\n",
            "[CV] ...... C=10, gamma=scale, kernel=poly, score=0.809, total=   0.0s\n",
            "[CV] C=10, gamma=scale, kernel=poly ..................................\n",
            "[CV] ...... C=10, gamma=scale, kernel=poly, score=0.764, total=   0.0s\n",
            "[CV] C=10, gamma=scale, kernel=poly ..................................\n",
            "[CV] ...... C=10, gamma=scale, kernel=poly, score=0.865, total=   0.0s\n",
            "[CV] C=10, gamma=scale, kernel=rbf ...................................\n",
            "[CV] ....... C=10, gamma=scale, kernel=rbf, score=0.799, total=   0.0s\n",
            "[CV] C=10, gamma=scale, kernel=rbf ...................................\n",
            "[CV] ....... C=10, gamma=scale, kernel=rbf, score=0.809, total=   0.0s\n",
            "[CV] C=10, gamma=scale, kernel=rbf ...................................\n",
            "[CV] ....... C=10, gamma=scale, kernel=rbf, score=0.815, total=   0.0s\n",
            "[CV] C=10, gamma=scale, kernel=rbf ...................................\n",
            "[CV] ....... C=10, gamma=scale, kernel=rbf, score=0.764, total=   0.0s\n",
            "[CV] C=10, gamma=scale, kernel=rbf ...................................\n",
            "[CV] ....... C=10, gamma=scale, kernel=rbf, score=0.860, total=   0.0s\n",
            "[CV] C=10, gamma=scale, kernel=sigmoid ...............................\n",
            "[CV] ... C=10, gamma=scale, kernel=sigmoid, score=0.665, total=   0.0s\n",
            "[CV] C=10, gamma=scale, kernel=sigmoid ...............................\n",
            "[CV] ... C=10, gamma=scale, kernel=sigmoid, score=0.635, total=   0.0s\n",
            "[CV] C=10, gamma=scale, kernel=sigmoid ...............................\n",
            "[CV] ... C=10, gamma=scale, kernel=sigmoid, score=0.719, total=   0.0s\n",
            "[CV] C=10, gamma=scale, kernel=sigmoid ...............................\n",
            "[CV] ... C=10, gamma=scale, kernel=sigmoid, score=0.674, total=   0.0s\n",
            "[CV] C=10, gamma=scale, kernel=sigmoid ...............................\n",
            "[CV] ... C=10, gamma=scale, kernel=sigmoid, score=0.646, total=   0.0s\n",
            "[CV] C=10, gamma=auto, kernel=linear .................................\n",
            "[CV] ..... C=10, gamma=auto, kernel=linear, score=0.804, total=   0.1s\n",
            "[CV] C=10, gamma=auto, kernel=linear .................................\n",
            "[CV] ..... C=10, gamma=auto, kernel=linear, score=0.809, total=   0.1s\n",
            "[CV] C=10, gamma=auto, kernel=linear .................................\n",
            "[CV] ..... C=10, gamma=auto, kernel=linear, score=0.787, total=   0.1s\n",
            "[CV] C=10, gamma=auto, kernel=linear .................................\n",
            "[CV] ..... C=10, gamma=auto, kernel=linear, score=0.753, total=   0.0s\n",
            "[CV] C=10, gamma=auto, kernel=linear .................................\n",
            "[CV] ..... C=10, gamma=auto, kernel=linear, score=0.787, total=   0.0s\n",
            "[CV] C=10, gamma=auto, kernel=poly ...................................\n",
            "[CV] ....... C=10, gamma=auto, kernel=poly, score=0.827, total=   0.0s\n",
            "[CV] C=10, gamma=auto, kernel=poly ...................................\n",
            "[CV] ....... C=10, gamma=auto, kernel=poly, score=0.809, total=   0.0s\n",
            "[CV] C=10, gamma=auto, kernel=poly ...................................\n",
            "[CV] ....... C=10, gamma=auto, kernel=poly, score=0.815, total=   0.0s\n",
            "[CV] C=10, gamma=auto, kernel=poly ...................................\n",
            "[CV] ....... C=10, gamma=auto, kernel=poly, score=0.770, total=   0.0s\n",
            "[CV] C=10, gamma=auto, kernel=poly ...................................\n",
            "[CV] ....... C=10, gamma=auto, kernel=poly, score=0.876, total=   0.0s\n",
            "[CV] C=10, gamma=auto, kernel=rbf ....................................\n",
            "[CV] ........ C=10, gamma=auto, kernel=rbf, score=0.821, total=   0.0s\n",
            "[CV] C=10, gamma=auto, kernel=rbf ....................................\n",
            "[CV] ........ C=10, gamma=auto, kernel=rbf, score=0.820, total=   0.0s\n",
            "[CV] C=10, gamma=auto, kernel=rbf ....................................\n",
            "[CV] ........ C=10, gamma=auto, kernel=rbf, score=0.815, total=   0.0s\n",
            "[CV] C=10, gamma=auto, kernel=rbf ....................................\n",
            "[CV] ........ C=10, gamma=auto, kernel=rbf, score=0.787, total=   0.0s\n",
            "[CV] C=10, gamma=auto, kernel=rbf ....................................\n",
            "[CV] ........ C=10, gamma=auto, kernel=rbf, score=0.860, total=   0.0s\n",
            "[CV] C=10, gamma=auto, kernel=sigmoid ................................\n",
            "[CV] .... C=10, gamma=auto, kernel=sigmoid, score=0.665, total=   0.0s\n",
            "[CV] C=10, gamma=auto, kernel=sigmoid ................................\n",
            "[CV] .... C=10, gamma=auto, kernel=sigmoid, score=0.652, total=   0.0s\n",
            "[CV] C=10, gamma=auto, kernel=sigmoid ................................\n",
            "[CV] .... C=10, gamma=auto, kernel=sigmoid, score=0.764, total=   0.0s\n",
            "[CV] C=10, gamma=auto, kernel=sigmoid ................................\n",
            "[CV] .... C=10, gamma=auto, kernel=sigmoid, score=0.702, total=   0.0s\n",
            "[CV] C=10, gamma=auto, kernel=sigmoid ................................\n",
            "[CV] .... C=10, gamma=auto, kernel=sigmoid, score=0.697, total=   0.0s\n",
            "[CV] C=100, gamma=scale, kernel=linear ...............................\n",
            "[CV] ... C=100, gamma=scale, kernel=linear, score=0.804, total=   0.5s\n",
            "[CV] C=100, gamma=scale, kernel=linear ...............................\n",
            "[CV] ... C=100, gamma=scale, kernel=linear, score=0.809, total=   0.4s\n",
            "[CV] C=100, gamma=scale, kernel=linear ...............................\n",
            "[CV] ... C=100, gamma=scale, kernel=linear, score=0.787, total=   0.6s\n",
            "[CV] C=100, gamma=scale, kernel=linear ...............................\n",
            "[CV] ... C=100, gamma=scale, kernel=linear, score=0.753, total=   0.1s\n",
            "[CV] C=100, gamma=scale, kernel=linear ...............................\n",
            "[CV] ... C=100, gamma=scale, kernel=linear, score=0.787, total=   0.1s\n",
            "[CV] C=100, gamma=scale, kernel=poly .................................\n",
            "[CV] ..... C=100, gamma=scale, kernel=poly, score=0.765, total=   0.2s\n",
            "[CV] C=100, gamma=scale, kernel=poly .................................\n",
            "[CV] ..... C=100, gamma=scale, kernel=poly, score=0.798, total=   0.2s\n",
            "[CV] C=100, gamma=scale, kernel=poly .................................\n",
            "[CV] ..... C=100, gamma=scale, kernel=poly, score=0.798, total=   0.1s\n",
            "[CV] C=100, gamma=scale, kernel=poly .................................\n",
            "[CV] ..... C=100, gamma=scale, kernel=poly, score=0.775, total=   0.1s\n",
            "[CV] C=100, gamma=scale, kernel=poly .................................\n",
            "[CV] ..... C=100, gamma=scale, kernel=poly, score=0.854, total=   0.2s\n",
            "[CV] C=100, gamma=scale, kernel=rbf ..................................\n",
            "[CV] ...... C=100, gamma=scale, kernel=rbf, score=0.771, total=   0.0s\n",
            "[CV] C=100, gamma=scale, kernel=rbf ..................................\n",
            "[CV] ...... C=100, gamma=scale, kernel=rbf, score=0.792, total=   0.0s\n",
            "[CV] C=100, gamma=scale, kernel=rbf ..................................\n",
            "[CV] ...... C=100, gamma=scale, kernel=rbf, score=0.798, total=   0.1s\n",
            "[CV] C=100, gamma=scale, kernel=rbf ..................................\n",
            "[CV] ...... C=100, gamma=scale, kernel=rbf, score=0.781, total=   0.1s\n",
            "[CV] C=100, gamma=scale, kernel=rbf ..................................\n",
            "[CV] ...... C=100, gamma=scale, kernel=rbf, score=0.831, total=   0.1s\n",
            "[CV] C=100, gamma=scale, kernel=sigmoid ..............................\n",
            "[CV] .. C=100, gamma=scale, kernel=sigmoid, score=0.654, total=   0.0s\n",
            "[CV] C=100, gamma=scale, kernel=sigmoid ..............................\n",
            "[CV] .. C=100, gamma=scale, kernel=sigmoid, score=0.629, total=   0.0s\n",
            "[CV] C=100, gamma=scale, kernel=sigmoid ..............................\n",
            "[CV] .. C=100, gamma=scale, kernel=sigmoid, score=0.719, total=   0.0s\n",
            "[CV] C=100, gamma=scale, kernel=sigmoid ..............................\n",
            "[CV] .. C=100, gamma=scale, kernel=sigmoid, score=0.674, total=   0.0s\n",
            "[CV] C=100, gamma=scale, kernel=sigmoid ..............................\n",
            "[CV] .. C=100, gamma=scale, kernel=sigmoid, score=0.657, total=   0.0s\n",
            "[CV] C=100, gamma=auto, kernel=linear ................................\n",
            "[CV] .... C=100, gamma=auto, kernel=linear, score=0.804, total=   0.5s\n",
            "[CV] C=100, gamma=auto, kernel=linear ................................\n",
            "[CV] .... C=100, gamma=auto, kernel=linear, score=0.809, total=   0.4s\n",
            "[CV] C=100, gamma=auto, kernel=linear ................................\n",
            "[CV] .... C=100, gamma=auto, kernel=linear, score=0.787, total=   0.6s\n",
            "[CV] C=100, gamma=auto, kernel=linear ................................\n",
            "[CV] .... C=100, gamma=auto, kernel=linear, score=0.753, total=   0.1s\n",
            "[CV] C=100, gamma=auto, kernel=linear ................................\n",
            "[CV] .... C=100, gamma=auto, kernel=linear, score=0.787, total=   0.1s\n",
            "[CV] C=100, gamma=auto, kernel=poly ..................................\n",
            "[CV] ...... C=100, gamma=auto, kernel=poly, score=0.777, total=   0.1s\n",
            "[CV] C=100, gamma=auto, kernel=poly ..................................\n",
            "[CV] ...... C=100, gamma=auto, kernel=poly, score=0.781, total=   0.1s\n",
            "[CV] C=100, gamma=auto, kernel=poly ..................................\n",
            "[CV] ...... C=100, gamma=auto, kernel=poly, score=0.820, total=   0.1s\n",
            "[CV] C=100, gamma=auto, kernel=poly ..................................\n",
            "[CV] ...... C=100, gamma=auto, kernel=poly, score=0.787, total=   0.1s\n",
            "[CV] C=100, gamma=auto, kernel=poly ..................................\n",
            "[CV] ...... C=100, gamma=auto, kernel=poly, score=0.865, total=   0.1s\n",
            "[CV] C=100, gamma=auto, kernel=rbf ...................................\n",
            "[CV] ....... C=100, gamma=auto, kernel=rbf, score=0.765, total=   0.0s\n",
            "[CV] C=100, gamma=auto, kernel=rbf ...................................\n",
            "[CV] ....... C=100, gamma=auto, kernel=rbf, score=0.798, total=   0.0s\n",
            "[CV] C=100, gamma=auto, kernel=rbf ...................................\n",
            "[CV] ....... C=100, gamma=auto, kernel=rbf, score=0.820, total=   0.0s\n",
            "[CV] C=100, gamma=auto, kernel=rbf ...................................\n",
            "[CV] ....... C=100, gamma=auto, kernel=rbf, score=0.764, total=   0.1s\n",
            "[CV] C=100, gamma=auto, kernel=rbf ...................................\n",
            "[CV] ....... C=100, gamma=auto, kernel=rbf, score=0.837, total=   0.0s\n",
            "[CV] C=100, gamma=auto, kernel=sigmoid ...............................\n",
            "[CV] ... C=100, gamma=auto, kernel=sigmoid, score=0.659, total=   0.0s\n",
            "[CV] C=100, gamma=auto, kernel=sigmoid ...............................\n",
            "[CV] ... C=100, gamma=auto, kernel=sigmoid, score=0.640, total=   0.0s\n",
            "[CV] C=100, gamma=auto, kernel=sigmoid ...............................\n",
            "[CV] ... C=100, gamma=auto, kernel=sigmoid, score=0.764, total=   0.0s\n",
            "[CV] C=100, gamma=auto, kernel=sigmoid ...............................\n",
            "[CV] ... C=100, gamma=auto, kernel=sigmoid, score=0.697, total=   0.0s\n",
            "[CV] C=100, gamma=auto, kernel=sigmoid ...............................\n",
            "[CV] ... C=100, gamma=auto, kernel=sigmoid, score=0.719, total=   0.0s\n",
            "[CV] C=0.03, gamma=scale, kernel=linear ..............................\n",
            "[CV] .. C=0.03, gamma=scale, kernel=linear, score=0.804, total=   0.0s\n",
            "[CV] C=0.03, gamma=scale, kernel=linear ..............................\n",
            "[CV] .. C=0.03, gamma=scale, kernel=linear, score=0.803, total=   0.0s\n",
            "[CV] C=0.03, gamma=scale, kernel=linear ..............................\n",
            "[CV] .. C=0.03, gamma=scale, kernel=linear, score=0.787, total=   0.0s\n",
            "[CV] C=0.03, gamma=scale, kernel=linear ..............................\n",
            "[CV] .. C=0.03, gamma=scale, kernel=linear, score=0.753, total=   0.0s\n",
            "[CV] C=0.03, gamma=scale, kernel=linear ..............................\n",
            "[CV] .. C=0.03, gamma=scale, kernel=linear, score=0.787, total=   0.0s\n",
            "[CV] C=0.03, gamma=scale, kernel=poly ................................\n",
            "[CV] .... C=0.03, gamma=scale, kernel=poly, score=0.659, total=   0.0s\n",
            "[CV] C=0.03, gamma=scale, kernel=poly ................................\n",
            "[CV] .... C=0.03, gamma=scale, kernel=poly, score=0.697, total=   0.0s\n",
            "[CV] C=0.03, gamma=scale, kernel=poly ................................\n",
            "[CV] .... C=0.03, gamma=scale, kernel=poly, score=0.635, total=   0.0s\n",
            "[CV] C=0.03, gamma=scale, kernel=poly ................................\n",
            "[CV] .... C=0.03, gamma=scale, kernel=poly, score=0.669, total=   0.0s\n",
            "[CV] C=0.03, gamma=scale, kernel=poly ................................\n",
            "[CV] .... C=0.03, gamma=scale, kernel=poly, score=0.691, total=   0.0s\n",
            "[CV] C=0.03, gamma=scale, kernel=rbf .................................\n",
            "[CV] ..... C=0.03, gamma=scale, kernel=rbf, score=0.732, total=   0.0s\n",
            "[CV] C=0.03, gamma=scale, kernel=rbf .................................\n",
            "[CV] ..... C=0.03, gamma=scale, kernel=rbf, score=0.758, total=   0.0s\n",
            "[CV] C=0.03, gamma=scale, kernel=rbf .................................\n",
            "[CV] ..... C=0.03, gamma=scale, kernel=rbf, score=0.730, total=   0.0s\n",
            "[CV] C=0.03, gamma=scale, kernel=rbf .................................\n",
            "[CV] ..... C=0.03, gamma=scale, kernel=rbf, score=0.747, total=   0.0s\n",
            "[CV] C=0.03, gamma=scale, kernel=rbf .................................\n",
            "[CV] ..... C=0.03, gamma=scale, kernel=rbf, score=0.702, total=   0.0s\n",
            "[CV] C=0.03, gamma=scale, kernel=sigmoid .............................\n",
            "[CV] . C=0.03, gamma=scale, kernel=sigmoid, score=0.709, total=   0.0s\n",
            "[CV] C=0.03, gamma=scale, kernel=sigmoid .............................\n",
            "[CV] . C=0.03, gamma=scale, kernel=sigmoid, score=0.792, total=   0.0s\n",
            "[CV] C=0.03, gamma=scale, kernel=sigmoid .............................\n",
            "[CV] . C=0.03, gamma=scale, kernel=sigmoid, score=0.742, total=   0.0s\n",
            "[CV] C=0.03, gamma=scale, kernel=sigmoid .............................\n",
            "[CV] . C=0.03, gamma=scale, kernel=sigmoid, score=0.758, total=   0.0s\n",
            "[CV] C=0.03, gamma=scale, kernel=sigmoid .............................\n",
            "[CV] . C=0.03, gamma=scale, kernel=sigmoid, score=0.809, total=   0.0s\n",
            "[CV] C=0.03, gamma=auto, kernel=linear ...............................\n",
            "[CV] ... C=0.03, gamma=auto, kernel=linear, score=0.804, total=   0.0s\n",
            "[CV] C=0.03, gamma=auto, kernel=linear ...............................\n",
            "[CV] ... C=0.03, gamma=auto, kernel=linear, score=0.803, total=   0.0s\n",
            "[CV] C=0.03, gamma=auto, kernel=linear ...............................\n",
            "[CV] ... C=0.03, gamma=auto, kernel=linear, score=0.787, total=   0.0s\n",
            "[CV] C=0.03, gamma=auto, kernel=linear ...............................\n",
            "[CV] ... C=0.03, gamma=auto, kernel=linear, score=0.753, total=   0.0s\n",
            "[CV] C=0.03, gamma=auto, kernel=linear ...............................\n",
            "[CV] ... C=0.03, gamma=auto, kernel=linear, score=0.787, total=   0.0s\n",
            "[CV] C=0.03, gamma=auto, kernel=poly .................................\n",
            "[CV] ..... C=0.03, gamma=auto, kernel=poly, score=0.615, total=   0.0s\n",
            "[CV] C=0.03, gamma=auto, kernel=poly .................................\n",
            "[CV] ..... C=0.03, gamma=auto, kernel=poly, score=0.635, total=   0.0s\n",
            "[CV] C=0.03, gamma=auto, kernel=poly .................................\n",
            "[CV] ..... C=0.03, gamma=auto, kernel=poly, score=0.618, total=   0.0s\n",
            "[CV] C=0.03, gamma=auto, kernel=poly .................................\n",
            "[CV] ..... C=0.03, gamma=auto, kernel=poly, score=0.635, total=   0.0s\n",
            "[CV] C=0.03, gamma=auto, kernel=poly .................................\n",
            "[CV] ..... C=0.03, gamma=auto, kernel=poly, score=0.640, total=   0.0s\n",
            "[CV] C=0.03, gamma=auto, kernel=rbf ..................................\n",
            "[CV] ...... C=0.03, gamma=auto, kernel=rbf, score=0.687, total=   0.0s\n",
            "[CV] C=0.03, gamma=auto, kernel=rbf ..................................\n",
            "[CV] ...... C=0.03, gamma=auto, kernel=rbf, score=0.725, total=   0.0s\n",
            "[CV] C=0.03, gamma=auto, kernel=rbf ..................................\n",
            "[CV] ...... C=0.03, gamma=auto, kernel=rbf, score=0.702, total=   0.0s\n",
            "[CV] C=0.03, gamma=auto, kernel=rbf ..................................\n",
            "[CV] ...... C=0.03, gamma=auto, kernel=rbf, score=0.725, total=   0.0s\n",
            "[CV] C=0.03, gamma=auto, kernel=rbf ..................................\n",
            "[CV] ...... C=0.03, gamma=auto, kernel=rbf, score=0.691, total=   0.0s\n",
            "[CV] C=0.03, gamma=auto, kernel=sigmoid ..............................\n",
            "[CV] .. C=0.03, gamma=auto, kernel=sigmoid, score=0.693, total=   0.0s\n",
            "[CV] C=0.03, gamma=auto, kernel=sigmoid ..............................\n",
            "[CV] .. C=0.03, gamma=auto, kernel=sigmoid, score=0.770, total=   0.0s\n",
            "[CV] C=0.03, gamma=auto, kernel=sigmoid ..............................\n",
            "[CV] .. C=0.03, gamma=auto, kernel=sigmoid, score=0.708, total=   0.0s\n",
            "[CV] C=0.03, gamma=auto, kernel=sigmoid ..............................\n",
            "[CV] .. C=0.03, gamma=auto, kernel=sigmoid, score=0.736, total=   0.0s\n",
            "[CV] C=0.03, gamma=auto, kernel=sigmoid ..............................\n",
            "[CV] .. C=0.03, gamma=auto, kernel=sigmoid, score=0.753, total=   0.0s\n",
            "[CV] C=0.3, gamma=scale, kernel=linear ...............................\n",
            "[CV] ... C=0.3, gamma=scale, kernel=linear, score=0.804, total=   0.0s\n",
            "[CV] C=0.3, gamma=scale, kernel=linear ...............................\n",
            "[CV] ... C=0.3, gamma=scale, kernel=linear, score=0.809, total=   0.0s\n",
            "[CV] C=0.3, gamma=scale, kernel=linear ...............................\n",
            "[CV] ... C=0.3, gamma=scale, kernel=linear, score=0.787, total=   0.0s\n",
            "[CV] C=0.3, gamma=scale, kernel=linear ...............................\n",
            "[CV] ... C=0.3, gamma=scale, kernel=linear, score=0.753, total=   0.0s\n",
            "[CV] C=0.3, gamma=scale, kernel=linear ...............................\n",
            "[CV] ... C=0.3, gamma=scale, kernel=linear, score=0.787, total=   0.0s\n",
            "[CV] C=0.3, gamma=scale, kernel=poly .................................\n",
            "[CV] ..... C=0.3, gamma=scale, kernel=poly, score=0.760, total=   0.0s\n",
            "[CV] C=0.3, gamma=scale, kernel=poly .................................\n",
            "[CV] ..... C=0.3, gamma=scale, kernel=poly, score=0.787, total=   0.0s\n",
            "[CV] C=0.3, gamma=scale, kernel=poly .................................\n",
            "[CV] ..... C=0.3, gamma=scale, kernel=poly, score=0.758, total=   0.0s\n",
            "[CV] C=0.3, gamma=scale, kernel=poly .................................\n",
            "[CV] ..... C=0.3, gamma=scale, kernel=poly, score=0.764, total=   0.0s\n",
            "[CV] C=0.3, gamma=scale, kernel=poly .................................\n",
            "[CV] ..... C=0.3, gamma=scale, kernel=poly, score=0.848, total=   0.0s\n",
            "[CV] C=0.3, gamma=scale, kernel=rbf ..................................\n",
            "[CV] ...... C=0.3, gamma=scale, kernel=rbf, score=0.827, total=   0.0s\n",
            "[CV] C=0.3, gamma=scale, kernel=rbf ..................................\n",
            "[CV] ...... C=0.3, gamma=scale, kernel=rbf, score=0.826, total=   0.0s\n",
            "[CV] C=0.3, gamma=scale, kernel=rbf ..................................\n",
            "[CV] ...... C=0.3, gamma=scale, kernel=rbf, score=0.798, total=   0.0s\n",
            "[CV] C=0.3, gamma=scale, kernel=rbf ..................................\n",
            "[CV] ...... C=0.3, gamma=scale, kernel=rbf, score=0.815, total=   0.0s\n",
            "[CV] C=0.3, gamma=scale, kernel=rbf ..................................\n",
            "[CV] ...... C=0.3, gamma=scale, kernel=rbf, score=0.843, total=   0.0s\n",
            "[CV] C=0.3, gamma=scale, kernel=sigmoid ..............................\n",
            "[CV] .. C=0.3, gamma=scale, kernel=sigmoid, score=0.715, total=   0.0s\n",
            "[CV] C=0.3, gamma=scale, kernel=sigmoid ..............................\n",
            "[CV] .. C=0.3, gamma=scale, kernel=sigmoid, score=0.697, total=   0.0s\n",
            "[CV] C=0.3, gamma=scale, kernel=sigmoid ..............................\n",
            "[CV] .. C=0.3, gamma=scale, kernel=sigmoid, score=0.719, total=   0.0s\n",
            "[CV] C=0.3, gamma=scale, kernel=sigmoid ..............................\n",
            "[CV] .. C=0.3, gamma=scale, kernel=sigmoid, score=0.713, total=   0.0s\n",
            "[CV] C=0.3, gamma=scale, kernel=sigmoid ..............................\n",
            "[CV] .. C=0.3, gamma=scale, kernel=sigmoid, score=0.708, total=   0.0s\n",
            "[CV] C=0.3, gamma=auto, kernel=linear ................................\n",
            "[CV] .... C=0.3, gamma=auto, kernel=linear, score=0.804, total=   0.0s\n",
            "[CV] C=0.3, gamma=auto, kernel=linear ................................\n",
            "[CV] .... C=0.3, gamma=auto, kernel=linear, score=0.809, total=   0.0s\n",
            "[CV] C=0.3, gamma=auto, kernel=linear ................................\n",
            "[CV] .... C=0.3, gamma=auto, kernel=linear, score=0.787, total=   0.0s\n",
            "[CV] C=0.3, gamma=auto, kernel=linear ................................\n",
            "[CV] .... C=0.3, gamma=auto, kernel=linear, score=0.753, total=   0.0s\n",
            "[CV] C=0.3, gamma=auto, kernel=linear ................................\n",
            "[CV] .... C=0.3, gamma=auto, kernel=linear, score=0.787, total=   0.0s\n",
            "[CV] C=0.3, gamma=auto, kernel=poly ..................................\n",
            "[CV] ...... C=0.3, gamma=auto, kernel=poly, score=0.726, total=   0.0s\n",
            "[CV] C=0.3, gamma=auto, kernel=poly ..................................\n",
            "[CV] ...... C=0.3, gamma=auto, kernel=poly, score=0.758, total=   0.0s\n",
            "[CV] C=0.3, gamma=auto, kernel=poly ..................................\n",
            "[CV] ...... C=0.3, gamma=auto, kernel=poly, score=0.736, total=   0.0s\n",
            "[CV] C=0.3, gamma=auto, kernel=poly ..................................\n",
            "[CV] ...... C=0.3, gamma=auto, kernel=poly, score=0.713, total=   0.0s\n",
            "[CV] C=0.3, gamma=auto, kernel=poly ..................................\n",
            "[CV] ...... C=0.3, gamma=auto, kernel=poly, score=0.787, total=   0.0s\n",
            "[CV] C=0.3, gamma=auto, kernel=rbf ...................................\n",
            "[CV] ....... C=0.3, gamma=auto, kernel=rbf, score=0.827, total=   0.0s\n",
            "[CV] C=0.3, gamma=auto, kernel=rbf ...................................\n",
            "[CV] ....... C=0.3, gamma=auto, kernel=rbf, score=0.820, total=   0.0s\n",
            "[CV] C=0.3, gamma=auto, kernel=rbf ...................................\n",
            "[CV] ....... C=0.3, gamma=auto, kernel=rbf, score=0.803, total=   0.0s\n",
            "[CV] C=0.3, gamma=auto, kernel=rbf ...................................\n",
            "[CV] ....... C=0.3, gamma=auto, kernel=rbf, score=0.809, total=   0.0s\n",
            "[CV] C=0.3, gamma=auto, kernel=rbf ...................................\n",
            "[CV] ....... C=0.3, gamma=auto, kernel=rbf, score=0.826, total=   0.0s\n",
            "[CV] C=0.3, gamma=auto, kernel=sigmoid ...............................\n",
            "[CV] ... C=0.3, gamma=auto, kernel=sigmoid, score=0.760, total=   0.0s\n",
            "[CV] C=0.3, gamma=auto, kernel=sigmoid ...............................\n",
            "[CV] ... C=0.3, gamma=auto, kernel=sigmoid, score=0.764, total=   0.0s\n",
            "[CV] C=0.3, gamma=auto, kernel=sigmoid ...............................\n",
            "[CV] ... C=0.3, gamma=auto, kernel=sigmoid, score=0.725, total=   0.0s\n",
            "[CV] C=0.3, gamma=auto, kernel=sigmoid ...............................\n",
            "[CV] ... C=0.3, gamma=auto, kernel=sigmoid, score=0.713, total=   0.0s\n",
            "[CV] C=0.3, gamma=auto, kernel=sigmoid ...............................\n",
            "[CV] ... C=0.3, gamma=auto, kernel=sigmoid, score=0.764, total=   0.0s\n",
            "[CV] C=3, gamma=scale, kernel=linear .................................\n",
            "[CV] ..... C=3, gamma=scale, kernel=linear, score=0.804, total=   0.0s\n",
            "[CV] C=3, gamma=scale, kernel=linear .................................\n",
            "[CV] ..... C=3, gamma=scale, kernel=linear, score=0.809, total=   0.0s\n",
            "[CV] C=3, gamma=scale, kernel=linear .................................\n",
            "[CV] ..... C=3, gamma=scale, kernel=linear, score=0.787, total=   0.0s\n",
            "[CV] C=3, gamma=scale, kernel=linear .................................\n",
            "[CV] ..... C=3, gamma=scale, kernel=linear, score=0.753, total=   0.0s\n",
            "[CV] C=3, gamma=scale, kernel=linear .................................\n",
            "[CV] ..... C=3, gamma=scale, kernel=linear, score=0.787, total=   0.0s\n",
            "[CV] C=3, gamma=scale, kernel=poly ...................................\n",
            "[CV] ....... C=3, gamma=scale, kernel=poly, score=0.821, total=   0.0s\n",
            "[CV] C=3, gamma=scale, kernel=poly ...................................\n",
            "[CV] ....... C=3, gamma=scale, kernel=poly, score=0.809, total=   0.0s\n",
            "[CV] C=3, gamma=scale, kernel=poly ...................................\n",
            "[CV] ....... C=3, gamma=scale, kernel=poly, score=0.815, total=   0.0s\n",
            "[CV] C=3, gamma=scale, kernel=poly ...................................\n",
            "[CV] ....... C=3, gamma=scale, kernel=poly, score=0.770, total=   0.0s\n",
            "[CV] C=3, gamma=scale, kernel=poly ...................................\n",
            "[CV] ....... C=3, gamma=scale, kernel=poly, score=0.882, total=   0.0s\n",
            "[CV] C=3, gamma=scale, kernel=rbf ....................................\n",
            "[CV] ........ C=3, gamma=scale, kernel=rbf, score=0.832, total=   0.0s\n",
            "[CV] C=3, gamma=scale, kernel=rbf ....................................\n",
            "[CV] ........ C=3, gamma=scale, kernel=rbf, score=0.820, total=   0.0s\n",
            "[CV] C=3, gamma=scale, kernel=rbf ....................................\n",
            "[CV] ........ C=3, gamma=scale, kernel=rbf, score=0.820, total=   0.0s\n",
            "[CV] C=3, gamma=scale, kernel=rbf ....................................\n",
            "[CV] ........ C=3, gamma=scale, kernel=rbf, score=0.803, total=   0.0s\n",
            "[CV] C=3, gamma=scale, kernel=rbf ....................................\n",
            "[CV] ........ C=3, gamma=scale, kernel=rbf, score=0.876, total=   0.0s\n",
            "[CV] C=3, gamma=scale, kernel=sigmoid ................................\n",
            "[CV] .... C=3, gamma=scale, kernel=sigmoid, score=0.665, total=   0.0s\n",
            "[CV] C=3, gamma=scale, kernel=sigmoid ................................\n",
            "[CV] .... C=3, gamma=scale, kernel=sigmoid, score=0.635, total=   0.0s\n",
            "[CV] C=3, gamma=scale, kernel=sigmoid ................................\n",
            "[CV] .... C=3, gamma=scale, kernel=sigmoid, score=0.725, total=   0.0s\n",
            "[CV] C=3, gamma=scale, kernel=sigmoid ................................\n",
            "[CV] .... C=3, gamma=scale, kernel=sigmoid, score=0.680, total=   0.0s\n",
            "[CV] C=3, gamma=scale, kernel=sigmoid ................................\n",
            "[CV] .... C=3, gamma=scale, kernel=sigmoid, score=0.657, total=   0.0s\n",
            "[CV] C=3, gamma=auto, kernel=linear ..................................\n",
            "[CV] ...... C=3, gamma=auto, kernel=linear, score=0.804, total=   0.0s\n",
            "[CV] C=3, gamma=auto, kernel=linear ..................................\n",
            "[CV] ...... C=3, gamma=auto, kernel=linear, score=0.809, total=   0.0s\n",
            "[CV] C=3, gamma=auto, kernel=linear ..................................\n",
            "[CV] ...... C=3, gamma=auto, kernel=linear, score=0.787, total=   0.0s\n",
            "[CV] C=3, gamma=auto, kernel=linear ..................................\n",
            "[CV] ...... C=3, gamma=auto, kernel=linear, score=0.753, total=   0.0s\n",
            "[CV] C=3, gamma=auto, kernel=linear ..................................\n",
            "[CV] ...... C=3, gamma=auto, kernel=linear, score=0.787, total=   0.0s\n",
            "[CV] C=3, gamma=auto, kernel=poly ....................................\n",
            "[CV] ........ C=3, gamma=auto, kernel=poly, score=0.838, total=   0.0s\n",
            "[CV] C=3, gamma=auto, kernel=poly ....................................\n",
            "[CV] ........ C=3, gamma=auto, kernel=poly, score=0.815, total=   0.0s\n",
            "[CV] C=3, gamma=auto, kernel=poly ....................................\n",
            "[CV] ........ C=3, gamma=auto, kernel=poly, score=0.820, total=   0.0s\n",
            "[CV] C=3, gamma=auto, kernel=poly ....................................\n",
            "[CV] ........ C=3, gamma=auto, kernel=poly, score=0.775, total=   0.0s\n",
            "[CV] C=3, gamma=auto, kernel=poly ....................................\n",
            "[CV] ........ C=3, gamma=auto, kernel=poly, score=0.876, total=   0.0s\n",
            "[CV] C=3, gamma=auto, kernel=rbf .....................................\n",
            "[CV] ......... C=3, gamma=auto, kernel=rbf, score=0.838, total=   0.0s\n",
            "[CV] C=3, gamma=auto, kernel=rbf .....................................\n",
            "[CV] ......... C=3, gamma=auto, kernel=rbf, score=0.820, total=   0.0s\n",
            "[CV] C=3, gamma=auto, kernel=rbf .....................................\n",
            "[CV] ......... C=3, gamma=auto, kernel=rbf, score=0.815, total=   0.0s\n",
            "[CV] C=3, gamma=auto, kernel=rbf .....................................\n",
            "[CV] ......... C=3, gamma=auto, kernel=rbf, score=0.815, total=   0.0s\n",
            "[CV] C=3, gamma=auto, kernel=rbf .....................................\n",
            "[CV] ......... C=3, gamma=auto, kernel=rbf, score=0.871, total=   0.0s\n",
            "[CV] C=3, gamma=auto, kernel=sigmoid .................................\n",
            "[CV] ..... C=3, gamma=auto, kernel=sigmoid, score=0.676, total=   0.0s\n",
            "[CV] C=3, gamma=auto, kernel=sigmoid .................................\n",
            "[CV] ..... C=3, gamma=auto, kernel=sigmoid, score=0.652, total=   0.0s\n",
            "[CV] C=3, gamma=auto, kernel=sigmoid .................................\n",
            "[CV] ..... C=3, gamma=auto, kernel=sigmoid, score=0.719, total=   0.0s\n",
            "[CV] C=3, gamma=auto, kernel=sigmoid .................................\n",
            "[CV] ..... C=3, gamma=auto, kernel=sigmoid, score=0.691, total=   0.0s\n",
            "[CV] C=3, gamma=auto, kernel=sigmoid .................................\n",
            "[CV] ..... C=3, gamma=auto, kernel=sigmoid, score=0.702, total=   0.0s\n",
            "[CV] C=30, gamma=scale, kernel=linear ................................\n",
            "[CV] .... C=30, gamma=scale, kernel=linear, score=0.804, total=   0.2s\n",
            "[CV] C=30, gamma=scale, kernel=linear ................................\n",
            "[CV] .... C=30, gamma=scale, kernel=linear, score=0.809, total=   0.2s\n",
            "[CV] C=30, gamma=scale, kernel=linear ................................\n",
            "[CV] .... C=30, gamma=scale, kernel=linear, score=0.787, total=   0.2s\n",
            "[CV] C=30, gamma=scale, kernel=linear ................................\n",
            "[CV] .... C=30, gamma=scale, kernel=linear, score=0.753, total=   0.0s\n",
            "[CV] C=30, gamma=scale, kernel=linear ................................\n",
            "[CV] .... C=30, gamma=scale, kernel=linear, score=0.787, total=   0.0s\n",
            "[CV] C=30, gamma=scale, kernel=poly ..................................\n",
            "[CV] ...... C=30, gamma=scale, kernel=poly, score=0.771, total=   0.1s\n",
            "[CV] C=30, gamma=scale, kernel=poly ..................................\n",
            "[CV] ...... C=30, gamma=scale, kernel=poly, score=0.781, total=   0.1s\n",
            "[CV] C=30, gamma=scale, kernel=poly ..................................\n",
            "[CV] ...... C=30, gamma=scale, kernel=poly, score=0.815, total=   0.1s\n",
            "[CV] C=30, gamma=scale, kernel=poly ..................................\n",
            "[CV] ...... C=30, gamma=scale, kernel=poly, score=0.787, total=   0.1s\n",
            "[CV] C=30, gamma=scale, kernel=poly ..................................\n",
            "[CV] ...... C=30, gamma=scale, kernel=poly, score=0.865, total=   0.1s\n",
            "[CV] C=30, gamma=scale, kernel=rbf ...................................\n",
            "[CV] ....... C=30, gamma=scale, kernel=rbf, score=0.771, total=   0.0s\n",
            "[CV] C=30, gamma=scale, kernel=rbf ...................................\n",
            "[CV] ....... C=30, gamma=scale, kernel=rbf, score=0.803, total=   0.0s\n",
            "[CV] C=30, gamma=scale, kernel=rbf ...................................\n",
            "[CV] ....... C=30, gamma=scale, kernel=rbf, score=0.826, total=   0.0s\n",
            "[CV] C=30, gamma=scale, kernel=rbf ...................................\n",
            "[CV] ....... C=30, gamma=scale, kernel=rbf, score=0.758, total=   0.0s\n",
            "[CV] C=30, gamma=scale, kernel=rbf ...................................\n",
            "[CV] ....... C=30, gamma=scale, kernel=rbf, score=0.837, total=   0.0s\n",
            "[CV] C=30, gamma=scale, kernel=sigmoid ...............................\n",
            "[CV] ... C=30, gamma=scale, kernel=sigmoid, score=0.654, total=   0.0s\n",
            "[CV] C=30, gamma=scale, kernel=sigmoid ...............................\n",
            "[CV] ... C=30, gamma=scale, kernel=sigmoid, score=0.629, total=   0.0s\n",
            "[CV] C=30, gamma=scale, kernel=sigmoid ...............................\n",
            "[CV] ... C=30, gamma=scale, kernel=sigmoid, score=0.719, total=   0.0s\n",
            "[CV] C=30, gamma=scale, kernel=sigmoid ...............................\n",
            "[CV] ... C=30, gamma=scale, kernel=sigmoid, score=0.680, total=   0.0s\n",
            "[CV] C=30, gamma=scale, kernel=sigmoid ...............................\n",
            "[CV] ... C=30, gamma=scale, kernel=sigmoid, score=0.663, total=   0.0s\n",
            "[CV] C=30, gamma=auto, kernel=linear .................................\n",
            "[CV] ..... C=30, gamma=auto, kernel=linear, score=0.804, total=   0.2s\n",
            "[CV] C=30, gamma=auto, kernel=linear .................................\n",
            "[CV] ..... C=30, gamma=auto, kernel=linear, score=0.809, total=   0.1s\n",
            "[CV] C=30, gamma=auto, kernel=linear .................................\n",
            "[CV] ..... C=30, gamma=auto, kernel=linear, score=0.787, total=   0.2s\n",
            "[CV] C=30, gamma=auto, kernel=linear .................................\n",
            "[CV] ..... C=30, gamma=auto, kernel=linear, score=0.753, total=   0.0s\n",
            "[CV] C=30, gamma=auto, kernel=linear .................................\n",
            "[CV] ..... C=30, gamma=auto, kernel=linear, score=0.787, total=   0.0s\n",
            "[CV] C=30, gamma=auto, kernel=poly ...................................\n",
            "[CV] ....... C=30, gamma=auto, kernel=poly, score=0.777, total=   0.0s\n",
            "[CV] C=30, gamma=auto, kernel=poly ...................................\n",
            "[CV] ....... C=30, gamma=auto, kernel=poly, score=0.815, total=   0.0s\n",
            "[CV] C=30, gamma=auto, kernel=poly ...................................\n",
            "[CV] ....... C=30, gamma=auto, kernel=poly, score=0.809, total=   0.0s\n",
            "[CV] C=30, gamma=auto, kernel=poly ...................................\n",
            "[CV] ....... C=30, gamma=auto, kernel=poly, score=0.758, total=   0.0s\n",
            "[CV] C=30, gamma=auto, kernel=poly ...................................\n",
            "[CV] ....... C=30, gamma=auto, kernel=poly, score=0.871, total=   0.0s\n",
            "[CV] C=30, gamma=auto, kernel=rbf ....................................\n",
            "[CV] ........ C=30, gamma=auto, kernel=rbf, score=0.788, total=   0.0s\n",
            "[CV] C=30, gamma=auto, kernel=rbf ....................................\n",
            "[CV] ........ C=30, gamma=auto, kernel=rbf, score=0.809, total=   0.0s\n",
            "[CV] C=30, gamma=auto, kernel=rbf ....................................\n",
            "[CV] ........ C=30, gamma=auto, kernel=rbf, score=0.815, total=   0.0s\n",
            "[CV] C=30, gamma=auto, kernel=rbf ....................................\n",
            "[CV] ........ C=30, gamma=auto, kernel=rbf, score=0.764, total=   0.0s\n",
            "[CV] C=30, gamma=auto, kernel=rbf ....................................\n",
            "[CV] ........ C=30, gamma=auto, kernel=rbf, score=0.854, total=   0.0s\n",
            "[CV] C=30, gamma=auto, kernel=sigmoid ................................\n",
            "[CV] .... C=30, gamma=auto, kernel=sigmoid, score=0.665, total=   0.0s\n",
            "[CV] C=30, gamma=auto, kernel=sigmoid ................................\n",
            "[CV] .... C=30, gamma=auto, kernel=sigmoid, score=0.652, total=   0.0s\n",
            "[CV] C=30, gamma=auto, kernel=sigmoid ................................\n",
            "[CV] .... C=30, gamma=auto, kernel=sigmoid, score=0.764, total=   0.0s\n",
            "[CV] C=30, gamma=auto, kernel=sigmoid ................................\n",
            "[CV] .... C=30, gamma=auto, kernel=sigmoid, score=0.747, total=   0.0s\n",
            "[CV] C=30, gamma=auto, kernel=sigmoid ................................\n",
            "[CV] .... C=30, gamma=auto, kernel=sigmoid, score=0.713, total=   0.0s\n",
            "[CV] C=300, gamma=scale, kernel=linear ...............................\n",
            "[CV] ... C=300, gamma=scale, kernel=linear, score=0.804, total=   4.8s\n",
            "[CV] C=300, gamma=scale, kernel=linear ...............................\n",
            "[CV] ... C=300, gamma=scale, kernel=linear, score=0.809, total=   1.7s\n",
            "[CV] C=300, gamma=scale, kernel=linear ...............................\n"
          ],
          "name": "stdout"
        },
        {
          "output_type": "error",
          "ename": "KeyboardInterrupt",
          "evalue": "ignored",
          "traceback": [
            "\u001b[0;31m---------------------------------------------------------------------------\u001b[0m",
            "\u001b[0;31mKeyboardInterrupt\u001b[0m                         Traceback (most recent call last)",
            "\u001b[0;32m<ipython-input-167-447ce1421afb>\u001b[0m in \u001b[0;36m<module>\u001b[0;34m()\u001b[0m\n\u001b[1;32m      7\u001b[0m svc_grid_search = GridSearchCV(svc_clf, svc_param_grid, cv=5,\n\u001b[1;32m      8\u001b[0m                            scoring='accuracy',verbose = 5)\n\u001b[0;32m----> 9\u001b[0;31m \u001b[0msvc_grid_search\u001b[0m\u001b[0;34m.\u001b[0m\u001b[0mfit\u001b[0m\u001b[0;34m(\u001b[0m\u001b[0mX_train\u001b[0m\u001b[0;34m,\u001b[0m\u001b[0my_train\u001b[0m\u001b[0;34m)\u001b[0m\u001b[0;34m\u001b[0m\u001b[0;34m\u001b[0m\u001b[0m\n\u001b[0m",
            "\u001b[0;32m/usr/local/lib/python3.6/dist-packages/sklearn/model_selection/_search.py\u001b[0m in \u001b[0;36mfit\u001b[0;34m(self, X, y, groups, **fit_params)\u001b[0m\n\u001b[1;32m    708\u001b[0m                 \u001b[0;32mreturn\u001b[0m \u001b[0mresults\u001b[0m\u001b[0;34m\u001b[0m\u001b[0;34m\u001b[0m\u001b[0m\n\u001b[1;32m    709\u001b[0m \u001b[0;34m\u001b[0m\u001b[0m\n\u001b[0;32m--> 710\u001b[0;31m             \u001b[0mself\u001b[0m\u001b[0;34m.\u001b[0m\u001b[0m_run_search\u001b[0m\u001b[0;34m(\u001b[0m\u001b[0mevaluate_candidates\u001b[0m\u001b[0;34m)\u001b[0m\u001b[0;34m\u001b[0m\u001b[0;34m\u001b[0m\u001b[0m\n\u001b[0m\u001b[1;32m    711\u001b[0m \u001b[0;34m\u001b[0m\u001b[0m\n\u001b[1;32m    712\u001b[0m         \u001b[0;31m# For multi-metric evaluation, store the best_index_, best_params_ and\u001b[0m\u001b[0;34m\u001b[0m\u001b[0;34m\u001b[0m\u001b[0;34m\u001b[0m\u001b[0m\n",
            "\u001b[0;32m/usr/local/lib/python3.6/dist-packages/sklearn/model_selection/_search.py\u001b[0m in \u001b[0;36m_run_search\u001b[0;34m(self, evaluate_candidates)\u001b[0m\n\u001b[1;32m   1149\u001b[0m     \u001b[0;32mdef\u001b[0m \u001b[0m_run_search\u001b[0m\u001b[0;34m(\u001b[0m\u001b[0mself\u001b[0m\u001b[0;34m,\u001b[0m \u001b[0mevaluate_candidates\u001b[0m\u001b[0;34m)\u001b[0m\u001b[0;34m:\u001b[0m\u001b[0;34m\u001b[0m\u001b[0;34m\u001b[0m\u001b[0m\n\u001b[1;32m   1150\u001b[0m         \u001b[0;34m\"\"\"Search all candidates in param_grid\"\"\"\u001b[0m\u001b[0;34m\u001b[0m\u001b[0;34m\u001b[0m\u001b[0m\n\u001b[0;32m-> 1151\u001b[0;31m         \u001b[0mevaluate_candidates\u001b[0m\u001b[0;34m(\u001b[0m\u001b[0mParameterGrid\u001b[0m\u001b[0;34m(\u001b[0m\u001b[0mself\u001b[0m\u001b[0;34m.\u001b[0m\u001b[0mparam_grid\u001b[0m\u001b[0;34m)\u001b[0m\u001b[0;34m)\u001b[0m\u001b[0;34m\u001b[0m\u001b[0;34m\u001b[0m\u001b[0m\n\u001b[0m\u001b[1;32m   1152\u001b[0m \u001b[0;34m\u001b[0m\u001b[0m\n\u001b[1;32m   1153\u001b[0m \u001b[0;34m\u001b[0m\u001b[0m\n",
            "\u001b[0;32m/usr/local/lib/python3.6/dist-packages/sklearn/model_selection/_search.py\u001b[0m in \u001b[0;36mevaluate_candidates\u001b[0;34m(candidate_params)\u001b[0m\n\u001b[1;32m    687\u001b[0m                                \u001b[0;32mfor\u001b[0m \u001b[0mparameters\u001b[0m\u001b[0;34m,\u001b[0m \u001b[0;34m(\u001b[0m\u001b[0mtrain\u001b[0m\u001b[0;34m,\u001b[0m \u001b[0mtest\u001b[0m\u001b[0;34m)\u001b[0m\u001b[0;34m\u001b[0m\u001b[0;34m\u001b[0m\u001b[0m\n\u001b[1;32m    688\u001b[0m                                in product(candidate_params,\n\u001b[0;32m--> 689\u001b[0;31m                                           cv.split(X, y, groups)))\n\u001b[0m\u001b[1;32m    690\u001b[0m \u001b[0;34m\u001b[0m\u001b[0m\n\u001b[1;32m    691\u001b[0m                 \u001b[0;32mif\u001b[0m \u001b[0mlen\u001b[0m\u001b[0;34m(\u001b[0m\u001b[0mout\u001b[0m\u001b[0;34m)\u001b[0m \u001b[0;34m<\u001b[0m \u001b[0;36m1\u001b[0m\u001b[0;34m:\u001b[0m\u001b[0;34m\u001b[0m\u001b[0;34m\u001b[0m\u001b[0m\n",
            "\u001b[0;32m/usr/local/lib/python3.6/dist-packages/joblib/parallel.py\u001b[0m in \u001b[0;36m__call__\u001b[0;34m(self, iterable)\u001b[0m\n\u001b[1;32m   1042\u001b[0m                 \u001b[0mself\u001b[0m\u001b[0;34m.\u001b[0m\u001b[0m_iterating\u001b[0m \u001b[0;34m=\u001b[0m \u001b[0mself\u001b[0m\u001b[0;34m.\u001b[0m\u001b[0m_original_iterator\u001b[0m \u001b[0;32mis\u001b[0m \u001b[0;32mnot\u001b[0m \u001b[0;32mNone\u001b[0m\u001b[0;34m\u001b[0m\u001b[0;34m\u001b[0m\u001b[0m\n\u001b[1;32m   1043\u001b[0m \u001b[0;34m\u001b[0m\u001b[0m\n\u001b[0;32m-> 1044\u001b[0;31m             \u001b[0;32mwhile\u001b[0m \u001b[0mself\u001b[0m\u001b[0;34m.\u001b[0m\u001b[0mdispatch_one_batch\u001b[0m\u001b[0;34m(\u001b[0m\u001b[0miterator\u001b[0m\u001b[0;34m)\u001b[0m\u001b[0;34m:\u001b[0m\u001b[0;34m\u001b[0m\u001b[0;34m\u001b[0m\u001b[0m\n\u001b[0m\u001b[1;32m   1045\u001b[0m                 \u001b[0;32mpass\u001b[0m\u001b[0;34m\u001b[0m\u001b[0;34m\u001b[0m\u001b[0m\n\u001b[1;32m   1046\u001b[0m \u001b[0;34m\u001b[0m\u001b[0m\n",
            "\u001b[0;32m/usr/local/lib/python3.6/dist-packages/joblib/parallel.py\u001b[0m in \u001b[0;36mdispatch_one_batch\u001b[0;34m(self, iterator)\u001b[0m\n\u001b[1;32m    857\u001b[0m                 \u001b[0;32mreturn\u001b[0m \u001b[0;32mFalse\u001b[0m\u001b[0;34m\u001b[0m\u001b[0;34m\u001b[0m\u001b[0m\n\u001b[1;32m    858\u001b[0m             \u001b[0;32melse\u001b[0m\u001b[0;34m:\u001b[0m\u001b[0;34m\u001b[0m\u001b[0;34m\u001b[0m\u001b[0m\n\u001b[0;32m--> 859\u001b[0;31m                 \u001b[0mself\u001b[0m\u001b[0;34m.\u001b[0m\u001b[0m_dispatch\u001b[0m\u001b[0;34m(\u001b[0m\u001b[0mtasks\u001b[0m\u001b[0;34m)\u001b[0m\u001b[0;34m\u001b[0m\u001b[0;34m\u001b[0m\u001b[0m\n\u001b[0m\u001b[1;32m    860\u001b[0m                 \u001b[0;32mreturn\u001b[0m \u001b[0;32mTrue\u001b[0m\u001b[0;34m\u001b[0m\u001b[0;34m\u001b[0m\u001b[0m\n\u001b[1;32m    861\u001b[0m \u001b[0;34m\u001b[0m\u001b[0m\n",
            "\u001b[0;32m/usr/local/lib/python3.6/dist-packages/joblib/parallel.py\u001b[0m in \u001b[0;36m_dispatch\u001b[0;34m(self, batch)\u001b[0m\n\u001b[1;32m    775\u001b[0m         \u001b[0;32mwith\u001b[0m \u001b[0mself\u001b[0m\u001b[0;34m.\u001b[0m\u001b[0m_lock\u001b[0m\u001b[0;34m:\u001b[0m\u001b[0;34m\u001b[0m\u001b[0;34m\u001b[0m\u001b[0m\n\u001b[1;32m    776\u001b[0m             \u001b[0mjob_idx\u001b[0m \u001b[0;34m=\u001b[0m \u001b[0mlen\u001b[0m\u001b[0;34m(\u001b[0m\u001b[0mself\u001b[0m\u001b[0;34m.\u001b[0m\u001b[0m_jobs\u001b[0m\u001b[0;34m)\u001b[0m\u001b[0;34m\u001b[0m\u001b[0;34m\u001b[0m\u001b[0m\n\u001b[0;32m--> 777\u001b[0;31m             \u001b[0mjob\u001b[0m \u001b[0;34m=\u001b[0m \u001b[0mself\u001b[0m\u001b[0;34m.\u001b[0m\u001b[0m_backend\u001b[0m\u001b[0;34m.\u001b[0m\u001b[0mapply_async\u001b[0m\u001b[0;34m(\u001b[0m\u001b[0mbatch\u001b[0m\u001b[0;34m,\u001b[0m \u001b[0mcallback\u001b[0m\u001b[0;34m=\u001b[0m\u001b[0mcb\u001b[0m\u001b[0;34m)\u001b[0m\u001b[0;34m\u001b[0m\u001b[0;34m\u001b[0m\u001b[0m\n\u001b[0m\u001b[1;32m    778\u001b[0m             \u001b[0;31m# A job can complete so quickly than its callback is\u001b[0m\u001b[0;34m\u001b[0m\u001b[0;34m\u001b[0m\u001b[0;34m\u001b[0m\u001b[0m\n\u001b[1;32m    779\u001b[0m             \u001b[0;31m# called before we get here, causing self._jobs to\u001b[0m\u001b[0;34m\u001b[0m\u001b[0;34m\u001b[0m\u001b[0;34m\u001b[0m\u001b[0m\n",
            "\u001b[0;32m/usr/local/lib/python3.6/dist-packages/joblib/_parallel_backends.py\u001b[0m in \u001b[0;36mapply_async\u001b[0;34m(self, func, callback)\u001b[0m\n\u001b[1;32m    206\u001b[0m     \u001b[0;32mdef\u001b[0m \u001b[0mapply_async\u001b[0m\u001b[0;34m(\u001b[0m\u001b[0mself\u001b[0m\u001b[0;34m,\u001b[0m \u001b[0mfunc\u001b[0m\u001b[0;34m,\u001b[0m \u001b[0mcallback\u001b[0m\u001b[0;34m=\u001b[0m\u001b[0;32mNone\u001b[0m\u001b[0;34m)\u001b[0m\u001b[0;34m:\u001b[0m\u001b[0;34m\u001b[0m\u001b[0;34m\u001b[0m\u001b[0m\n\u001b[1;32m    207\u001b[0m         \u001b[0;34m\"\"\"Schedule a func to be run\"\"\"\u001b[0m\u001b[0;34m\u001b[0m\u001b[0;34m\u001b[0m\u001b[0m\n\u001b[0;32m--> 208\u001b[0;31m         \u001b[0mresult\u001b[0m \u001b[0;34m=\u001b[0m \u001b[0mImmediateResult\u001b[0m\u001b[0;34m(\u001b[0m\u001b[0mfunc\u001b[0m\u001b[0;34m)\u001b[0m\u001b[0;34m\u001b[0m\u001b[0;34m\u001b[0m\u001b[0m\n\u001b[0m\u001b[1;32m    209\u001b[0m         \u001b[0;32mif\u001b[0m \u001b[0mcallback\u001b[0m\u001b[0;34m:\u001b[0m\u001b[0;34m\u001b[0m\u001b[0;34m\u001b[0m\u001b[0m\n\u001b[1;32m    210\u001b[0m             \u001b[0mcallback\u001b[0m\u001b[0;34m(\u001b[0m\u001b[0mresult\u001b[0m\u001b[0;34m)\u001b[0m\u001b[0;34m\u001b[0m\u001b[0;34m\u001b[0m\u001b[0m\n",
            "\u001b[0;32m/usr/local/lib/python3.6/dist-packages/joblib/_parallel_backends.py\u001b[0m in \u001b[0;36m__init__\u001b[0;34m(self, batch)\u001b[0m\n\u001b[1;32m    570\u001b[0m         \u001b[0;31m# Don't delay the application, to avoid keeping the input\u001b[0m\u001b[0;34m\u001b[0m\u001b[0;34m\u001b[0m\u001b[0;34m\u001b[0m\u001b[0m\n\u001b[1;32m    571\u001b[0m         \u001b[0;31m# arguments in memory\u001b[0m\u001b[0;34m\u001b[0m\u001b[0;34m\u001b[0m\u001b[0;34m\u001b[0m\u001b[0m\n\u001b[0;32m--> 572\u001b[0;31m         \u001b[0mself\u001b[0m\u001b[0;34m.\u001b[0m\u001b[0mresults\u001b[0m \u001b[0;34m=\u001b[0m \u001b[0mbatch\u001b[0m\u001b[0;34m(\u001b[0m\u001b[0;34m)\u001b[0m\u001b[0;34m\u001b[0m\u001b[0;34m\u001b[0m\u001b[0m\n\u001b[0m\u001b[1;32m    573\u001b[0m \u001b[0;34m\u001b[0m\u001b[0m\n\u001b[1;32m    574\u001b[0m     \u001b[0;32mdef\u001b[0m \u001b[0mget\u001b[0m\u001b[0;34m(\u001b[0m\u001b[0mself\u001b[0m\u001b[0;34m)\u001b[0m\u001b[0;34m:\u001b[0m\u001b[0;34m\u001b[0m\u001b[0;34m\u001b[0m\u001b[0m\n",
            "\u001b[0;32m/usr/local/lib/python3.6/dist-packages/joblib/parallel.py\u001b[0m in \u001b[0;36m__call__\u001b[0;34m(self)\u001b[0m\n\u001b[1;32m    261\u001b[0m         \u001b[0;32mwith\u001b[0m \u001b[0mparallel_backend\u001b[0m\u001b[0;34m(\u001b[0m\u001b[0mself\u001b[0m\u001b[0;34m.\u001b[0m\u001b[0m_backend\u001b[0m\u001b[0;34m,\u001b[0m \u001b[0mn_jobs\u001b[0m\u001b[0;34m=\u001b[0m\u001b[0mself\u001b[0m\u001b[0;34m.\u001b[0m\u001b[0m_n_jobs\u001b[0m\u001b[0;34m)\u001b[0m\u001b[0;34m:\u001b[0m\u001b[0;34m\u001b[0m\u001b[0;34m\u001b[0m\u001b[0m\n\u001b[1;32m    262\u001b[0m             return [func(*args, **kwargs)\n\u001b[0;32m--> 263\u001b[0;31m                     for func, args, kwargs in self.items]\n\u001b[0m\u001b[1;32m    264\u001b[0m \u001b[0;34m\u001b[0m\u001b[0m\n\u001b[1;32m    265\u001b[0m     \u001b[0;32mdef\u001b[0m \u001b[0m__reduce__\u001b[0m\u001b[0;34m(\u001b[0m\u001b[0mself\u001b[0m\u001b[0;34m)\u001b[0m\u001b[0;34m:\u001b[0m\u001b[0;34m\u001b[0m\u001b[0;34m\u001b[0m\u001b[0m\n",
            "\u001b[0;32m/usr/local/lib/python3.6/dist-packages/joblib/parallel.py\u001b[0m in \u001b[0;36m<listcomp>\u001b[0;34m(.0)\u001b[0m\n\u001b[1;32m    261\u001b[0m         \u001b[0;32mwith\u001b[0m \u001b[0mparallel_backend\u001b[0m\u001b[0;34m(\u001b[0m\u001b[0mself\u001b[0m\u001b[0;34m.\u001b[0m\u001b[0m_backend\u001b[0m\u001b[0;34m,\u001b[0m \u001b[0mn_jobs\u001b[0m\u001b[0;34m=\u001b[0m\u001b[0mself\u001b[0m\u001b[0;34m.\u001b[0m\u001b[0m_n_jobs\u001b[0m\u001b[0;34m)\u001b[0m\u001b[0;34m:\u001b[0m\u001b[0;34m\u001b[0m\u001b[0;34m\u001b[0m\u001b[0m\n\u001b[1;32m    262\u001b[0m             return [func(*args, **kwargs)\n\u001b[0;32m--> 263\u001b[0;31m                     for func, args, kwargs in self.items]\n\u001b[0m\u001b[1;32m    264\u001b[0m \u001b[0;34m\u001b[0m\u001b[0m\n\u001b[1;32m    265\u001b[0m     \u001b[0;32mdef\u001b[0m \u001b[0m__reduce__\u001b[0m\u001b[0;34m(\u001b[0m\u001b[0mself\u001b[0m\u001b[0;34m)\u001b[0m\u001b[0;34m:\u001b[0m\u001b[0;34m\u001b[0m\u001b[0;34m\u001b[0m\u001b[0m\n",
            "\u001b[0;32m/usr/local/lib/python3.6/dist-packages/sklearn/model_selection/_validation.py\u001b[0m in \u001b[0;36m_fit_and_score\u001b[0;34m(estimator, X, y, scorer, train, test, verbose, parameters, fit_params, return_train_score, return_parameters, return_n_test_samples, return_times, return_estimator, error_score)\u001b[0m\n\u001b[1;32m    513\u001b[0m             \u001b[0mestimator\u001b[0m\u001b[0;34m.\u001b[0m\u001b[0mfit\u001b[0m\u001b[0;34m(\u001b[0m\u001b[0mX_train\u001b[0m\u001b[0;34m,\u001b[0m \u001b[0;34m**\u001b[0m\u001b[0mfit_params\u001b[0m\u001b[0;34m)\u001b[0m\u001b[0;34m\u001b[0m\u001b[0;34m\u001b[0m\u001b[0m\n\u001b[1;32m    514\u001b[0m         \u001b[0;32melse\u001b[0m\u001b[0;34m:\u001b[0m\u001b[0;34m\u001b[0m\u001b[0;34m\u001b[0m\u001b[0m\n\u001b[0;32m--> 515\u001b[0;31m             \u001b[0mestimator\u001b[0m\u001b[0;34m.\u001b[0m\u001b[0mfit\u001b[0m\u001b[0;34m(\u001b[0m\u001b[0mX_train\u001b[0m\u001b[0;34m,\u001b[0m \u001b[0my_train\u001b[0m\u001b[0;34m,\u001b[0m \u001b[0;34m**\u001b[0m\u001b[0mfit_params\u001b[0m\u001b[0;34m)\u001b[0m\u001b[0;34m\u001b[0m\u001b[0;34m\u001b[0m\u001b[0m\n\u001b[0m\u001b[1;32m    516\u001b[0m \u001b[0;34m\u001b[0m\u001b[0m\n\u001b[1;32m    517\u001b[0m     \u001b[0;32mexcept\u001b[0m \u001b[0mException\u001b[0m \u001b[0;32mas\u001b[0m \u001b[0me\u001b[0m\u001b[0;34m:\u001b[0m\u001b[0;34m\u001b[0m\u001b[0;34m\u001b[0m\u001b[0m\n",
            "\u001b[0;32m/usr/local/lib/python3.6/dist-packages/sklearn/svm/_base.py\u001b[0m in \u001b[0;36mfit\u001b[0;34m(self, X, y, sample_weight)\u001b[0m\n\u001b[1;32m    197\u001b[0m \u001b[0;34m\u001b[0m\u001b[0m\n\u001b[1;32m    198\u001b[0m         \u001b[0mseed\u001b[0m \u001b[0;34m=\u001b[0m \u001b[0mrnd\u001b[0m\u001b[0;34m.\u001b[0m\u001b[0mrandint\u001b[0m\u001b[0;34m(\u001b[0m\u001b[0mnp\u001b[0m\u001b[0;34m.\u001b[0m\u001b[0miinfo\u001b[0m\u001b[0;34m(\u001b[0m\u001b[0;34m'i'\u001b[0m\u001b[0;34m)\u001b[0m\u001b[0;34m.\u001b[0m\u001b[0mmax\u001b[0m\u001b[0;34m)\u001b[0m\u001b[0;34m\u001b[0m\u001b[0;34m\u001b[0m\u001b[0m\n\u001b[0;32m--> 199\u001b[0;31m         \u001b[0mfit\u001b[0m\u001b[0;34m(\u001b[0m\u001b[0mX\u001b[0m\u001b[0;34m,\u001b[0m \u001b[0my\u001b[0m\u001b[0;34m,\u001b[0m \u001b[0msample_weight\u001b[0m\u001b[0;34m,\u001b[0m \u001b[0msolver_type\u001b[0m\u001b[0;34m,\u001b[0m \u001b[0mkernel\u001b[0m\u001b[0;34m,\u001b[0m \u001b[0mrandom_seed\u001b[0m\u001b[0;34m=\u001b[0m\u001b[0mseed\u001b[0m\u001b[0;34m)\u001b[0m\u001b[0;34m\u001b[0m\u001b[0;34m\u001b[0m\u001b[0m\n\u001b[0m\u001b[1;32m    200\u001b[0m         \u001b[0;31m# see comment on the other call to np.iinfo in this file\u001b[0m\u001b[0;34m\u001b[0m\u001b[0;34m\u001b[0m\u001b[0;34m\u001b[0m\u001b[0m\n\u001b[1;32m    201\u001b[0m \u001b[0;34m\u001b[0m\u001b[0m\n",
            "\u001b[0;32m/usr/local/lib/python3.6/dist-packages/sklearn/svm/_base.py\u001b[0m in \u001b[0;36m_dense_fit\u001b[0;34m(self, X, y, sample_weight, solver_type, kernel, random_seed)\u001b[0m\n\u001b[1;32m    256\u001b[0m                 \u001b[0mcache_size\u001b[0m\u001b[0;34m=\u001b[0m\u001b[0mself\u001b[0m\u001b[0;34m.\u001b[0m\u001b[0mcache_size\u001b[0m\u001b[0;34m,\u001b[0m \u001b[0mcoef0\u001b[0m\u001b[0;34m=\u001b[0m\u001b[0mself\u001b[0m\u001b[0;34m.\u001b[0m\u001b[0mcoef0\u001b[0m\u001b[0;34m,\u001b[0m\u001b[0;34m\u001b[0m\u001b[0;34m\u001b[0m\u001b[0m\n\u001b[1;32m    257\u001b[0m                 \u001b[0mgamma\u001b[0m\u001b[0;34m=\u001b[0m\u001b[0mself\u001b[0m\u001b[0;34m.\u001b[0m\u001b[0m_gamma\u001b[0m\u001b[0;34m,\u001b[0m \u001b[0mepsilon\u001b[0m\u001b[0;34m=\u001b[0m\u001b[0mself\u001b[0m\u001b[0;34m.\u001b[0m\u001b[0mepsilon\u001b[0m\u001b[0;34m,\u001b[0m\u001b[0;34m\u001b[0m\u001b[0;34m\u001b[0m\u001b[0m\n\u001b[0;32m--> 258\u001b[0;31m                 max_iter=self.max_iter, random_seed=random_seed)\n\u001b[0m\u001b[1;32m    259\u001b[0m \u001b[0;34m\u001b[0m\u001b[0m\n\u001b[1;32m    260\u001b[0m         \u001b[0mself\u001b[0m\u001b[0;34m.\u001b[0m\u001b[0m_warn_from_fit_status\u001b[0m\u001b[0;34m(\u001b[0m\u001b[0;34m)\u001b[0m\u001b[0;34m\u001b[0m\u001b[0;34m\u001b[0m\u001b[0m\n",
            "\u001b[0;31mKeyboardInterrupt\u001b[0m: "
          ]
        }
      ]
    },
    {
      "cell_type": "code",
      "metadata": {
        "id": "jhgtZXI_0O5B"
      },
      "source": [
        "display(svc_grid_search.best_score_, svc_grid_search.best_params_)"
      ],
      "execution_count": null,
      "outputs": []
    },
    {
      "cell_type": "markdown",
      "metadata": {
        "id": "ZnsPe4gcw8Tk"
      },
      "source": [
        "###2.2 Random Forest Classifier"
      ]
    },
    {
      "cell_type": "code",
      "metadata": {
        "id": "5U2XGKOOvU6m"
      },
      "source": [
        "#Random Forrest Model\r\n",
        "from sklearn.ensemble import RandomForestClassifier\r\n",
        "rfc_clf = RandomForestClassifier()\r\n",
        "rfc_scores = cross_val_score(rfc_clf, X_train, y_train, cv=10)"
      ],
      "execution_count": null,
      "outputs": []
    },
    {
      "cell_type": "code",
      "metadata": {
        "id": "1V37BZTPwDCZ"
      },
      "source": [
        "display(rfc_scores,rfc_scores.mean())"
      ],
      "execution_count": null,
      "outputs": []
    },
    {
      "cell_type": "code",
      "metadata": {
        "id": "alX98qb_wGz3"
      },
      "source": [
        "rfc_param_grid = {\r\n",
        "    'n_estimators' : [x for x in range(50,250)],\r\n",
        "    'max_features': ['auto', 'sqrt', 'log2']\r\n",
        "    }\r\n",
        " \r\n",
        "rfc_grid_search = GridSearchCV(rfc_clf, rfc_param_grid, cv=5,\r\n",
        "                           scoring='accuracy',verbose = 5)\r\n",
        "rfc_grid_search.fit(X_train,y_train)"
      ],
      "execution_count": null,
      "outputs": []
    },
    {
      "cell_type": "code",
      "metadata": {
        "id": "UWvvHo1Y0ih4"
      },
      "source": [
        "display(rfc_grid_search.best_score_, rfc_grid_search.best_params_)"
      ],
      "execution_count": null,
      "outputs": []
    },
    {
      "cell_type": "markdown",
      "metadata": {
        "id": "Fp0d3OyLxAHl"
      },
      "source": [
        "###2.3 K-Nearest Neighbors"
      ]
    },
    {
      "cell_type": "code",
      "metadata": {
        "id": "e13qMs2XxE_j"
      },
      "source": [
        "from sklearn.neighbors import KNeighborsClassifier\r\n",
        "knn_clf = KNeighborsClassifier()\r\n",
        "knn_scores = cross_val_score(knn_clf, X_train, y_train, cv=10)"
      ],
      "execution_count": null,
      "outputs": []
    },
    {
      "cell_type": "code",
      "metadata": {
        "id": "GTE47u05xS1M"
      },
      "source": [
        "display(knn_scores, knn_scores.mean())"
      ],
      "execution_count": null,
      "outputs": []
    },
    {
      "cell_type": "code",
      "metadata": {
        "id": "sNi2cq0PxWYs"
      },
      "source": [
        "knn_param_grid = {\r\n",
        "    'weights' : ['uniform', 'distance'],\r\n",
        "    'n_neighbors' : [x for x in range(1,100)]\r\n",
        "} \r\n",
        "knn_grid_search = GridSearchCV(knn_clf, knn_param_grid, cv=5,\r\n",
        "                           scoring='accuracy',verbose = 5)\r\n",
        "knn_grid_search.fit(X_train,y_train)"
      ],
      "execution_count": null,
      "outputs": []
    },
    {
      "cell_type": "code",
      "metadata": {
        "id": "Vn591Xl30Bnc"
      },
      "source": [
        "display(knn_grid_search.best_score_, knn_grid_search.best_params_)"
      ],
      "execution_count": null,
      "outputs": []
    },
    {
      "cell_type": "markdown",
      "metadata": {
        "id": "0HCoqhwVxt54"
      },
      "source": [
        "### 2.4 XGB Classifier"
      ]
    },
    {
      "cell_type": "code",
      "metadata": {
        "id": "zCnjtRpjxzc0"
      },
      "source": [
        "from xgboost import XGBClassifier"
      ],
      "execution_count": null,
      "outputs": []
    },
    {
      "cell_type": "code",
      "metadata": {
        "id": "uKWOy31xx7HJ"
      },
      "source": [
        "xgb_clf = XGBClassifier()"
      ],
      "execution_count": null,
      "outputs": []
    },
    {
      "cell_type": "code",
      "metadata": {
        "id": "c68uya4ix64G"
      },
      "source": [
        "xgb_clf.fit(X_train, y_train)"
      ],
      "execution_count": null,
      "outputs": []
    },
    {
      "cell_type": "code",
      "metadata": {
        "id": "tcloUHa3x608"
      },
      "source": [
        "from sklearn.model_selection import cross_val_score"
      ],
      "execution_count": null,
      "outputs": []
    },
    {
      "cell_type": "code",
      "metadata": {
        "colab": {
          "base_uri": "https://localhost:8080/"
        },
        "id": "6G2eGv_ry60D",
        "outputId": "dc6c4910-0762-4dfa-e57c-f0dfb4903f72"
      },
      "source": [
        "xgb_cvs = cross_val_score(xgb_clf, X_train, y_train,verbose=3, cv=10)"
      ],
      "execution_count": null,
      "outputs": [
        {
          "output_type": "stream",
          "text": [
            "[Parallel(n_jobs=1)]: Using backend SequentialBackend with 1 concurrent workers.\n",
            "[Parallel(n_jobs=1)]: Done   1 out of   1 | elapsed:    0.1s remaining:    0.0s\n",
            "[Parallel(n_jobs=1)]: Done   2 out of   2 | elapsed:    0.1s remaining:    0.0s\n"
          ],
          "name": "stderr"
        },
        {
          "output_type": "stream",
          "text": [
            "[CV]  ................................................................\n",
            "[CV] .................................... , score=0.789, total=   0.1s\n",
            "[CV]  ................................................................\n",
            "[CV] .................................... , score=0.809, total=   0.0s\n",
            "[CV]  ................................................................\n",
            "[CV] .................................... , score=0.764, total=   0.0s\n",
            "[CV]  ................................................................\n",
            "[CV] .................................... , score=0.843, total=   0.1s\n",
            "[CV]  ................................................................\n",
            "[CV] .................................... , score=0.865, total=   0.1s\n",
            "[CV]  ................................................................\n",
            "[CV] .................................... , score=0.820, total=   0.0s\n",
            "[CV]  ................................................................\n",
            "[CV] .................................... , score=0.854, total=   0.0s\n",
            "[CV]  ................................................................\n",
            "[CV] .................................... , score=0.775, total=   0.0s\n",
            "[CV]  ................................................................\n",
            "[CV] .................................... , score=0.865, total=   0.0s\n",
            "[CV]  ................................................................\n",
            "[CV] .................................... , score=0.831, total=   0.0s\n"
          ],
          "name": "stdout"
        },
        {
          "output_type": "stream",
          "text": [
            "[Parallel(n_jobs=1)]: Done  10 out of  10 | elapsed:    0.5s finished\n"
          ],
          "name": "stderr"
        }
      ]
    },
    {
      "cell_type": "code",
      "metadata": {
        "colab": {
          "base_uri": "https://localhost:8080/",
          "height": 35
        },
        "id": "8kyVIHSyzoIq",
        "outputId": "bc9b45ce-72a1-4e69-9970-899dfb7df5fd"
      },
      "source": [
        "display(xgb_cvs.mean())"
      ],
      "execution_count": null,
      "outputs": [
        {
          "output_type": "display_data",
          "data": {
            "text/plain": [
              "0.821585518102372"
            ]
          },
          "metadata": {
            "tags": []
          }
        }
      ]
    },
    {
      "cell_type": "markdown",
      "metadata": {
        "id": "fFK7TbPGvE7L"
      },
      "source": [
        "###2.X Lazy Predict"
      ]
    },
    {
      "cell_type": "markdown",
      "metadata": {
        "id": "PH0iIQneOqQ0"
      },
      "source": [
        "**Lazy Predict is a library that will run every single algorithm, and will sorted it out from best performing, please refer to the documentation at [Lazy Predict](https://lazypredict.readthedocs.io/en/latest/readme.html)**"
      ]
    },
    {
      "cell_type": "markdown",
      "metadata": {
        "id": "BcwOD1NqPKO5"
      },
      "source": [
        "Instalattion: \r\n",
        "1. Mac, Windows & Linux\r\n",
        "`pip install lazypredict`\r\n",
        "2. Google Colab\r\n",
        "`!pip install lazypredict"
      ]
    },
    {
      "cell_type": "code",
      "metadata": {
        "id": "eYHOPSyVvK1z"
      },
      "source": [
        "!pip install lazypredict"
      ],
      "execution_count": null,
      "outputs": []
    },
    {
      "cell_type": "code",
      "metadata": {
        "colab": {
          "base_uri": "https://localhost:8080/",
          "height": 977
        },
        "id": "tVxrpx8YwDWT",
        "outputId": "53f0370f-59de-40e0-95ca-9edbba3ccccd"
      },
      "source": [
        "X_train_lp, X_test_lp, y_train_lp, y_test_lp = train_test_split(X_train,y_train,test_size=.5,random_state =123)\r\n",
        "\r\n",
        "lp_clf = LazyClassifier(verbose=0,ignore_warnings=True, custom_metric=\"accuracy\")\r\n",
        "models,predictions = clf.fit(X_train_lp, X_test_lp, y_train_lp, y_test_lp)\r\n",
        "\r\n",
        "display(models)"
      ],
      "execution_count": null,
      "outputs": [
        {
          "output_type": "stream",
          "text": [
            "100%|██████████| 30/30 [00:01<00:00, 27.42it/s]\n"
          ],
          "name": "stderr"
        },
        {
          "output_type": "display_data",
          "data": {
            "text/html": [
              "<div>\n",
              "<style scoped>\n",
              "    .dataframe tbody tr th:only-of-type {\n",
              "        vertical-align: middle;\n",
              "    }\n",
              "\n",
              "    .dataframe tbody tr th {\n",
              "        vertical-align: top;\n",
              "    }\n",
              "\n",
              "    .dataframe thead th {\n",
              "        text-align: right;\n",
              "    }\n",
              "</style>\n",
              "<table border=\"1\" class=\"dataframe\">\n",
              "  <thead>\n",
              "    <tr style=\"text-align: right;\">\n",
              "      <th></th>\n",
              "      <th>Accuracy</th>\n",
              "      <th>Balanced Accuracy</th>\n",
              "      <th>ROC AUC</th>\n",
              "      <th>F1 Score</th>\n",
              "      <th>Time Taken</th>\n",
              "    </tr>\n",
              "    <tr>\n",
              "      <th>Model</th>\n",
              "      <th></th>\n",
              "      <th></th>\n",
              "      <th></th>\n",
              "      <th></th>\n",
              "      <th></th>\n",
              "    </tr>\n",
              "  </thead>\n",
              "  <tbody>\n",
              "    <tr>\n",
              "      <th>XGBClassifier</th>\n",
              "      <td>0.83</td>\n",
              "      <td>0.82</td>\n",
              "      <td>0.82</td>\n",
              "      <td>0.83</td>\n",
              "      <td>0.06</td>\n",
              "    </tr>\n",
              "    <tr>\n",
              "      <th>NuSVC</th>\n",
              "      <td>0.84</td>\n",
              "      <td>0.81</td>\n",
              "      <td>0.81</td>\n",
              "      <td>0.83</td>\n",
              "      <td>0.02</td>\n",
              "    </tr>\n",
              "    <tr>\n",
              "      <th>LGBMClassifier</th>\n",
              "      <td>0.82</td>\n",
              "      <td>0.81</td>\n",
              "      <td>0.81</td>\n",
              "      <td>0.82</td>\n",
              "      <td>0.04</td>\n",
              "    </tr>\n",
              "    <tr>\n",
              "      <th>SVC</th>\n",
              "      <td>0.83</td>\n",
              "      <td>0.81</td>\n",
              "      <td>0.81</td>\n",
              "      <td>0.83</td>\n",
              "      <td>0.03</td>\n",
              "    </tr>\n",
              "    <tr>\n",
              "      <th>RandomForestClassifier</th>\n",
              "      <td>0.80</td>\n",
              "      <td>0.80</td>\n",
              "      <td>0.80</td>\n",
              "      <td>0.80</td>\n",
              "      <td>0.17</td>\n",
              "    </tr>\n",
              "    <tr>\n",
              "      <th>AdaBoostClassifier</th>\n",
              "      <td>0.80</td>\n",
              "      <td>0.79</td>\n",
              "      <td>0.79</td>\n",
              "      <td>0.80</td>\n",
              "      <td>0.09</td>\n",
              "    </tr>\n",
              "    <tr>\n",
              "      <th>BaggingClassifier</th>\n",
              "      <td>0.80</td>\n",
              "      <td>0.79</td>\n",
              "      <td>0.79</td>\n",
              "      <td>0.80</td>\n",
              "      <td>0.03</td>\n",
              "    </tr>\n",
              "    <tr>\n",
              "      <th>LogisticRegression</th>\n",
              "      <td>0.79</td>\n",
              "      <td>0.78</td>\n",
              "      <td>0.78</td>\n",
              "      <td>0.79</td>\n",
              "      <td>0.02</td>\n",
              "    </tr>\n",
              "    <tr>\n",
              "      <th>GaussianNB</th>\n",
              "      <td>0.79</td>\n",
              "      <td>0.78</td>\n",
              "      <td>0.78</td>\n",
              "      <td>0.79</td>\n",
              "      <td>0.01</td>\n",
              "    </tr>\n",
              "    <tr>\n",
              "      <th>KNeighborsClassifier</th>\n",
              "      <td>0.79</td>\n",
              "      <td>0.78</td>\n",
              "      <td>0.78</td>\n",
              "      <td>0.79</td>\n",
              "      <td>0.03</td>\n",
              "    </tr>\n",
              "    <tr>\n",
              "      <th>BernoulliNB</th>\n",
              "      <td>0.79</td>\n",
              "      <td>0.78</td>\n",
              "      <td>0.78</td>\n",
              "      <td>0.79</td>\n",
              "      <td>0.01</td>\n",
              "    </tr>\n",
              "    <tr>\n",
              "      <th>DecisionTreeClassifier</th>\n",
              "      <td>0.78</td>\n",
              "      <td>0.78</td>\n",
              "      <td>0.78</td>\n",
              "      <td>0.78</td>\n",
              "      <td>0.01</td>\n",
              "    </tr>\n",
              "    <tr>\n",
              "      <th>CalibratedClassifierCV</th>\n",
              "      <td>0.79</td>\n",
              "      <td>0.78</td>\n",
              "      <td>0.78</td>\n",
              "      <td>0.79</td>\n",
              "      <td>0.14</td>\n",
              "    </tr>\n",
              "    <tr>\n",
              "      <th>RidgeClassifierCV</th>\n",
              "      <td>0.79</td>\n",
              "      <td>0.78</td>\n",
              "      <td>0.78</td>\n",
              "      <td>0.79</td>\n",
              "      <td>0.02</td>\n",
              "    </tr>\n",
              "    <tr>\n",
              "      <th>RidgeClassifier</th>\n",
              "      <td>0.79</td>\n",
              "      <td>0.78</td>\n",
              "      <td>0.78</td>\n",
              "      <td>0.79</td>\n",
              "      <td>0.02</td>\n",
              "    </tr>\n",
              "    <tr>\n",
              "      <th>LinearSVC</th>\n",
              "      <td>0.79</td>\n",
              "      <td>0.78</td>\n",
              "      <td>0.78</td>\n",
              "      <td>0.79</td>\n",
              "      <td>0.05</td>\n",
              "    </tr>\n",
              "    <tr>\n",
              "      <th>LinearDiscriminantAnalysis</th>\n",
              "      <td>0.79</td>\n",
              "      <td>0.78</td>\n",
              "      <td>0.78</td>\n",
              "      <td>0.79</td>\n",
              "      <td>0.02</td>\n",
              "    </tr>\n",
              "    <tr>\n",
              "      <th>NearestCentroid</th>\n",
              "      <td>0.78</td>\n",
              "      <td>0.77</td>\n",
              "      <td>0.77</td>\n",
              "      <td>0.78</td>\n",
              "      <td>0.01</td>\n",
              "    </tr>\n",
              "    <tr>\n",
              "      <th>ExtraTreesClassifier</th>\n",
              "      <td>0.78</td>\n",
              "      <td>0.77</td>\n",
              "      <td>0.77</td>\n",
              "      <td>0.78</td>\n",
              "      <td>0.14</td>\n",
              "    </tr>\n",
              "    <tr>\n",
              "      <th>LabelSpreading</th>\n",
              "      <td>0.77</td>\n",
              "      <td>0.75</td>\n",
              "      <td>0.75</td>\n",
              "      <td>0.77</td>\n",
              "      <td>0.04</td>\n",
              "    </tr>\n",
              "    <tr>\n",
              "      <th>LabelPropagation</th>\n",
              "      <td>0.77</td>\n",
              "      <td>0.75</td>\n",
              "      <td>0.75</td>\n",
              "      <td>0.77</td>\n",
              "      <td>0.03</td>\n",
              "    </tr>\n",
              "    <tr>\n",
              "      <th>SGDClassifier</th>\n",
              "      <td>0.77</td>\n",
              "      <td>0.74</td>\n",
              "      <td>0.74</td>\n",
              "      <td>0.76</td>\n",
              "      <td>0.02</td>\n",
              "    </tr>\n",
              "    <tr>\n",
              "      <th>ExtraTreeClassifier</th>\n",
              "      <td>0.74</td>\n",
              "      <td>0.73</td>\n",
              "      <td>0.73</td>\n",
              "      <td>0.74</td>\n",
              "      <td>0.01</td>\n",
              "    </tr>\n",
              "    <tr>\n",
              "      <th>Perceptron</th>\n",
              "      <td>0.72</td>\n",
              "      <td>0.72</td>\n",
              "      <td>0.72</td>\n",
              "      <td>0.73</td>\n",
              "      <td>0.01</td>\n",
              "    </tr>\n",
              "    <tr>\n",
              "      <th>PassiveAggressiveClassifier</th>\n",
              "      <td>0.72</td>\n",
              "      <td>0.69</td>\n",
              "      <td>0.69</td>\n",
              "      <td>0.71</td>\n",
              "      <td>0.01</td>\n",
              "    </tr>\n",
              "    <tr>\n",
              "      <th>QuadraticDiscriminantAnalysis</th>\n",
              "      <td>0.44</td>\n",
              "      <td>0.55</td>\n",
              "      <td>0.55</td>\n",
              "      <td>0.37</td>\n",
              "      <td>0.01</td>\n",
              "    </tr>\n",
              "    <tr>\n",
              "      <th>DummyClassifier</th>\n",
              "      <td>0.54</td>\n",
              "      <td>0.53</td>\n",
              "      <td>0.53</td>\n",
              "      <td>0.55</td>\n",
              "      <td>0.01</td>\n",
              "    </tr>\n",
              "    <tr>\n",
              "      <th>CheckingClassifier</th>\n",
              "      <td>0.64</td>\n",
              "      <td>0.50</td>\n",
              "      <td>0.50</td>\n",
              "      <td>0.50</td>\n",
              "      <td>0.01</td>\n",
              "    </tr>\n",
              "  </tbody>\n",
              "</table>\n",
              "</div>"
            ],
            "text/plain": [
              "                               Accuracy  ...  Time Taken\n",
              "Model                                    ...            \n",
              "XGBClassifier                      0.83  ...        0.06\n",
              "NuSVC                              0.84  ...        0.02\n",
              "LGBMClassifier                     0.82  ...        0.04\n",
              "SVC                                0.83  ...        0.03\n",
              "RandomForestClassifier             0.80  ...        0.17\n",
              "AdaBoostClassifier                 0.80  ...        0.09\n",
              "BaggingClassifier                  0.80  ...        0.03\n",
              "LogisticRegression                 0.79  ...        0.02\n",
              "GaussianNB                         0.79  ...        0.01\n",
              "KNeighborsClassifier               0.79  ...        0.03\n",
              "BernoulliNB                        0.79  ...        0.01\n",
              "DecisionTreeClassifier             0.78  ...        0.01\n",
              "CalibratedClassifierCV             0.79  ...        0.14\n",
              "RidgeClassifierCV                  0.79  ...        0.02\n",
              "RidgeClassifier                    0.79  ...        0.02\n",
              "LinearSVC                          0.79  ...        0.05\n",
              "LinearDiscriminantAnalysis         0.79  ...        0.02\n",
              "NearestCentroid                    0.78  ...        0.01\n",
              "ExtraTreesClassifier               0.78  ...        0.14\n",
              "LabelSpreading                     0.77  ...        0.04\n",
              "LabelPropagation                   0.77  ...        0.03\n",
              "SGDClassifier                      0.77  ...        0.02\n",
              "ExtraTreeClassifier                0.74  ...        0.01\n",
              "Perceptron                         0.72  ...        0.01\n",
              "PassiveAggressiveClassifier        0.72  ...        0.01\n",
              "QuadraticDiscriminantAnalysis      0.44  ...        0.01\n",
              "DummyClassifier                    0.54  ...        0.01\n",
              "CheckingClassifier                 0.64  ...        0.01\n",
              "\n",
              "[28 rows x 5 columns]"
            ]
          },
          "metadata": {
            "tags": []
          }
        }
      ]
    },
    {
      "cell_type": "code",
      "metadata": {
        "id": "EVRm9grBwQG5"
      },
      "source": [
        ""
      ],
      "execution_count": null,
      "outputs": []
    },
    {
      "cell_type": "markdown",
      "metadata": {
        "id": "yqAhZcgb5o7z"
      },
      "source": [
        "##3. FullPipeline With predictions"
      ]
    },
    {
      "cell_type": "code",
      "metadata": {
        "id": "KxZRE5SL5Rb8"
      },
      "source": [
        "full_pipeline_with_predictor = Pipeline([\r\n",
        "  (\"preprocessing\", full_pipeline),\r\n",
        "  (\"svc\", SVC(C = 3, gamma =  'auto', kernel =  'rbf'))\r\n",
        "])"
      ],
      "execution_count": null,
      "outputs": []
    },
    {
      "cell_type": "code",
      "metadata": {
        "id": "cyWF8tEf6IUP"
      },
      "source": [
        "full_pipeline_with_predictor.fit(df.drop(\"Survived\",axis = 1), df.Survived)"
      ],
      "execution_count": null,
      "outputs": []
    },
    {
      "cell_type": "code",
      "metadata": {
        "id": "279ik_uo6cBP"
      },
      "source": [
        "final_model = full_pipeline_with_predictor"
      ],
      "execution_count": null,
      "outputs": []
    },
    {
      "cell_type": "markdown",
      "metadata": {
        "id": "2GV0HsCm8B7f"
      },
      "source": [
        "##4. Predict The Test Set"
      ]
    },
    {
      "cell_type": "code",
      "metadata": {
        "id": "X-hJlfEo8M42"
      },
      "source": [
        "test_set = pd.read_csv(\"/content/{/content}/competitions/titanic/test.csv\")"
      ],
      "execution_count": null,
      "outputs": []
    },
    {
      "cell_type": "code",
      "metadata": {
        "id": "u0MVVDr08KkW"
      },
      "source": [
        "final_predictions = final_model.predict(test_set)"
      ],
      "execution_count": null,
      "outputs": []
    },
    {
      "cell_type": "code",
      "metadata": {
        "id": "tT2D3q7B8fBt"
      },
      "source": [
        "submissions_data = {\"PassengerId\" : test_set.PassengerId.values,\r\n",
        "                    \"Survived\" : final_predictions\r\n",
        "}"
      ],
      "execution_count": null,
      "outputs": []
    },
    {
      "cell_type": "code",
      "metadata": {
        "id": "C3jRrwit8fjJ"
      },
      "source": [
        "submissions = pd.DataFrame(data = submissions_data, columns=[\"PassengerId\",\"Survived\"])"
      ],
      "execution_count": null,
      "outputs": []
    },
    {
      "cell_type": "code",
      "metadata": {
        "id": "N5vwMsUV8sIo"
      },
      "source": [
        "submissions.to_csv(\"submission.csv\",index=False)"
      ],
      "execution_count": null,
      "outputs": []
    },
    {
      "cell_type": "code",
      "metadata": {
        "id": "74tkMMeT8v-g"
      },
      "source": [
        "!kaggle competitions submit -c titanic -f submission.csv -m \"Message\""
      ],
      "execution_count": null,
      "outputs": []
    },
    {
      "cell_type": "code",
      "metadata": {
        "id": "2HpGYvwmSSwK"
      },
      "source": [
        ""
      ],
      "execution_count": null,
      "outputs": []
    }
  ]
}