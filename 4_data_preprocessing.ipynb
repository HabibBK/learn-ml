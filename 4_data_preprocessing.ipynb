{
  "nbformat": 4,
  "nbformat_minor": 0,
  "metadata": {
    "colab": {
      "name": " henseljahja / learn-ml/4_data_preprocessing.ipynb",
      "provenance": [],
      "collapsed_sections": []
    },
    "kernelspec": {
      "name": "python3",
      "display_name": "Python 3"
    }
  },
  "cells": [
    {
      "cell_type": "markdown",
      "metadata": {
        "id": "vLSN7SzBJNm_"
      },
      "source": [
        "# 4. Data Preprocessing\r\n",
        "In this part, we will learn how to process data that will be feed to machine learning algorithm"
      ]
    },
    {
      "cell_type": "markdown",
      "metadata": {
        "id": "HuDN2B9BNlGH"
      },
      "source": [
        "##### Using [Iris Dataset](https://en.wikipedia.org/wiki/Iris_flower_data_set), that has missing value for the necessity of this module"
      ]
    },
    {
      "cell_type": "code",
      "metadata": {
        "id": "YmKtRQ1YV_sp"
      },
      "source": [
        "import numpy as np\r\n",
        "import seaborn as sns\r\n",
        "import matplotlib.pyplot as plt"
      ],
      "execution_count": 1,
      "outputs": []
    },
    {
      "cell_type": "code",
      "metadata": {
        "id": "guinmynAKPcM"
      },
      "source": [
        "import pandas as pd\r\n",
        "df = pd.read_csv(\"https://raw.githubusercontent.com/henseljahja/learn-ml/main/Dataset/iris_2_class_modified.csv\")"
      ],
      "execution_count": 2,
      "outputs": []
    },
    {
      "cell_type": "markdown",
      "metadata": {
        "id": "XWWA9Z-ibfJO"
      },
      "source": [
        "and We dont need the class for now, so we will drop the class"
      ]
    },
    {
      "cell_type": "code",
      "metadata": {
        "id": "AM_brAD8bmNR"
      },
      "source": [
        "df.drop(columns=\"species\",inplace=True)"
      ],
      "execution_count": 3,
      "outputs": []
    },
    {
      "cell_type": "markdown",
      "metadata": {
        "id": "Ox9c5mAXJpev"
      },
      "source": [
        "## 4.1 Data Cleaning"
      ]
    },
    {
      "cell_type": "markdown",
      "metadata": {
        "id": "xG55T8LBJtFF"
      },
      "source": [
        "### 4.1.1 Simple Imputer"
      ]
    },
    {
      "cell_type": "markdown",
      "metadata": {
        "id": "7oHE-exLJwVn"
      },
      "source": [
        "Simple imputer Imputation transformer for completing missing values.\r\n",
        "the documentation can be found [here](https://scikit-learn.org/stable/modules/generated/sklearn.impute.SimpleImputer.html)"
      ]
    },
    {
      "cell_type": "code",
      "metadata": {
        "id": "RreybPG9Gx6m",
        "colab": {
          "base_uri": "https://localhost:8080/",
          "height": 488
        },
        "outputId": "86a74795-0eff-408c-b826-60f7a7891e37"
      },
      "source": [
        "import numpy as np\r\n",
        "# finding all the index\r\n",
        "df_nan_value = np.where(df.isnull() == True)[0]\r\n",
        "df.loc[df_nan_value]"
      ],
      "execution_count": 4,
      "outputs": [
        {
          "output_type": "execute_result",
          "data": {
            "text/html": [
              "<div>\n",
              "<style scoped>\n",
              "    .dataframe tbody tr th:only-of-type {\n",
              "        vertical-align: middle;\n",
              "    }\n",
              "\n",
              "    .dataframe tbody tr th {\n",
              "        vertical-align: top;\n",
              "    }\n",
              "\n",
              "    .dataframe thead th {\n",
              "        text-align: right;\n",
              "    }\n",
              "</style>\n",
              "<table border=\"1\" class=\"dataframe\">\n",
              "  <thead>\n",
              "    <tr style=\"text-align: right;\">\n",
              "      <th></th>\n",
              "      <th>sepal_length</th>\n",
              "      <th>sepal_width</th>\n",
              "      <th>petal_length</th>\n",
              "      <th>petal_width</th>\n",
              "    </tr>\n",
              "  </thead>\n",
              "  <tbody>\n",
              "    <tr>\n",
              "      <th>13</th>\n",
              "      <td>6.1</td>\n",
              "      <td>NaN</td>\n",
              "      <td>4.7</td>\n",
              "      <td>1.4</td>\n",
              "    </tr>\n",
              "    <tr>\n",
              "      <th>19</th>\n",
              "      <td>5.6</td>\n",
              "      <td>NaN</td>\n",
              "      <td>3.9</td>\n",
              "      <td>1.1</td>\n",
              "    </tr>\n",
              "    <tr>\n",
              "      <th>26</th>\n",
              "      <td>6.8</td>\n",
              "      <td>NaN</td>\n",
              "      <td>4.8</td>\n",
              "      <td>1.4</td>\n",
              "    </tr>\n",
              "    <tr>\n",
              "      <th>32</th>\n",
              "      <td>5.8</td>\n",
              "      <td>2.7</td>\n",
              "      <td>NaN</td>\n",
              "      <td>1.2</td>\n",
              "    </tr>\n",
              "    <tr>\n",
              "      <th>33</th>\n",
              "      <td>NaN</td>\n",
              "      <td>2.7</td>\n",
              "      <td>5.1</td>\n",
              "      <td>1.6</td>\n",
              "    </tr>\n",
              "    <tr>\n",
              "      <th>37</th>\n",
              "      <td>6.3</td>\n",
              "      <td>2.3</td>\n",
              "      <td>NaN</td>\n",
              "      <td>1.3</td>\n",
              "    </tr>\n",
              "    <tr>\n",
              "      <th>40</th>\n",
              "      <td>NaN</td>\n",
              "      <td>2.6</td>\n",
              "      <td>4.4</td>\n",
              "      <td>1.2</td>\n",
              "    </tr>\n",
              "    <tr>\n",
              "      <th>50</th>\n",
              "      <td>NaN</td>\n",
              "      <td>3.3</td>\n",
              "      <td>6.0</td>\n",
              "      <td>2.5</td>\n",
              "    </tr>\n",
              "    <tr>\n",
              "      <th>60</th>\n",
              "      <td>6.5</td>\n",
              "      <td>3.2</td>\n",
              "      <td>NaN</td>\n",
              "      <td>2.0</td>\n",
              "    </tr>\n",
              "    <tr>\n",
              "      <th>62</th>\n",
              "      <td>6.8</td>\n",
              "      <td>3.0</td>\n",
              "      <td>NaN</td>\n",
              "      <td>2.1</td>\n",
              "    </tr>\n",
              "    <tr>\n",
              "      <th>66</th>\n",
              "      <td>NaN</td>\n",
              "      <td>3.0</td>\n",
              "      <td>5.5</td>\n",
              "      <td>1.8</td>\n",
              "    </tr>\n",
              "    <tr>\n",
              "      <th>75</th>\n",
              "      <td>7.2</td>\n",
              "      <td>NaN</td>\n",
              "      <td>6.0</td>\n",
              "      <td>1.8</td>\n",
              "    </tr>\n",
              "    <tr>\n",
              "      <th>85</th>\n",
              "      <td>7.7</td>\n",
              "      <td>3.0</td>\n",
              "      <td>NaN</td>\n",
              "      <td>2.3</td>\n",
              "    </tr>\n",
              "    <tr>\n",
              "      <th>97</th>\n",
              "      <td>NaN</td>\n",
              "      <td>3.0</td>\n",
              "      <td>5.2</td>\n",
              "      <td>2.0</td>\n",
              "    </tr>\n",
              "  </tbody>\n",
              "</table>\n",
              "</div>"
            ],
            "text/plain": [
              "    sepal_length  sepal_width  petal_length  petal_width\n",
              "13           6.1          NaN           4.7          1.4\n",
              "19           5.6          NaN           3.9          1.1\n",
              "26           6.8          NaN           4.8          1.4\n",
              "32           5.8          2.7           NaN          1.2\n",
              "33           NaN          2.7           5.1          1.6\n",
              "37           6.3          2.3           NaN          1.3\n",
              "40           NaN          2.6           4.4          1.2\n",
              "50           NaN          3.3           6.0          2.5\n",
              "60           6.5          3.2           NaN          2.0\n",
              "62           6.8          3.0           NaN          2.1\n",
              "66           NaN          3.0           5.5          1.8\n",
              "75           7.2          NaN           6.0          1.8\n",
              "85           7.7          3.0           NaN          2.3\n",
              "97           NaN          3.0           5.2          2.0"
            ]
          },
          "metadata": {
            "tags": []
          },
          "execution_count": 4
        }
      ]
    },
    {
      "cell_type": "code",
      "metadata": {
        "id": "c6bX-G5bLjOs"
      },
      "source": [
        "#Importing Simple Imputer\r\n",
        "from sklearn.impute import SimpleImputer"
      ],
      "execution_count": 5,
      "outputs": []
    },
    {
      "cell_type": "markdown",
      "metadata": {
        "id": "x8O9ZoPtR2jJ"
      },
      "source": [
        "\r\n",
        "\r\n",
        "    If “mean”, then replace missing values using the mean along each column. Can only be used with numeric data.\r\n",
        "\r\n",
        "    If “median”, then replace missing values using the median along each column. Can only be used with numeric data.\r\n",
        "\r\n",
        "    If “most_frequent”, then replace missing using the most frequent value along each column. Can be used with strings or numeric data. If there is more than one such value, only the smallest is returned.\r\n",
        "\r\n",
        "    If “constant”, then replace missing values with fill_value. Can be used with strings or numeric data.\r\n"
      ]
    },
    {
      "cell_type": "code",
      "metadata": {
        "id": "5mesDoxuRLKI"
      },
      "source": [
        "#si means Simple Imputer\r\n",
        "\r\n",
        "#Using the Mean value\r\n",
        "si_mean = SimpleImputer(strategy=\"mean\")\r\n",
        "\r\n",
        "#Using the Median value\r\n",
        "si_median = SimpleImputer(strategy=\"median\")\r\n",
        "\r\n",
        "#Using the most frequent value\r\n",
        "si_most_frequent = SimpleImputer(strategy=\"most_frequent\")\r\n",
        "\r\n",
        "#Custom imputer\r\n",
        "si_constant = SimpleImputer(strategy=\"constant\", fill_value=999)"
      ],
      "execution_count": 6,
      "outputs": []
    },
    {
      "cell_type": "code",
      "metadata": {
        "colab": {
          "base_uri": "https://localhost:8080/",
          "height": 488
        },
        "id": "bfW5rZhkSrI6",
        "outputId": "21fe4f97-d2b2-44d1-de6e-8c4086c113b7"
      },
      "source": [
        "#using the si_mean\r\n",
        "df_si_mean = si_mean.fit_transform(df)\r\n",
        "pd.DataFrame(data=df_si_mean[df_nan_value],columns=df.columns)"
      ],
      "execution_count": 7,
      "outputs": [
        {
          "output_type": "execute_result",
          "data": {
            "text/html": [
              "<div>\n",
              "<style scoped>\n",
              "    .dataframe tbody tr th:only-of-type {\n",
              "        vertical-align: middle;\n",
              "    }\n",
              "\n",
              "    .dataframe tbody tr th {\n",
              "        vertical-align: top;\n",
              "    }\n",
              "\n",
              "    .dataframe thead th {\n",
              "        text-align: right;\n",
              "    }\n",
              "</style>\n",
              "<table border=\"1\" class=\"dataframe\">\n",
              "  <thead>\n",
              "    <tr style=\"text-align: right;\">\n",
              "      <th></th>\n",
              "      <th>sepal_length</th>\n",
              "      <th>sepal_width</th>\n",
              "      <th>petal_length</th>\n",
              "      <th>petal_width</th>\n",
              "    </tr>\n",
              "  </thead>\n",
              "  <tbody>\n",
              "    <tr>\n",
              "      <th>0</th>\n",
              "      <td>6.100000</td>\n",
              "      <td>2.872917</td>\n",
              "      <td>4.700000</td>\n",
              "      <td>1.4</td>\n",
              "    </tr>\n",
              "    <tr>\n",
              "      <th>1</th>\n",
              "      <td>5.600000</td>\n",
              "      <td>2.872917</td>\n",
              "      <td>3.900000</td>\n",
              "      <td>1.1</td>\n",
              "    </tr>\n",
              "    <tr>\n",
              "      <th>2</th>\n",
              "      <td>6.800000</td>\n",
              "      <td>2.872917</td>\n",
              "      <td>4.800000</td>\n",
              "      <td>1.4</td>\n",
              "    </tr>\n",
              "    <tr>\n",
              "      <th>3</th>\n",
              "      <td>5.800000</td>\n",
              "      <td>2.700000</td>\n",
              "      <td>4.901053</td>\n",
              "      <td>1.2</td>\n",
              "    </tr>\n",
              "    <tr>\n",
              "      <th>4</th>\n",
              "      <td>6.267368</td>\n",
              "      <td>2.700000</td>\n",
              "      <td>5.100000</td>\n",
              "      <td>1.6</td>\n",
              "    </tr>\n",
              "    <tr>\n",
              "      <th>5</th>\n",
              "      <td>6.300000</td>\n",
              "      <td>2.300000</td>\n",
              "      <td>4.901053</td>\n",
              "      <td>1.3</td>\n",
              "    </tr>\n",
              "    <tr>\n",
              "      <th>6</th>\n",
              "      <td>6.267368</td>\n",
              "      <td>2.600000</td>\n",
              "      <td>4.400000</td>\n",
              "      <td>1.2</td>\n",
              "    </tr>\n",
              "    <tr>\n",
              "      <th>7</th>\n",
              "      <td>6.267368</td>\n",
              "      <td>3.300000</td>\n",
              "      <td>6.000000</td>\n",
              "      <td>2.5</td>\n",
              "    </tr>\n",
              "    <tr>\n",
              "      <th>8</th>\n",
              "      <td>6.500000</td>\n",
              "      <td>3.200000</td>\n",
              "      <td>4.901053</td>\n",
              "      <td>2.0</td>\n",
              "    </tr>\n",
              "    <tr>\n",
              "      <th>9</th>\n",
              "      <td>6.800000</td>\n",
              "      <td>3.000000</td>\n",
              "      <td>4.901053</td>\n",
              "      <td>2.1</td>\n",
              "    </tr>\n",
              "    <tr>\n",
              "      <th>10</th>\n",
              "      <td>6.267368</td>\n",
              "      <td>3.000000</td>\n",
              "      <td>5.500000</td>\n",
              "      <td>1.8</td>\n",
              "    </tr>\n",
              "    <tr>\n",
              "      <th>11</th>\n",
              "      <td>7.200000</td>\n",
              "      <td>2.872917</td>\n",
              "      <td>6.000000</td>\n",
              "      <td>1.8</td>\n",
              "    </tr>\n",
              "    <tr>\n",
              "      <th>12</th>\n",
              "      <td>7.700000</td>\n",
              "      <td>3.000000</td>\n",
              "      <td>4.901053</td>\n",
              "      <td>2.3</td>\n",
              "    </tr>\n",
              "    <tr>\n",
              "      <th>13</th>\n",
              "      <td>6.267368</td>\n",
              "      <td>3.000000</td>\n",
              "      <td>5.200000</td>\n",
              "      <td>2.0</td>\n",
              "    </tr>\n",
              "  </tbody>\n",
              "</table>\n",
              "</div>"
            ],
            "text/plain": [
              "    sepal_length  sepal_width  petal_length  petal_width\n",
              "0       6.100000     2.872917      4.700000          1.4\n",
              "1       5.600000     2.872917      3.900000          1.1\n",
              "2       6.800000     2.872917      4.800000          1.4\n",
              "3       5.800000     2.700000      4.901053          1.2\n",
              "4       6.267368     2.700000      5.100000          1.6\n",
              "5       6.300000     2.300000      4.901053          1.3\n",
              "6       6.267368     2.600000      4.400000          1.2\n",
              "7       6.267368     3.300000      6.000000          2.5\n",
              "8       6.500000     3.200000      4.901053          2.0\n",
              "9       6.800000     3.000000      4.901053          2.1\n",
              "10      6.267368     3.000000      5.500000          1.8\n",
              "11      7.200000     2.872917      6.000000          1.8\n",
              "12      7.700000     3.000000      4.901053          2.3\n",
              "13      6.267368     3.000000      5.200000          2.0"
            ]
          },
          "metadata": {
            "tags": []
          },
          "execution_count": 7
        }
      ]
    },
    {
      "cell_type": "code",
      "metadata": {
        "colab": {
          "base_uri": "https://localhost:8080/",
          "height": 488
        },
        "id": "F3gapqstUXuy",
        "outputId": "5743a907-c785-4cdf-b052-9a2c26d90b6a"
      },
      "source": [
        "#using the si_median\r\n",
        "df_si_median = si_median.fit_transform(df)\r\n",
        "pd.DataFrame(data=df_si_median[df_nan_value],columns=df.columns)"
      ],
      "execution_count": 8,
      "outputs": [
        {
          "output_type": "execute_result",
          "data": {
            "text/html": [
              "<div>\n",
              "<style scoped>\n",
              "    .dataframe tbody tr th:only-of-type {\n",
              "        vertical-align: middle;\n",
              "    }\n",
              "\n",
              "    .dataframe tbody tr th {\n",
              "        vertical-align: top;\n",
              "    }\n",
              "\n",
              "    .dataframe thead th {\n",
              "        text-align: right;\n",
              "    }\n",
              "</style>\n",
              "<table border=\"1\" class=\"dataframe\">\n",
              "  <thead>\n",
              "    <tr style=\"text-align: right;\">\n",
              "      <th></th>\n",
              "      <th>sepal_length</th>\n",
              "      <th>sepal_width</th>\n",
              "      <th>petal_length</th>\n",
              "      <th>petal_width</th>\n",
              "    </tr>\n",
              "  </thead>\n",
              "  <tbody>\n",
              "    <tr>\n",
              "      <th>0</th>\n",
              "      <td>6.1</td>\n",
              "      <td>2.9</td>\n",
              "      <td>4.7</td>\n",
              "      <td>1.4</td>\n",
              "    </tr>\n",
              "    <tr>\n",
              "      <th>1</th>\n",
              "      <td>5.6</td>\n",
              "      <td>2.9</td>\n",
              "      <td>3.9</td>\n",
              "      <td>1.1</td>\n",
              "    </tr>\n",
              "    <tr>\n",
              "      <th>2</th>\n",
              "      <td>6.8</td>\n",
              "      <td>2.9</td>\n",
              "      <td>4.8</td>\n",
              "      <td>1.4</td>\n",
              "    </tr>\n",
              "    <tr>\n",
              "      <th>3</th>\n",
              "      <td>5.8</td>\n",
              "      <td>2.7</td>\n",
              "      <td>4.9</td>\n",
              "      <td>1.2</td>\n",
              "    </tr>\n",
              "    <tr>\n",
              "      <th>4</th>\n",
              "      <td>6.3</td>\n",
              "      <td>2.7</td>\n",
              "      <td>5.1</td>\n",
              "      <td>1.6</td>\n",
              "    </tr>\n",
              "    <tr>\n",
              "      <th>5</th>\n",
              "      <td>6.3</td>\n",
              "      <td>2.3</td>\n",
              "      <td>4.9</td>\n",
              "      <td>1.3</td>\n",
              "    </tr>\n",
              "    <tr>\n",
              "      <th>6</th>\n",
              "      <td>6.3</td>\n",
              "      <td>2.6</td>\n",
              "      <td>4.4</td>\n",
              "      <td>1.2</td>\n",
              "    </tr>\n",
              "    <tr>\n",
              "      <th>7</th>\n",
              "      <td>6.3</td>\n",
              "      <td>3.3</td>\n",
              "      <td>6.0</td>\n",
              "      <td>2.5</td>\n",
              "    </tr>\n",
              "    <tr>\n",
              "      <th>8</th>\n",
              "      <td>6.5</td>\n",
              "      <td>3.2</td>\n",
              "      <td>4.9</td>\n",
              "      <td>2.0</td>\n",
              "    </tr>\n",
              "    <tr>\n",
              "      <th>9</th>\n",
              "      <td>6.8</td>\n",
              "      <td>3.0</td>\n",
              "      <td>4.9</td>\n",
              "      <td>2.1</td>\n",
              "    </tr>\n",
              "    <tr>\n",
              "      <th>10</th>\n",
              "      <td>6.3</td>\n",
              "      <td>3.0</td>\n",
              "      <td>5.5</td>\n",
              "      <td>1.8</td>\n",
              "    </tr>\n",
              "    <tr>\n",
              "      <th>11</th>\n",
              "      <td>7.2</td>\n",
              "      <td>2.9</td>\n",
              "      <td>6.0</td>\n",
              "      <td>1.8</td>\n",
              "    </tr>\n",
              "    <tr>\n",
              "      <th>12</th>\n",
              "      <td>7.7</td>\n",
              "      <td>3.0</td>\n",
              "      <td>4.9</td>\n",
              "      <td>2.3</td>\n",
              "    </tr>\n",
              "    <tr>\n",
              "      <th>13</th>\n",
              "      <td>6.3</td>\n",
              "      <td>3.0</td>\n",
              "      <td>5.2</td>\n",
              "      <td>2.0</td>\n",
              "    </tr>\n",
              "  </tbody>\n",
              "</table>\n",
              "</div>"
            ],
            "text/plain": [
              "    sepal_length  sepal_width  petal_length  petal_width\n",
              "0            6.1          2.9           4.7          1.4\n",
              "1            5.6          2.9           3.9          1.1\n",
              "2            6.8          2.9           4.8          1.4\n",
              "3            5.8          2.7           4.9          1.2\n",
              "4            6.3          2.7           5.1          1.6\n",
              "5            6.3          2.3           4.9          1.3\n",
              "6            6.3          2.6           4.4          1.2\n",
              "7            6.3          3.3           6.0          2.5\n",
              "8            6.5          3.2           4.9          2.0\n",
              "9            6.8          3.0           4.9          2.1\n",
              "10           6.3          3.0           5.5          1.8\n",
              "11           7.2          2.9           6.0          1.8\n",
              "12           7.7          3.0           4.9          2.3\n",
              "13           6.3          3.0           5.2          2.0"
            ]
          },
          "metadata": {
            "tags": []
          },
          "execution_count": 8
        }
      ]
    },
    {
      "cell_type": "code",
      "metadata": {
        "colab": {
          "base_uri": "https://localhost:8080/",
          "height": 488
        },
        "id": "h3gSMzrZU3Vn",
        "outputId": "a62d79c1-3507-4329-d1b9-a62b7ff006d3"
      },
      "source": [
        "#using the si_most_frequent\r\n",
        "df_si_most_frequent = si_most_frequent.fit_transform(df)\r\n",
        "pd.DataFrame(data=df_si_most_frequent[df_nan_value],columns=df.columns)"
      ],
      "execution_count": 9,
      "outputs": [
        {
          "output_type": "execute_result",
          "data": {
            "text/html": [
              "<div>\n",
              "<style scoped>\n",
              "    .dataframe tbody tr th:only-of-type {\n",
              "        vertical-align: middle;\n",
              "    }\n",
              "\n",
              "    .dataframe tbody tr th {\n",
              "        vertical-align: top;\n",
              "    }\n",
              "\n",
              "    .dataframe thead th {\n",
              "        text-align: right;\n",
              "    }\n",
              "</style>\n",
              "<table border=\"1\" class=\"dataframe\">\n",
              "  <thead>\n",
              "    <tr style=\"text-align: right;\">\n",
              "      <th></th>\n",
              "      <th>sepal_length</th>\n",
              "      <th>sepal_width</th>\n",
              "      <th>petal_length</th>\n",
              "      <th>petal_width</th>\n",
              "    </tr>\n",
              "  </thead>\n",
              "  <tbody>\n",
              "    <tr>\n",
              "      <th>0</th>\n",
              "      <td>6.1</td>\n",
              "      <td>3.0</td>\n",
              "      <td>4.7</td>\n",
              "      <td>1.4</td>\n",
              "    </tr>\n",
              "    <tr>\n",
              "      <th>1</th>\n",
              "      <td>5.6</td>\n",
              "      <td>3.0</td>\n",
              "      <td>3.9</td>\n",
              "      <td>1.1</td>\n",
              "    </tr>\n",
              "    <tr>\n",
              "      <th>2</th>\n",
              "      <td>6.8</td>\n",
              "      <td>3.0</td>\n",
              "      <td>4.8</td>\n",
              "      <td>1.4</td>\n",
              "    </tr>\n",
              "    <tr>\n",
              "      <th>3</th>\n",
              "      <td>5.8</td>\n",
              "      <td>2.7</td>\n",
              "      <td>4.5</td>\n",
              "      <td>1.2</td>\n",
              "    </tr>\n",
              "    <tr>\n",
              "      <th>4</th>\n",
              "      <td>6.3</td>\n",
              "      <td>2.7</td>\n",
              "      <td>5.1</td>\n",
              "      <td>1.6</td>\n",
              "    </tr>\n",
              "    <tr>\n",
              "      <th>5</th>\n",
              "      <td>6.3</td>\n",
              "      <td>2.3</td>\n",
              "      <td>4.5</td>\n",
              "      <td>1.3</td>\n",
              "    </tr>\n",
              "    <tr>\n",
              "      <th>6</th>\n",
              "      <td>6.3</td>\n",
              "      <td>2.6</td>\n",
              "      <td>4.4</td>\n",
              "      <td>1.2</td>\n",
              "    </tr>\n",
              "    <tr>\n",
              "      <th>7</th>\n",
              "      <td>6.3</td>\n",
              "      <td>3.3</td>\n",
              "      <td>6.0</td>\n",
              "      <td>2.5</td>\n",
              "    </tr>\n",
              "    <tr>\n",
              "      <th>8</th>\n",
              "      <td>6.5</td>\n",
              "      <td>3.2</td>\n",
              "      <td>4.5</td>\n",
              "      <td>2.0</td>\n",
              "    </tr>\n",
              "    <tr>\n",
              "      <th>9</th>\n",
              "      <td>6.8</td>\n",
              "      <td>3.0</td>\n",
              "      <td>4.5</td>\n",
              "      <td>2.1</td>\n",
              "    </tr>\n",
              "    <tr>\n",
              "      <th>10</th>\n",
              "      <td>6.3</td>\n",
              "      <td>3.0</td>\n",
              "      <td>5.5</td>\n",
              "      <td>1.8</td>\n",
              "    </tr>\n",
              "    <tr>\n",
              "      <th>11</th>\n",
              "      <td>7.2</td>\n",
              "      <td>3.0</td>\n",
              "      <td>6.0</td>\n",
              "      <td>1.8</td>\n",
              "    </tr>\n",
              "    <tr>\n",
              "      <th>12</th>\n",
              "      <td>7.7</td>\n",
              "      <td>3.0</td>\n",
              "      <td>4.5</td>\n",
              "      <td>2.3</td>\n",
              "    </tr>\n",
              "    <tr>\n",
              "      <th>13</th>\n",
              "      <td>6.3</td>\n",
              "      <td>3.0</td>\n",
              "      <td>5.2</td>\n",
              "      <td>2.0</td>\n",
              "    </tr>\n",
              "  </tbody>\n",
              "</table>\n",
              "</div>"
            ],
            "text/plain": [
              "    sepal_length  sepal_width  petal_length  petal_width\n",
              "0            6.1          3.0           4.7          1.4\n",
              "1            5.6          3.0           3.9          1.1\n",
              "2            6.8          3.0           4.8          1.4\n",
              "3            5.8          2.7           4.5          1.2\n",
              "4            6.3          2.7           5.1          1.6\n",
              "5            6.3          2.3           4.5          1.3\n",
              "6            6.3          2.6           4.4          1.2\n",
              "7            6.3          3.3           6.0          2.5\n",
              "8            6.5          3.2           4.5          2.0\n",
              "9            6.8          3.0           4.5          2.1\n",
              "10           6.3          3.0           5.5          1.8\n",
              "11           7.2          3.0           6.0          1.8\n",
              "12           7.7          3.0           4.5          2.3\n",
              "13           6.3          3.0           5.2          2.0"
            ]
          },
          "metadata": {
            "tags": []
          },
          "execution_count": 9
        }
      ]
    },
    {
      "cell_type": "code",
      "metadata": {
        "colab": {
          "base_uri": "https://localhost:8080/",
          "height": 488
        },
        "id": "nXg7eXeTVTV0",
        "outputId": "8ad67e09-c673-4a64-bbd1-d8de8e312045"
      },
      "source": [
        "#using the si_constant\r\n",
        "df_si_constant = si_constant.fit_transform(df)\r\n",
        "pd.DataFrame(data=df_si_constant[df_nan_value],columns=df.columns)"
      ],
      "execution_count": 10,
      "outputs": [
        {
          "output_type": "execute_result",
          "data": {
            "text/html": [
              "<div>\n",
              "<style scoped>\n",
              "    .dataframe tbody tr th:only-of-type {\n",
              "        vertical-align: middle;\n",
              "    }\n",
              "\n",
              "    .dataframe tbody tr th {\n",
              "        vertical-align: top;\n",
              "    }\n",
              "\n",
              "    .dataframe thead th {\n",
              "        text-align: right;\n",
              "    }\n",
              "</style>\n",
              "<table border=\"1\" class=\"dataframe\">\n",
              "  <thead>\n",
              "    <tr style=\"text-align: right;\">\n",
              "      <th></th>\n",
              "      <th>sepal_length</th>\n",
              "      <th>sepal_width</th>\n",
              "      <th>petal_length</th>\n",
              "      <th>petal_width</th>\n",
              "    </tr>\n",
              "  </thead>\n",
              "  <tbody>\n",
              "    <tr>\n",
              "      <th>0</th>\n",
              "      <td>6.1</td>\n",
              "      <td>999.0</td>\n",
              "      <td>4.7</td>\n",
              "      <td>1.4</td>\n",
              "    </tr>\n",
              "    <tr>\n",
              "      <th>1</th>\n",
              "      <td>5.6</td>\n",
              "      <td>999.0</td>\n",
              "      <td>3.9</td>\n",
              "      <td>1.1</td>\n",
              "    </tr>\n",
              "    <tr>\n",
              "      <th>2</th>\n",
              "      <td>6.8</td>\n",
              "      <td>999.0</td>\n",
              "      <td>4.8</td>\n",
              "      <td>1.4</td>\n",
              "    </tr>\n",
              "    <tr>\n",
              "      <th>3</th>\n",
              "      <td>5.8</td>\n",
              "      <td>2.7</td>\n",
              "      <td>999.0</td>\n",
              "      <td>1.2</td>\n",
              "    </tr>\n",
              "    <tr>\n",
              "      <th>4</th>\n",
              "      <td>999.0</td>\n",
              "      <td>2.7</td>\n",
              "      <td>5.1</td>\n",
              "      <td>1.6</td>\n",
              "    </tr>\n",
              "    <tr>\n",
              "      <th>5</th>\n",
              "      <td>6.3</td>\n",
              "      <td>2.3</td>\n",
              "      <td>999.0</td>\n",
              "      <td>1.3</td>\n",
              "    </tr>\n",
              "    <tr>\n",
              "      <th>6</th>\n",
              "      <td>999.0</td>\n",
              "      <td>2.6</td>\n",
              "      <td>4.4</td>\n",
              "      <td>1.2</td>\n",
              "    </tr>\n",
              "    <tr>\n",
              "      <th>7</th>\n",
              "      <td>999.0</td>\n",
              "      <td>3.3</td>\n",
              "      <td>6.0</td>\n",
              "      <td>2.5</td>\n",
              "    </tr>\n",
              "    <tr>\n",
              "      <th>8</th>\n",
              "      <td>6.5</td>\n",
              "      <td>3.2</td>\n",
              "      <td>999.0</td>\n",
              "      <td>2.0</td>\n",
              "    </tr>\n",
              "    <tr>\n",
              "      <th>9</th>\n",
              "      <td>6.8</td>\n",
              "      <td>3.0</td>\n",
              "      <td>999.0</td>\n",
              "      <td>2.1</td>\n",
              "    </tr>\n",
              "    <tr>\n",
              "      <th>10</th>\n",
              "      <td>999.0</td>\n",
              "      <td>3.0</td>\n",
              "      <td>5.5</td>\n",
              "      <td>1.8</td>\n",
              "    </tr>\n",
              "    <tr>\n",
              "      <th>11</th>\n",
              "      <td>7.2</td>\n",
              "      <td>999.0</td>\n",
              "      <td>6.0</td>\n",
              "      <td>1.8</td>\n",
              "    </tr>\n",
              "    <tr>\n",
              "      <th>12</th>\n",
              "      <td>7.7</td>\n",
              "      <td>3.0</td>\n",
              "      <td>999.0</td>\n",
              "      <td>2.3</td>\n",
              "    </tr>\n",
              "    <tr>\n",
              "      <th>13</th>\n",
              "      <td>999.0</td>\n",
              "      <td>3.0</td>\n",
              "      <td>5.2</td>\n",
              "      <td>2.0</td>\n",
              "    </tr>\n",
              "  </tbody>\n",
              "</table>\n",
              "</div>"
            ],
            "text/plain": [
              "    sepal_length  sepal_width  petal_length  petal_width\n",
              "0            6.1        999.0           4.7          1.4\n",
              "1            5.6        999.0           3.9          1.1\n",
              "2            6.8        999.0           4.8          1.4\n",
              "3            5.8          2.7         999.0          1.2\n",
              "4          999.0          2.7           5.1          1.6\n",
              "5            6.3          2.3         999.0          1.3\n",
              "6          999.0          2.6           4.4          1.2\n",
              "7          999.0          3.3           6.0          2.5\n",
              "8            6.5          3.2         999.0          2.0\n",
              "9            6.8          3.0         999.0          2.1\n",
              "10         999.0          3.0           5.5          1.8\n",
              "11           7.2        999.0           6.0          1.8\n",
              "12           7.7          3.0         999.0          2.3\n",
              "13         999.0          3.0           5.2          2.0"
            ]
          },
          "metadata": {
            "tags": []
          },
          "execution_count": 10
        }
      ]
    },
    {
      "cell_type": "markdown",
      "metadata": {
        "id": "KTLnUYs0Vl-b"
      },
      "source": [
        "## 4.2 Feature Scalling"
      ]
    },
    {
      "cell_type": "markdown",
      "metadata": {
        "id": "_vFlQssCahSe"
      },
      "source": [
        "##### For this we will use the dataframe that contains no missing value, "
      ]
    },
    {
      "cell_type": "code",
      "metadata": {
        "id": "pW0uXungamJP"
      },
      "source": [
        "df = pd.read_csv(\"https://raw.githubusercontent.com/henseljahja/learn-ml/main/Dataset/iris_2_class.csv\")"
      ],
      "execution_count": 11,
      "outputs": []
    },
    {
      "cell_type": "code",
      "metadata": {
        "id": "VvOLg4oWcpL1"
      },
      "source": [
        "df.drop(\"species\",axis=1,inplace=True)"
      ],
      "execution_count": 12,
      "outputs": []
    },
    {
      "cell_type": "markdown",
      "metadata": {
        "id": "5raEwT3jVpZ1"
      },
      "source": [
        "### 4.2.2 Standardization (Z-score Normalization)\r\n",
        "![](https://wikimedia.org/api/rest_v1/media/math/render/svg/b0aa2e7d203db1526c577192f2d9102b718eafd5)\r\n",
        "\r\n",
        "In machine learning, we can handle various types of data, e.g. audio signals and pixel values for image data, and this data can include multiple dimensions. Feature standardization makes the values of each feature in the data have zero-mean (when subtracting the mean in the numerator) and unit-variance. This method is widely used for normalization in many machine learning algorithms (e.g., support vector machines, logistic regression, and artificial neural networks). The general method of calculation is to determine the distribution mean and standard deviation for each feature. Next we subtract the mean from each feature. Then we divide the values (mean is already subtracted) of each feature by its standard deviation. Source : [Wikipedia](https://en.wikipedia.org/wiki/Feature_scaling)"
      ]
    },
    {
      "cell_type": "code",
      "metadata": {
        "id": "BQwwIpmTVoTD"
      },
      "source": [
        "from sklearn.preprocessing import StandardScaler\r\n",
        "sc = StandardScaler()\r\n",
        "df_sc = sc.fit_transform(df)"
      ],
      "execution_count": 13,
      "outputs": []
    },
    {
      "cell_type": "code",
      "metadata": {
        "colab": {
          "base_uri": "https://localhost:8080/",
          "height": 424
        },
        "id": "cR-dAjknWonQ",
        "outputId": "30c4fe08-7b94-4f3c-d2f4-edfe172a0fa9"
      },
      "source": [
        "pd.DataFrame(df, columns = df.columns)"
      ],
      "execution_count": 14,
      "outputs": [
        {
          "output_type": "execute_result",
          "data": {
            "text/html": [
              "<div>\n",
              "<style scoped>\n",
              "    .dataframe tbody tr th:only-of-type {\n",
              "        vertical-align: middle;\n",
              "    }\n",
              "\n",
              "    .dataframe tbody tr th {\n",
              "        vertical-align: top;\n",
              "    }\n",
              "\n",
              "    .dataframe thead th {\n",
              "        text-align: right;\n",
              "    }\n",
              "</style>\n",
              "<table border=\"1\" class=\"dataframe\">\n",
              "  <thead>\n",
              "    <tr style=\"text-align: right;\">\n",
              "      <th></th>\n",
              "      <th>sepal_length</th>\n",
              "      <th>sepal_width</th>\n",
              "      <th>petal_length</th>\n",
              "      <th>petal_width</th>\n",
              "    </tr>\n",
              "  </thead>\n",
              "  <tbody>\n",
              "    <tr>\n",
              "      <th>0</th>\n",
              "      <td>7.0</td>\n",
              "      <td>3.2</td>\n",
              "      <td>4.7</td>\n",
              "      <td>1.4</td>\n",
              "    </tr>\n",
              "    <tr>\n",
              "      <th>1</th>\n",
              "      <td>6.4</td>\n",
              "      <td>3.2</td>\n",
              "      <td>4.5</td>\n",
              "      <td>1.5</td>\n",
              "    </tr>\n",
              "    <tr>\n",
              "      <th>2</th>\n",
              "      <td>6.9</td>\n",
              "      <td>3.1</td>\n",
              "      <td>4.9</td>\n",
              "      <td>1.5</td>\n",
              "    </tr>\n",
              "    <tr>\n",
              "      <th>3</th>\n",
              "      <td>5.5</td>\n",
              "      <td>2.3</td>\n",
              "      <td>4.0</td>\n",
              "      <td>1.3</td>\n",
              "    </tr>\n",
              "    <tr>\n",
              "      <th>4</th>\n",
              "      <td>6.5</td>\n",
              "      <td>2.8</td>\n",
              "      <td>4.6</td>\n",
              "      <td>1.5</td>\n",
              "    </tr>\n",
              "    <tr>\n",
              "      <th>...</th>\n",
              "      <td>...</td>\n",
              "      <td>...</td>\n",
              "      <td>...</td>\n",
              "      <td>...</td>\n",
              "    </tr>\n",
              "    <tr>\n",
              "      <th>95</th>\n",
              "      <td>6.7</td>\n",
              "      <td>3.0</td>\n",
              "      <td>5.2</td>\n",
              "      <td>2.3</td>\n",
              "    </tr>\n",
              "    <tr>\n",
              "      <th>96</th>\n",
              "      <td>6.3</td>\n",
              "      <td>2.5</td>\n",
              "      <td>5.0</td>\n",
              "      <td>1.9</td>\n",
              "    </tr>\n",
              "    <tr>\n",
              "      <th>97</th>\n",
              "      <td>6.5</td>\n",
              "      <td>3.0</td>\n",
              "      <td>5.2</td>\n",
              "      <td>2.0</td>\n",
              "    </tr>\n",
              "    <tr>\n",
              "      <th>98</th>\n",
              "      <td>6.2</td>\n",
              "      <td>3.4</td>\n",
              "      <td>5.4</td>\n",
              "      <td>2.3</td>\n",
              "    </tr>\n",
              "    <tr>\n",
              "      <th>99</th>\n",
              "      <td>5.9</td>\n",
              "      <td>3.0</td>\n",
              "      <td>5.1</td>\n",
              "      <td>1.8</td>\n",
              "    </tr>\n",
              "  </tbody>\n",
              "</table>\n",
              "<p>100 rows × 4 columns</p>\n",
              "</div>"
            ],
            "text/plain": [
              "    sepal_length  sepal_width  petal_length  petal_width\n",
              "0            7.0          3.2           4.7          1.4\n",
              "1            6.4          3.2           4.5          1.5\n",
              "2            6.9          3.1           4.9          1.5\n",
              "3            5.5          2.3           4.0          1.3\n",
              "4            6.5          2.8           4.6          1.5\n",
              "..           ...          ...           ...          ...\n",
              "95           6.7          3.0           5.2          2.3\n",
              "96           6.3          2.5           5.0          1.9\n",
              "97           6.5          3.0           5.2          2.0\n",
              "98           6.2          3.4           5.4          2.3\n",
              "99           5.9          3.0           5.1          1.8\n",
              "\n",
              "[100 rows x 4 columns]"
            ]
          },
          "metadata": {
            "tags": []
          },
          "execution_count": 14
        }
      ]
    },
    {
      "cell_type": "code",
      "metadata": {
        "colab": {
          "base_uri": "https://localhost:8080/",
          "height": 283
        },
        "id": "I7d3_WIfW_Ef",
        "outputId": "e4f5c683-b8cb-4441-916c-80e920a3cba3"
      },
      "source": [
        "#Before Standard Scalling\r\n",
        "df.plot.kde()"
      ],
      "execution_count": 15,
      "outputs": [
        {
          "output_type": "execute_result",
          "data": {
            "text/plain": [
              "<matplotlib.axes._subplots.AxesSubplot at 0x7f42ac67fd68>"
            ]
          },
          "metadata": {
            "tags": []
          },
          "execution_count": 15
        },
        {
          "output_type": "display_data",
          "data": {
            "image/png": "[encoded data removed]",
            "text/plain": [
              "<Figure size 432x288 with 1 Axes>"
            ]
          },
          "metadata": {
            "tags": [],
            "needs_background": "light"
          }
        }
      ]
    },
    {
      "cell_type": "code",
      "metadata": {
        "colab": {
          "base_uri": "https://localhost:8080/",
          "height": 283
        },
        "id": "q9weZ9CXXCNX",
        "outputId": "a2611bac-2ad0-4933-b2dc-4b1f8e3afb7e"
      },
      "source": [
        "#After Standard Scalling\r\n",
        "pd.DataFrame(df_sc, columns = df.columns).plot.kde()"
      ],
      "execution_count": 16,
      "outputs": [
        {
          "output_type": "execute_result",
          "data": {
            "text/plain": [
              "<matplotlib.axes._subplots.AxesSubplot at 0x7f42ac678400>"
            ]
          },
          "metadata": {
            "tags": []
          },
          "execution_count": 16
        },
        {
          "output_type": "display_data",
          "data": {
            "image/png": "[encoded data removed]",
            "text/plain": [
              "<Figure size 432x288 with 1 Axes>"
            ]
          },
          "metadata": {
            "tags": [],
            "needs_background": "light"
          }
        }
      ]
    },
    {
      "cell_type": "markdown",
      "metadata": {
        "id": "ZaDuOe76Ynq1"
      },
      "source": [
        "### 4.2.2 Rescaling (min-max normalization) "
      ]
    },
    {
      "cell_type": "markdown",
      "metadata": {
        "id": "ZM2bdupIZMbM"
      },
      "source": [
        "![](https://wikimedia.org/api/rest_v1/media/math/render/svg/358923abc154221bb5022fc329061f6fc4dcc69f)\r\n",
        "\r\n",
        "Also known as min-max scaling or min-max normalization, is the simplest method and consists in rescaling the range of features to scale the range in [0, 1] or [−1, 1]. Selecting the target range depends on the nature of the data. Source : [Wikipedia](https://en.wikipedia.org/wiki/Feature_scaling)"
      ]
    },
    {
      "cell_type": "code",
      "metadata": {
        "id": "xUAXgIvcXlxE"
      },
      "source": [
        "from sklearn.preprocessing import MinMaxScaler\r\n",
        "mms = MinMaxScaler()\r\n",
        "df_mms = mms.fit_transform(df)"
      ],
      "execution_count": 17,
      "outputs": []
    },
    {
      "cell_type": "code",
      "metadata": {
        "colab": {
          "base_uri": "https://localhost:8080/",
          "height": 283
        },
        "id": "Y6-KPJqca3ti",
        "outputId": "7dbaa32d-c702-4e6c-b368-6d77f3e7678d"
      },
      "source": [
        "df.plot.kde()"
      ],
      "execution_count": 18,
      "outputs": [
        {
          "output_type": "execute_result",
          "data": {
            "text/plain": [
              "<matplotlib.axes._subplots.AxesSubplot at 0x7f42ac10f5c0>"
            ]
          },
          "metadata": {
            "tags": []
          },
          "execution_count": 18
        },
        {
          "output_type": "display_data",
          "data": {
            "image/png": "[encoded data removed]",
            "text/plain": [
              "<Figure size 432x288 with 1 Axes>"
            ]
          },
          "metadata": {
            "tags": [],
            "needs_background": "light"
          }
        }
      ]
    },
    {
      "cell_type": "code",
      "metadata": {
        "colab": {
          "base_uri": "https://localhost:8080/",
          "height": 283
        },
        "id": "N4prbim7Zzfd",
        "outputId": "47b15926-fd3e-409a-9c5d-795d51ab3ad1"
      },
      "source": [
        "pd.DataFrame(df_mms, columns = df.columns).plot.kde()"
      ],
      "execution_count": 19,
      "outputs": [
        {
          "output_type": "execute_result",
          "data": {
            "text/plain": [
              "<matplotlib.axes._subplots.AxesSubplot at 0x7f42ac034fd0>"
            ]
          },
          "metadata": {
            "tags": []
          },
          "execution_count": 19
        },
        {
          "output_type": "display_data",
          "data": {
            "image/png": "[encoded data removed]",
            "text/plain": [
              "<Figure size 432x288 with 1 Axes>"
            ]
          },
          "metadata": {
            "tags": [],
            "needs_background": "light"
          }
        }
      ]
    },
    {
      "cell_type": "markdown",
      "metadata": {
        "id": "UVw5cR1e5p_3"
      },
      "source": [
        "## 4.3 Pipeline"
      ]
    },
    {
      "cell_type": "markdown",
      "metadata": {
        "id": "dyKM3bjO5rdZ"
      },
      "source": [
        "Let's say you have created a perfect preprocessing step, but you got a new data for preprocessing, repeating each would be tiring, so the solution is to set a Pipeline"
      ]
    },
    {
      "cell_type": "markdown",
      "metadata": {
        "id": "5wpHHnRt5uOg"
      },
      "source": [
        "This is a Pipeline with Imputer, Feature Scalling, and simple predictor"
      ]
    },
    {
      "cell_type": "code",
      "metadata": {
        "id": "n4Mn1z3TazZR"
      },
      "source": [
        "from sklearn.pipeline import Pipeline\r\n",
        "\r\n",
        "#Define each steps\r\n",
        "df_pipeline = Pipeline([\r\n",
        "                (\"imputer\" , SimpleImputer(strategy=\"median\")),\r\n",
        "                (\"scaler\" , StandardScaler())\r\n",
        "\r\n",
        "                ])"
      ],
      "execution_count": 20,
      "outputs": []
    },
    {
      "cell_type": "code",
      "metadata": {
        "colab": {
          "base_uri": "https://localhost:8080/"
        },
        "id": "p-YYnjxv5zYt",
        "outputId": "187f753a-930a-4bcc-a01f-074bb5fd8d00"
      },
      "source": [
        "df_pipeline.fit_transform(df)"
      ],
      "execution_count": 21,
      "outputs": [
        {
          "output_type": "execute_result",
          "data": {
            "text/plain": [
              "array([[ 1.11900931,  0.99068792, -0.25077906, -0.65303909],\n",
              "       [ 0.20924564,  0.99068792, -0.49425387, -0.41643072],\n",
              "       [ 0.96738203,  0.68864892, -0.00730424, -0.41643072],\n",
              "       [-1.15539985, -1.72766308, -1.10294091, -0.88964745],\n",
              "       [ 0.36087292, -0.21746808, -0.37251647, -0.41643072],\n",
              "       [-0.8521453 , -0.21746808, -0.49425387, -0.88964745],\n",
              "       [ 0.05761837,  1.29272692, -0.25077906, -0.17982236],\n",
              "       [-2.06516352, -1.42562408, -1.95510276, -1.59947255],\n",
              "       [ 0.5125002 ,  0.08457092, -0.37251647, -0.88964745],\n",
              "       [-1.61028169, -0.51950708, -1.22467832, -0.65303909],\n",
              "       [-1.91353624, -2.63378009, -1.71162795, -1.59947255],\n",
              "       [-0.54889074,  0.38660992, -0.8594661 , -0.41643072],\n",
              "       [-0.39726347, -2.02970209, -1.10294091, -1.59947255],\n",
              "       [-0.24563619,  0.08457092, -0.25077906, -0.65303909],\n",
              "       [-1.00377258,  0.08457092, -1.58989054, -0.88964745],\n",
              "       [ 0.66412748,  0.68864892, -0.61599128, -0.65303909],\n",
              "       [-1.00377258,  0.38660992, -0.49425387, -0.41643072],\n",
              "       [-0.70051802, -0.51950708, -0.9812035 , -1.59947255],\n",
              "       [-0.09400891, -2.02970209, -0.49425387, -0.41643072],\n",
              "       [-1.00377258, -1.12358508, -1.22467832, -1.36286418],\n",
              "       [-0.54889074,  0.99068792, -0.12904165,  0.29339437],\n",
              "       [-0.24563619, -0.21746808, -1.10294091, -0.88964745],\n",
              "       [ 0.05761837, -1.12358508, -0.00730424, -0.41643072],\n",
              "       [-0.24563619, -0.21746808, -0.25077906, -1.12625582],\n",
              "       [ 0.20924564,  0.08457092, -0.73772869, -0.88964745],\n",
              "       [ 0.5125002 ,  0.38660992, -0.61599128, -0.65303909],\n",
              "       [ 0.81575475, -0.21746808, -0.12904165, -0.65303909],\n",
              "       [ 0.66412748,  0.38660992,  0.11443316,  0.05678601],\n",
              "       [-0.39726347,  0.08457092, -0.49425387, -0.41643072],\n",
              "       [-0.8521453 , -0.82154608, -1.71162795, -1.59947255],\n",
              "       [-1.15539985, -1.42562408, -1.34641572, -1.36286418],\n",
              "       [-1.15539985, -1.42562408, -1.46815313, -1.59947255],\n",
              "       [-0.70051802, -0.51950708, -1.22467832, -1.12625582],\n",
              "       [-0.39726347, -0.51950708,  0.23617057, -0.17982236],\n",
              "       [-1.30702713,  0.38660992, -0.49425387, -0.41643072],\n",
              "       [-0.39726347,  1.59476592, -0.49425387, -0.17982236],\n",
              "       [ 0.66412748,  0.68864892, -0.25077906, -0.41643072],\n",
              "       [ 0.05761837, -1.72766308, -0.61599128, -0.88964745],\n",
              "       [-1.00377258,  0.38660992, -0.9812035 , -0.88964745],\n",
              "       [-1.15539985, -1.12358508, -1.10294091, -0.88964745],\n",
              "       [-1.15539985, -0.82154608, -0.61599128, -1.12625582],\n",
              "       [-0.24563619,  0.38660992, -0.37251647, -0.65303909],\n",
              "       [-0.70051802, -0.82154608, -1.10294091, -1.12625582],\n",
              "       [-1.91353624, -1.72766308, -1.95510276, -1.59947255],\n",
              "       [-1.00377258, -0.51950708, -0.8594661 , -0.88964745],\n",
              "       [-0.8521453 ,  0.38660992, -0.8594661 , -1.12625582],\n",
              "       [-0.8521453 ,  0.08457092, -0.8594661 , -0.88964745],\n",
              "       [-0.09400891,  0.08457092, -0.73772869, -0.88964745],\n",
              "       [-1.76190896, -1.12358508, -2.32031498, -1.36286418],\n",
              "       [-0.8521453 , -0.21746808, -0.9812035 , -0.88964745],\n",
              "       [ 0.05761837,  1.29272692,  1.33180724,  1.94965293],\n",
              "       [-0.70051802, -0.51950708,  0.23617057,  0.53000274],\n",
              "       [ 1.27063658,  0.38660992,  1.21006983,  1.00321947],\n",
              "       [ 0.05761837,  0.08457092,  0.84485761,  0.29339437],\n",
              "       [ 0.36087292,  0.38660992,  1.08833242,  1.23982783],\n",
              "       [ 2.02877297,  0.38660992,  2.06223168,  1.00321947],\n",
              "       [-2.06516352, -1.12358508, -0.49425387,  0.05678601],\n",
              "       [ 1.57389114,  0.08457092,  1.69701946,  0.29339437],\n",
              "       [ 0.66412748, -1.12358508,  1.08833242,  0.29339437],\n",
              "       [ 1.42226386,  2.19884393,  1.45354464,  1.94965293],\n",
              "       [ 0.36087292,  0.99068792,  0.23617057,  0.7666111 ],\n",
              "       [ 0.20924564, -0.51950708,  0.47964538,  0.53000274],\n",
              "       [ 0.81575475,  0.38660992,  0.7231202 ,  1.00321947],\n",
              "       [-0.8521453 , -1.12358508,  0.11443316,  0.7666111 ],\n",
              "       [-0.70051802, -0.21746808,  0.23617057,  1.71304456],\n",
              "       [ 0.20924564,  0.99068792,  0.47964538,  1.4764362 ],\n",
              "       [ 0.36087292,  0.38660992,  0.7231202 ,  0.29339437],\n",
              "       [ 2.18040025,  2.80292193,  2.18396909,  1.23982783],\n",
              "       [ 2.18040025, -0.82154608,  2.4274439 ,  1.4764362 ],\n",
              "       [-0.39726347, -2.02970209,  0.11443316, -0.41643072],\n",
              "       [ 0.96738203,  0.99068792,  0.96659501,  1.4764362 ],\n",
              "       [-1.00377258, -0.21746808, -0.00730424,  0.7666111 ],\n",
              "       [ 2.18040025, -0.21746808,  2.18396909,  0.7666111 ],\n",
              "       [ 0.05761837, -0.51950708, -0.00730424,  0.29339437],\n",
              "       [ 0.66412748,  1.29272692,  0.96659501,  1.00321947],\n",
              "       [ 1.42226386,  0.99068792,  1.33180724,  0.29339437],\n",
              "       [-0.09400891, -0.21746808, -0.12904165,  0.29339437],\n",
              "       [-0.24563619,  0.38660992, -0.00730424,  0.29339437],\n",
              "       [ 0.20924564, -0.21746808,  0.84485761,  1.00321947],\n",
              "       [ 1.42226386,  0.38660992,  1.08833242, -0.17982236],\n",
              "       [ 1.72551842, -0.21746808,  1.45354464,  0.53000274],\n",
              "       [ 2.4836548 ,  2.80292193,  1.81875686,  0.7666111 ],\n",
              "       [ 0.20924564, -0.21746808,  0.84485761,  1.23982783],\n",
              "       [ 0.05761837, -0.21746808,  0.23617057, -0.41643072],\n",
              "       [-0.24563619, -0.82154608,  0.84485761, -0.65303909],\n",
              "       [ 2.18040025,  0.38660992,  1.45354464,  1.4764362 ],\n",
              "       [ 0.05761837,  1.59476592,  0.84485761,  1.71304456],\n",
              "       [ 0.20924564,  0.68864892,  0.7231202 ,  0.29339437],\n",
              "       [-0.39726347,  0.38660992, -0.12904165,  0.29339437],\n",
              "       [ 0.96738203,  0.68864892,  0.60138279,  1.00321947],\n",
              "       [ 0.66412748,  0.68864892,  0.84485761,  1.71304456],\n",
              "       [ 0.96738203,  0.68864892,  0.23617057,  1.4764362 ],\n",
              "       [-0.70051802, -0.51950708,  0.23617057,  0.53000274],\n",
              "       [ 0.81575475,  0.99068792,  1.21006983,  1.4764362 ],\n",
              "       [ 0.66412748,  1.29272692,  0.96659501,  1.94965293],\n",
              "       [ 0.66412748,  0.38660992,  0.35790798,  1.4764362 ],\n",
              "       [ 0.05761837, -1.12358508,  0.11443316,  0.53000274],\n",
              "       [ 0.36087292,  0.38660992,  0.35790798,  0.7666111 ],\n",
              "       [-0.09400891,  1.59476592,  0.60138279,  1.4764362 ],\n",
              "       [-0.54889074,  0.38660992,  0.23617057,  0.29339437]])"
            ]
          },
          "metadata": {
            "tags": []
          },
          "execution_count": 21
        }
      ]
    },
    {
      "cell_type": "code",
      "metadata": {
        "id": "K6HFZD2M6Fby"
      },
      "source": [
        "df_after_pipeline = pd.DataFrame(df_pipeline.fit_transform(df), columns = df.columns) "
      ],
      "execution_count": 22,
      "outputs": []
    },
    {
      "cell_type": "code",
      "metadata": {
        "colab": {
          "base_uri": "https://localhost:8080/",
          "height": 424
        },
        "id": "_LINK53460QB",
        "outputId": "43167e51-3bc2-4f49-b177-e03e38de56f8"
      },
      "source": [
        "df_after_pipeline"
      ],
      "execution_count": 23,
      "outputs": [
        {
          "output_type": "execute_result",
          "data": {
            "text/html": [
              "<div>\n",
              "<style scoped>\n",
              "    .dataframe tbody tr th:only-of-type {\n",
              "        vertical-align: middle;\n",
              "    }\n",
              "\n",
              "    .dataframe tbody tr th {\n",
              "        vertical-align: top;\n",
              "    }\n",
              "\n",
              "    .dataframe thead th {\n",
              "        text-align: right;\n",
              "    }\n",
              "</style>\n",
              "<table border=\"1\" class=\"dataframe\">\n",
              "  <thead>\n",
              "    <tr style=\"text-align: right;\">\n",
              "      <th></th>\n",
              "      <th>sepal_length</th>\n",
              "      <th>sepal_width</th>\n",
              "      <th>petal_length</th>\n",
              "      <th>petal_width</th>\n",
              "    </tr>\n",
              "  </thead>\n",
              "  <tbody>\n",
              "    <tr>\n",
              "      <th>0</th>\n",
              "      <td>1.119009</td>\n",
              "      <td>0.990688</td>\n",
              "      <td>-0.250779</td>\n",
              "      <td>-0.653039</td>\n",
              "    </tr>\n",
              "    <tr>\n",
              "      <th>1</th>\n",
              "      <td>0.209246</td>\n",
              "      <td>0.990688</td>\n",
              "      <td>-0.494254</td>\n",
              "      <td>-0.416431</td>\n",
              "    </tr>\n",
              "    <tr>\n",
              "      <th>2</th>\n",
              "      <td>0.967382</td>\n",
              "      <td>0.688649</td>\n",
              "      <td>-0.007304</td>\n",
              "      <td>-0.416431</td>\n",
              "    </tr>\n",
              "    <tr>\n",
              "      <th>3</th>\n",
              "      <td>-1.155400</td>\n",
              "      <td>-1.727663</td>\n",
              "      <td>-1.102941</td>\n",
              "      <td>-0.889647</td>\n",
              "    </tr>\n",
              "    <tr>\n",
              "      <th>4</th>\n",
              "      <td>0.360873</td>\n",
              "      <td>-0.217468</td>\n",
              "      <td>-0.372516</td>\n",
              "      <td>-0.416431</td>\n",
              "    </tr>\n",
              "    <tr>\n",
              "      <th>...</th>\n",
              "      <td>...</td>\n",
              "      <td>...</td>\n",
              "      <td>...</td>\n",
              "      <td>...</td>\n",
              "    </tr>\n",
              "    <tr>\n",
              "      <th>95</th>\n",
              "      <td>0.664127</td>\n",
              "      <td>0.386610</td>\n",
              "      <td>0.357908</td>\n",
              "      <td>1.476436</td>\n",
              "    </tr>\n",
              "    <tr>\n",
              "      <th>96</th>\n",
              "      <td>0.057618</td>\n",
              "      <td>-1.123585</td>\n",
              "      <td>0.114433</td>\n",
              "      <td>0.530003</td>\n",
              "    </tr>\n",
              "    <tr>\n",
              "      <th>97</th>\n",
              "      <td>0.360873</td>\n",
              "      <td>0.386610</td>\n",
              "      <td>0.357908</td>\n",
              "      <td>0.766611</td>\n",
              "    </tr>\n",
              "    <tr>\n",
              "      <th>98</th>\n",
              "      <td>-0.094009</td>\n",
              "      <td>1.594766</td>\n",
              "      <td>0.601383</td>\n",
              "      <td>1.476436</td>\n",
              "    </tr>\n",
              "    <tr>\n",
              "      <th>99</th>\n",
              "      <td>-0.548891</td>\n",
              "      <td>0.386610</td>\n",
              "      <td>0.236171</td>\n",
              "      <td>0.293394</td>\n",
              "    </tr>\n",
              "  </tbody>\n",
              "</table>\n",
              "<p>100 rows × 4 columns</p>\n",
              "</div>"
            ],
            "text/plain": [
              "    sepal_length  sepal_width  petal_length  petal_width\n",
              "0       1.119009     0.990688     -0.250779    -0.653039\n",
              "1       0.209246     0.990688     -0.494254    -0.416431\n",
              "2       0.967382     0.688649     -0.007304    -0.416431\n",
              "3      -1.155400    -1.727663     -1.102941    -0.889647\n",
              "4       0.360873    -0.217468     -0.372516    -0.416431\n",
              "..           ...          ...           ...          ...\n",
              "95      0.664127     0.386610      0.357908     1.476436\n",
              "96      0.057618    -1.123585      0.114433     0.530003\n",
              "97      0.360873     0.386610      0.357908     0.766611\n",
              "98     -0.094009     1.594766      0.601383     1.476436\n",
              "99     -0.548891     0.386610      0.236171     0.293394\n",
              "\n",
              "[100 rows x 4 columns]"
            ]
          },
          "metadata": {
            "tags": []
          },
          "execution_count": 23
        }
      ]
    },
    {
      "cell_type": "code",
      "metadata": {
        "colab": {
          "base_uri": "https://localhost:8080/",
          "height": 283
        },
        "id": "Rp4c2vxA640E",
        "outputId": "e0e1a248-f285-40f0-e2b4-0c8f046bb11c"
      },
      "source": [
        "#Before Pipeline\r\n",
        "df.plot.kde()"
      ],
      "execution_count": 24,
      "outputs": [
        {
          "output_type": "execute_result",
          "data": {
            "text/plain": [
              "<matplotlib.axes._subplots.AxesSubplot at 0x7f42abfba160>"
            ]
          },
          "metadata": {
            "tags": []
          },
          "execution_count": 24
        },
        {
          "output_type": "display_data",
          "data": {
            "image/png": "[encoded data removed]",
            "text/plain": [
              "<Figure size 432x288 with 1 Axes>"
            ]
          },
          "metadata": {
            "tags": [],
            "needs_background": "light"
          }
        }
      ]
    },
    {
      "cell_type": "code",
      "metadata": {
        "colab": {
          "base_uri": "https://localhost:8080/",
          "height": 283
        },
        "id": "9Cpz1ciK8dIg",
        "outputId": "9fa4f64f-cbd0-423d-ce76-e1742795b2a6"
      },
      "source": [
        "#After Pipeline\r\n",
        "df_after_pipeline.plot.kde()"
      ],
      "execution_count": 25,
      "outputs": [
        {
          "output_type": "execute_result",
          "data": {
            "text/plain": [
              "<matplotlib.axes._subplots.AxesSubplot at 0x7f42ac048f60>"
            ]
          },
          "metadata": {
            "tags": []
          },
          "execution_count": 25
        },
        {
          "output_type": "display_data",
          "data": {
            "image/png": "[encoded data removed]",
            "text/plain": [
              "<Figure size 432x288 with 1 Axes>"
            ]
          },
          "metadata": {
            "tags": [],
            "needs_background": "light"
          }
        }
      ]
    },
    {
      "cell_type": "code",
      "metadata": {
        "id": "I6Kab2Xk8hrW"
      },
      "source": [
        ""
      ],
      "execution_count": 25,
      "outputs": []
    }
  ]
}